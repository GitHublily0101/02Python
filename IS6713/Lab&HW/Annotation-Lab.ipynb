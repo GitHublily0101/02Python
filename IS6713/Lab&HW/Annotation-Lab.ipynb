{
 "cells": [
  {
   "cell_type": "markdown",
   "metadata": {},
   "source": [
    "# Python: Annotation\n",
    "\n",
    "Blank notebook to be used for class exercises.\n",
    "\n",
    "Name:\n",
    "\n",
    "abc123: "
   ]
  },
  {
   "cell_type": "markdown",
   "metadata": {},
   "source": [
    "## Exercise 1\n",
    "\n",
    "Complete the Sentiment Annotation Survey on Blackboard. \n"
   ]
  },
  {
   "cell_type": "markdown",
   "metadata": {},
   "source": [
    "## Exercise 2\n",
    "\n",
    "Judge the annotations in following Data:\n",
    "\n",
    "sentiment.txt\n",
    "\n",
    "You are the judge. Look over the annotations and come up with the following:\n",
    "- What is your judgment for the correct entity + sentiment annotation?\n",
    "- How would you amend the annotation guidelines to solicit more consistent annotations?\n",
    "\n",
    "While judging the annotations, keep track of them below:\n",
    "\n",
    "1. target: ISIS sentiment: Negative\n",
    "2. target: U.S. Senate sentiment: Negative\n",
    "3. target: Camp David sentiment: Unknown\n",
    "4. target: Sean Spicer sentiment: Positive\n",
    "5. target: WEST sentiment: Positive\n",
    "6. target: Fake News Media sentiment: positive\n",
    "7. target: Cincinnati sentiment: Negative\n",
    "8. target: Ivanka: Positive\n",
    "9. target: ISIS: Negative\n",
    "10. target: Emmanuel Macron sentiment: Positive\n",
    "11. target: VA State Police sentiment: Positive\n",
    "12. target: USS Fitzgerald sentiment: Positive\n",
    "13. target: Putin sentiment: Negative\n",
    "14. target: President Trump sentiment: Negative\n",
    "15. target: on Ossoff sentiment: Negative\n",
    "16. target: V.A. sentiment: Mixed\n",
    "17. target: @SecPriceMD sentiment: Unknown\n",
    "18. target: USA sentiment: Positive\n",
    "19. target: Corning sentiment: Positive\n",
    "20. target: NABTU: Positive\n",
    "\n",
    "How many of your judgements match the majority view?\n",
    "13"
   ]
  },
  {
   "cell_type": "markdown",
   "metadata": {},
   "source": [
    "## Exercise 3\n",
    "\n",
    "Manually calculate Cohen's kappa for the tables in the slides and put your answers below:\n",
    "\n",
    "Answers here"
   ]
  },
  {
   "cell_type": "code",
   "execution_count": 2,
   "metadata": {},
   "outputs": [
    {
     "name": "stdout",
     "output_type": "stream",
     "text": [
      "0.0\n"
     ]
    }
   ],
   "source": [
    "# WRITE CODE HERE\n",
    "po = 50/100\n",
    "\n",
    "p_a_puppy = 50/100\n",
    "p_a_chicken =50/100\n",
    "p_b_puppy = 50/100\n",
    "p_b_chicken =50/100\n",
    "\n",
    "pe= p_a_puppy*p_b_puppy + p_a_chicken*p_b_chicken\n",
    "\n",
    "kappa = (po-pe)/(1-pe)\n",
    "print(kappa)"
   ]
  },
  {
   "cell_type": "markdown",
   "metadata": {},
   "source": [
    "## Exercise 4\n",
    "\n",
    "Write code to calculate and print the cohen's kappa between rater1 and rater2.\n",
    "\n",
    "Hint: You will need to create the confusion matrix (matrix of how many times each rater agrees for each item)"
   ]
  },
  {
   "cell_type": "code",
   "execution_count": 4,
   "metadata": {},
   "outputs": [],
   "source": [
    "rater1 = ['yes','no','yes','yes','yes','yes','no','yes','yes']\n",
    "rater2 = ['yes','no','no','yes','yes','yes','yes','yes','yes']"
   ]
  },
  {
   "cell_type": "code",
   "execution_count": 70,
   "metadata": {},
   "outputs": [
    {
     "name": "stdout",
     "output_type": "stream",
     "text": [
      "0.35714285714285715\n"
     ]
    }
   ],
   "source": [
    "# WRITE CODE HERE\n",
    "counts= {}\n",
    "cnt_all=0\n",
    "\n",
    "for r1,r2 in zip(rater1,rater2):\n",
    "    counts['r1_'+r1+'_r2_'+r2] = counts.get('r1_'+r1+'_r2_'+r2,0)+1\n",
    "    cnt_all+=1\n",
    "po = (counts['r1_yes_r2_yes']+ counts['r1_no_r2_no'])/cnt_all   \n",
    "p_r1_yes =(counts['r1_yes_r2_yes']+counts['r1_yes_r2_no'])/cnt_all\n",
    "p_r1_no =(counts['r1_no_r2_yes']+counts['r1_no_r2_no'])/cnt_all\n",
    "p_r2_yes =(counts['r1_yes_r2_yes']+counts['r1_no_r2_yes'])/cnt_all\n",
    "p_r2_no =(counts['r1_no_r2_no'] +counts['r1_yes_r2_no'])/cnt_all\n",
    "pe =p_r1_yes*p_r2_yes+p_r1_no*p_r2_no\n",
    "kappa =(po-pe)/(1-pe)\n",
    "\n",
    "print(kappa)"
   ]
  },
  {
   "cell_type": "code",
   "execution_count": 76,
   "metadata": {},
   "outputs": [
    {
     "ename": "KeyError",
     "evalue": "'[a-z0-9]_yes[a-z0-9]'",
     "output_type": "error",
     "traceback": [
      "\u001b[0;31m---------------------------------------------------------------------------\u001b[0m",
      "\u001b[0;31mKeyError\u001b[0m                                  Traceback (most recent call last)",
      "\u001b[0;32m<ipython-input-76-9e6ea323e430>\u001b[0m in \u001b[0;36m<module>\u001b[0;34m\u001b[0m\n\u001b[0;32m----> 1\u001b[0;31m \u001b[0mcounts\u001b[0m\u001b[0;34m[\u001b[0m\u001b[0;34m'[a-z0-9]_yes[a-z0-9]'\u001b[0m\u001b[0;34m]\u001b[0m\u001b[0;34m\u001b[0m\u001b[0;34m\u001b[0m\u001b[0m\n\u001b[0m",
      "\u001b[0;31mKeyError\u001b[0m: '[a-z0-9]_yes[a-z0-9]'"
     ]
    }
   ],
   "source": []
  },
  {
   "cell_type": "code",
   "execution_count": null,
   "metadata": {},
   "outputs": [],
   "source": []
  }
 ],
 "metadata": {
  "kernelspec": {
   "display_name": "Python 3",
   "language": "python",
   "name": "python3"
  },
  "language_info": {
   "codemirror_mode": {
    "name": "ipython",
    "version": 3
   },
   "file_extension": ".py",
   "mimetype": "text/x-python",
   "name": "python",
   "nbconvert_exporter": "python",
   "pygments_lexer": "ipython3",
   "version": "3.8.8"
  }
 },
 "nbformat": 4,
 "nbformat_minor": 4
}
