{
 "cells": [
  {
   "cell_type": "markdown",
   "metadata": {},
   "source": [
    "# Python: More Data Annotation and Numpy\n",
    "\n",
    "Name:\n",
    "Liping He\n",
    "abc123:\n",
    "llt949\n",
    "Blank notebook to be used for class exercises."
   ]
  },
  {
   "cell_type": "markdown",
   "metadata": {},
   "source": [
    "## Exercise 1\n",
    "\n",
    "Given the provided numpy array, write code that prints the following:\n",
    "    \n",
    "- Print the third row of the array\n",
    "- Print the second column of the array\n",
    "- Print the fourth row's third column (this should print a single number)."
   ]
  },
  {
   "cell_type": "code",
   "execution_count": 2,
   "metadata": {},
   "outputs": [],
   "source": [
    "import numpy as np\n",
    "\n",
    "grades = [[79, 95, 60],\n",
    "          [95, 60, 61],\n",
    "          [99, 67, 84],\n",
    "          [76, 76, 97],\n",
    "          [91, 84, 98],\n",
    "          [70, 69, 96],\n",
    "          [88, 65, 76],\n",
    "          [67, 73, 80],\n",
    "          [82, 89, 61],\n",
    "          [94, 67, 88]] # \"grades\" is a list of lists.\n",
    "\n",
    "grades = np.array(grades) # Converts \"grades\" into a numpy array"
   ]
  },
  {
   "cell_type": "code",
   "execution_count": 3,
   "metadata": {},
   "outputs": [
    {
     "name": "stdout",
     "output_type": "stream",
     "text": [
      "[79 95]\n",
      "[95 60]\n",
      "[99 67]\n",
      "84.1 74.5 80.1\n"
     ]
    }
   ],
   "source": [
    "# Write Code Here\n",
    "m0_sum = 0\n",
    "m1_sum = 0\n",
    "f_sum = 0\n",
    "for g in grades[:3]:\n",
    "    print(g[:2])\n",
    "for g in grades:\n",
    "    m0_sum += g[0]\n",
    "    m1_sum += g[1]\n",
    "    f_sum += g[2]\n",
    "    \n",
    "ns = len(grades)\n",
    "print(m0_sum/ns, m1_sum/ns, f_sum/ns)"
   ]
  },
  {
   "cell_type": "code",
   "execution_count": 8,
   "metadata": {},
   "outputs": [
    {
     "name": "stdout",
     "output_type": "stream",
     "text": [
      "[79 95 60]\n"
     ]
    }
   ],
   "source": [
    "print(grades[0])"
   ]
  },
  {
   "cell_type": "markdown",
   "metadata": {},
   "source": [
    "## Exercise 2\n",
    "\n",
    "Given the provided array in the Lab file, write code the prints the following:\n",
    "\n",
    "- The average grade per test (column) (this should print an array with 3 items)\n",
    "- The average grade per row, i.e., the average test grade per student\n",
    "- Print the max grade per test\n",
    "- Print the average across all students (rows) and tests (columns)"
   ]
  },
  {
   "cell_type": "code",
   "execution_count": 8,
   "metadata": {},
   "outputs": [
    {
     "name": "stdout",
     "output_type": "stream",
     "text": [
      "[[79 95]\n",
      " [95 60]\n",
      " [99 67]]\n"
     ]
    }
   ],
   "source": [
    "import numpy as np\n",
    "\n",
    "grades = [[79, 95, 60],\n",
    "          [95, 60, 61],\n",
    "          [99, 67, 84],\n",
    "          [76, 76, 97],\n",
    "          [91, 84, 98],\n",
    "          [70, 69, 96],\n",
    "          [88, 65, 76],\n",
    "          [67, 73, 80],\n",
    "          [82, 89, 61],\n",
    "          [94, 67, 88]] # \"grades\" is a list of lists.\n",
    "\n",
    "grades = np.array(grades) # Converts \"grades\" into a numpy array\n",
    "print(grades[:3,:2])"
   ]
  },
  {
   "cell_type": "code",
   "execution_count": 9,
   "metadata": {},
   "outputs": [
    {
     "name": "stdout",
     "output_type": "stream",
     "text": [
      "[84.1 74.5 80.1]\n",
      "[78.         72.         83.33333333 83.         91.         78.33333333\n",
      " 76.33333333 73.33333333 77.33333333 83.        ]\n",
      "[99 95 98]\n",
      "79.56666666666666\n"
     ]
    }
   ],
   "source": [
    "# Write Code Here\n",
    "# Write Code Here\n",
    "print(grades.mean(axis=0)) #per col\n",
    "print(grades.mean(axis=1)) #per row\n",
    "print(grades.max(axis=0))\n",
    "print(grades.mean())"
   ]
  },
  {
   "cell_type": "markdown",
   "metadata": {},
   "source": [
    "## Exercise 3\n",
    "\n",
    "Write code that prints the grades of all students that have an average grade less than 90."
   ]
  },
  {
   "cell_type": "code",
   "execution_count": 10,
   "metadata": {},
   "outputs": [],
   "source": [
    "import numpy as np\n",
    "\n",
    "grades = [[79, 95, 60],\n",
    "          [95, 60, 61],\n",
    "          [99, 67, 84],\n",
    "          [76, 76, 97],\n",
    "          [91, 84, 98],\n",
    "          [70, 69, 96],\n",
    "          [88, 65, 76],\n",
    "          [67, 73, 80],\n",
    "          [82, 89, 61],\n",
    "          [94, 67, 88]] # \"grades\" is a list of lists.\n",
    "\n",
    "grades = np.array(grades) # Converts \"grades\" into a numpy array"
   ]
  },
  {
   "cell_type": "code",
   "execution_count": 11,
   "metadata": {},
   "outputs": [
    {
     "name": "stdout",
     "output_type": "stream",
     "text": [
      "[78.         72.         83.33333333 83.         91.         78.33333333\n",
      " 76.33333333 73.33333333 77.33333333 83.        ]\n",
      "[ True  True  True  True False  True  True  True  True  True]\n",
      "[[79 95 60]\n",
      " [95 60 61]\n",
      " [99 67 84]\n",
      " [76 76 97]\n",
      " [70 69 96]\n",
      " [88 65 76]\n",
      " [67 73 80]\n",
      " [82 89 61]\n",
      " [94 67 88]]\n"
     ]
    }
   ],
   "source": [
    "avg = grades.mean(axis=1)\n",
    "print(avg)\n",
    "bool_index = avg <90\n",
    "print(bool_index)\n",
    "print(grades[bool_index, :])"
   ]
  },
  {
   "cell_type": "markdown",
   "metadata": {},
   "source": [
    "## Exercise 4\n",
    "\n",
    "Write code to adds 10 points every student's test grade **if** their average test grade is greater than 90."
   ]
  },
  {
   "cell_type": "code",
   "execution_count": 5,
   "metadata": {},
   "outputs": [],
   "source": [
    "import numpy as np\n",
    "\n",
    "grades = [[79, 95, 60],\n",
    "          [95, 60, 61],\n",
    "          [99, 67, 84],\n",
    "          [76, 76, 97],\n",
    "          [91, 84, 98],\n",
    "          [70, 69, 96],\n",
    "          [88, 65, 76],\n",
    "          [67, 73, 80],\n",
    "          [82, 89, 61],\n",
    "          [94, 67, 88]] # \"grades\" is a list of lists.\n",
    "\n",
    "grades = np.array(grades) # Converts \"grades\" into a numpy array"
   ]
  },
  {
   "cell_type": "code",
   "execution_count": 13,
   "metadata": {},
   "outputs": [
    {
     "name": "stdout",
     "output_type": "stream",
     "text": [
      "[False False False False  True False False False False False]\n"
     ]
    },
    {
     "data": {
      "text/plain": [
       "array([[ 79,  95,  60],\n",
       "       [ 95,  60,  61],\n",
       "       [ 99,  67,  84],\n",
       "       [ 76,  76,  97],\n",
       "       [101,  94, 108],\n",
       "       [ 70,  69,  96],\n",
       "       [ 88,  65,  76],\n",
       "       [ 67,  73,  80],\n",
       "       [ 82,  89,  61],\n",
       "       [ 94,  67,  88]])"
      ]
     },
     "execution_count": 13,
     "metadata": {},
     "output_type": "execute_result"
    }
   ],
   "source": [
    "# Write Code Here\n",
    "new_grades = grades.copy()\n",
    "index_bool = grades.mean(axis=1) >90\n",
    "print(index_bool)\n",
    "\n",
    "new_grades[index_bool]+=10\n",
    "new_grades"
   ]
  },
  {
   "cell_type": "markdown",
   "metadata": {},
   "source": [
    "## Exercise 5\n",
    "\n",
    "Write a function that takes two 1-dimensional arrays as input and returns the euclidean distance between the two arrays.\n",
    "\n",
    "Euclidean distance is defined as\n",
    "\n",
    "$EDist = \\sqrt{(x_0 - v_0)^2 + (x_1 - v_1)^2 + \\dots + (x_{D-1} - v_{D-1})^2}$\n",
    "\n",
    "The square root of a number in numpy can be calculated as np.sqrt(x), where x is a number or array.\n",
    "\n",
    "Try to complete this exercise with for loops and with vector notation."
   ]
  },
  {
   "cell_type": "code",
   "execution_count": 45,
   "metadata": {},
   "outputs": [
    {
     "name": "stdout",
     "output_type": "stream",
     "text": [
      "8.0 8.0\n"
     ]
    }
   ],
   "source": [
    "# Write Code Here\n",
    "def edist1(x,y):\n",
    "    score = 0\n",
    "    for i, j in zip(x,y):\n",
    "        score +=(i-j)**2\n",
    "    return score**0.5\n",
    "\n",
    "def edist2(x,y):\n",
    "    return np.sqrt(((x-y)**2).sum())\n",
    "    \n",
    "    \n",
    "x = np.array([1,2,3,4])\n",
    "y = np.array([5,6,7,8])  \n",
    "             \n",
    "print(edist1(x,y), edist2(x,y))"
   ]
  },
  {
   "cell_type": "markdown",
   "metadata": {},
   "source": [
    "## Exercise 6\n",
    "\n",
    "Write code to load the data in the \"iris.csv\" into numpy arrays.\n",
    "\n",
    "The frst 4 columns are the features/attributes. The last column is the\n",
    "class. Simply load the class as a list of strings. Don't forget to convert the\n",
    "dataset into a numpy array. You can use either DictVectorizer or the CSV\n",
    "method on the previous slide to load the features."
   ]
  },
  {
   "cell_type": "code",
   "execution_count": 1,
   "metadata": {},
   "outputs": [
    {
     "name": "stdout",
     "output_type": "stream",
     "text": [
      "5.1,3.5,1.4,0.2,Iris-setosa\n",
      "4.9,3.0,1.4,0.2,Iris-setosa\n",
      "4.7,3.2,1.3,0.2,Iris-setosa\n",
      "4.6,3.1,1.5,0.2,Iris-setosa\n",
      "5.0,3.6,1.4,0.2,Iris-setosa\n",
      "5.4,3.9,1.7,0.4,Iris-setosa\n",
      "4.6,3.4,1.4,0.3,Iris-setosa\n",
      "5.0,3.4,1.5,0.2,Iris-setosa\n",
      "4.4,2.9,1.4,0.2,Iris-setosa\n",
      "4.9,3.1,1.5,0.1,Iris-setosa\n"
     ]
    }
   ],
   "source": [
    "with open('./iris.csv') as in_file:\n",
    "    count = 0\n",
    "    for row in in_file:\n",
    "        print(row.strip())\n",
    "        count += 1\n",
    "        if count == 10:\n",
    "            break"
   ]
  },
  {
   "cell_type": "code",
   "execution_count": 3,
   "metadata": {},
   "outputs": [
    {
     "name": "stdout",
     "output_type": "stream",
     "text": [
      "(150, 4)\n",
      "(150,)\n"
     ]
    }
   ],
   "source": [
    "# Write code here\n",
    "import numpy as np\n",
    "import csv\n",
    "\n",
    "x =[]\n",
    "y = []\n",
    "my_file = open('iris.csv')\n",
    "iCSV = csv.reader(my_file, delimiter =',')\n",
    "for row in iCSV:\n",
    "    x.append([float(x) for x in row[:-1]])\n",
    "    y.append(row[-1])\n",
    "my_file.close\n",
    "x= np.array(x)\n",
    "y= np.array(y)\n",
    "print(x.shape)\n",
    "print(y.shape)"
   ]
  },
  {
   "cell_type": "code",
   "execution_count": 5,
   "metadata": {},
   "outputs": [
    {
     "name": "stdout",
     "output_type": "stream",
     "text": [
      "[[5.1 3.5 1.4 0.2]\n",
      " [4.9 3.  1.4 0.2]\n",
      " [4.7 3.2 1.3 0.2]\n",
      " [4.6 3.1 1.5 0.2]\n",
      " [5.  3.6 1.4 0.2]\n",
      " [5.4 3.9 1.7 0.4]\n",
      " [4.6 3.4 1.4 0.3]\n",
      " [5.  3.4 1.5 0.2]\n",
      " [4.4 2.9 1.4 0.2]\n",
      " [4.9 3.1 1.5 0.1]\n",
      " [5.4 3.7 1.5 0.2]\n",
      " [4.8 3.4 1.6 0.2]\n",
      " [4.8 3.  1.4 0.1]\n",
      " [4.3 3.  1.1 0.1]\n",
      " [5.8 4.  1.2 0.2]\n",
      " [5.7 4.4 1.5 0.4]\n",
      " [5.4 3.9 1.3 0.4]\n",
      " [5.1 3.5 1.4 0.3]\n",
      " [5.7 3.8 1.7 0.3]\n",
      " [5.1 3.8 1.5 0.3]\n",
      " [5.4 3.4 1.7 0.2]\n",
      " [5.1 3.7 1.5 0.4]\n",
      " [4.6 3.6 1.  0.2]\n",
      " [5.1 3.3 1.7 0.5]\n",
      " [4.8 3.4 1.9 0.2]\n",
      " [5.  3.  1.6 0.2]\n",
      " [5.  3.4 1.6 0.4]\n",
      " [5.2 3.5 1.5 0.2]\n",
      " [5.2 3.4 1.4 0.2]\n",
      " [4.7 3.2 1.6 0.2]\n",
      " [4.8 3.1 1.6 0.2]\n",
      " [5.4 3.4 1.5 0.4]\n",
      " [5.2 4.1 1.5 0.1]\n",
      " [5.5 4.2 1.4 0.2]\n",
      " [4.9 3.1 1.5 0.1]\n",
      " [5.  3.2 1.2 0.2]\n",
      " [5.5 3.5 1.3 0.2]\n",
      " [4.9 3.1 1.5 0.1]\n",
      " [4.4 3.  1.3 0.2]\n",
      " [5.1 3.4 1.5 0.2]\n",
      " [5.  3.5 1.3 0.3]\n",
      " [4.5 2.3 1.3 0.3]\n",
      " [4.4 3.2 1.3 0.2]\n",
      " [5.  3.5 1.6 0.6]\n",
      " [5.1 3.8 1.9 0.4]\n",
      " [4.8 3.  1.4 0.3]\n",
      " [5.1 3.8 1.6 0.2]\n",
      " [4.6 3.2 1.4 0.2]\n",
      " [5.3 3.7 1.5 0.2]\n",
      " [5.  3.3 1.4 0.2]\n",
      " [7.  3.2 4.7 1.4]\n",
      " [6.4 3.2 4.5 1.5]\n",
      " [6.9 3.1 4.9 1.5]\n",
      " [5.5 2.3 4.  1.3]\n",
      " [6.5 2.8 4.6 1.5]\n",
      " [5.7 2.8 4.5 1.3]\n",
      " [6.3 3.3 4.7 1.6]\n",
      " [4.9 2.4 3.3 1. ]\n",
      " [6.6 2.9 4.6 1.3]\n",
      " [5.2 2.7 3.9 1.4]\n",
      " [5.  2.  3.5 1. ]\n",
      " [5.9 3.  4.2 1.5]\n",
      " [6.  2.2 4.  1. ]\n",
      " [6.1 2.9 4.7 1.4]\n",
      " [5.6 2.9 3.6 1.3]\n",
      " [6.7 3.1 4.4 1.4]\n",
      " [5.6 3.  4.5 1.5]\n",
      " [5.8 2.7 4.1 1. ]\n",
      " [6.2 2.2 4.5 1.5]\n",
      " [5.6 2.5 3.9 1.1]\n",
      " [5.9 3.2 4.8 1.8]\n",
      " [6.1 2.8 4.  1.3]\n",
      " [6.3 2.5 4.9 1.5]\n",
      " [6.1 2.8 4.7 1.2]\n",
      " [6.4 2.9 4.3 1.3]\n",
      " [6.6 3.  4.4 1.4]\n",
      " [6.8 2.8 4.8 1.4]\n",
      " [6.7 3.  5.  1.7]\n",
      " [6.  2.9 4.5 1.5]\n",
      " [5.7 2.6 3.5 1. ]\n",
      " [5.5 2.4 3.8 1.1]\n",
      " [5.5 2.4 3.7 1. ]\n",
      " [5.8 2.7 3.9 1.2]\n",
      " [6.  2.7 5.1 1.6]\n",
      " [5.4 3.  4.5 1.5]\n",
      " [6.  3.4 4.5 1.6]\n",
      " [6.7 3.1 4.7 1.5]\n",
      " [6.3 2.3 4.4 1.3]\n",
      " [5.6 3.  4.1 1.3]\n",
      " [5.5 2.5 4.  1.3]\n",
      " [5.5 2.6 4.4 1.2]\n",
      " [6.1 3.  4.6 1.4]\n",
      " [5.8 2.6 4.  1.2]\n",
      " [5.  2.3 3.3 1. ]\n",
      " [5.6 2.7 4.2 1.3]\n",
      " [5.7 3.  4.2 1.2]\n",
      " [5.7 2.9 4.2 1.3]\n",
      " [6.2 2.9 4.3 1.3]\n",
      " [5.1 2.5 3.  1.1]\n",
      " [5.7 2.8 4.1 1.3]\n",
      " [6.3 3.3 6.  2.5]\n",
      " [5.8 2.7 5.1 1.9]\n",
      " [7.1 3.  5.9 2.1]\n",
      " [6.3 2.9 5.6 1.8]\n",
      " [6.5 3.  5.8 2.2]\n",
      " [7.6 3.  6.6 2.1]\n",
      " [4.9 2.5 4.5 1.7]\n",
      " [7.3 2.9 6.3 1.8]\n",
      " [6.7 2.5 5.8 1.8]\n",
      " [7.2 3.6 6.1 2.5]\n",
      " [6.5 3.2 5.1 2. ]\n",
      " [6.4 2.7 5.3 1.9]\n",
      " [6.8 3.  5.5 2.1]\n",
      " [5.7 2.5 5.  2. ]\n",
      " [5.8 2.8 5.1 2.4]\n",
      " [6.4 3.2 5.3 2.3]\n",
      " [6.5 3.  5.5 1.8]\n",
      " [7.7 3.8 6.7 2.2]\n",
      " [7.7 2.6 6.9 2.3]\n",
      " [6.  2.2 5.  1.5]\n",
      " [6.9 3.2 5.7 2.3]\n",
      " [5.6 2.8 4.9 2. ]\n",
      " [7.7 2.8 6.7 2. ]\n",
      " [6.3 2.7 4.9 1.8]\n",
      " [6.7 3.3 5.7 2.1]\n",
      " [7.2 3.2 6.  1.8]\n",
      " [6.2 2.8 4.8 1.8]\n",
      " [6.1 3.  4.9 1.8]\n",
      " [6.4 2.8 5.6 2.1]\n",
      " [7.2 3.  5.8 1.6]\n",
      " [7.4 2.8 6.1 1.9]\n",
      " [7.9 3.8 6.4 2. ]\n",
      " [6.4 2.8 5.6 2.2]\n",
      " [6.3 2.8 5.1 1.5]\n",
      " [6.1 2.6 5.6 1.4]\n",
      " [7.7 3.  6.1 2.3]\n",
      " [6.3 3.4 5.6 2.4]\n",
      " [6.4 3.1 5.5 1.8]\n",
      " [6.  3.  4.8 1.8]\n",
      " [6.9 3.1 5.4 2.1]\n",
      " [6.7 3.1 5.6 2.4]\n",
      " [6.9 3.1 5.1 2.3]\n",
      " [5.8 2.7 5.1 1.9]\n",
      " [6.8 3.2 5.9 2.3]\n",
      " [6.7 3.3 5.7 2.5]\n",
      " [6.7 3.  5.2 2.3]\n",
      " [6.3 2.5 5.  1.9]\n",
      " [6.5 3.  5.2 2. ]\n",
      " [6.2 3.4 5.4 2.3]\n",
      " [5.9 3.  5.1 1.8]]\n"
     ]
    }
   ],
   "source": [
    "print(x)"
   ]
  },
  {
   "cell_type": "code",
   "execution_count": 17,
   "metadata": {},
   "outputs": [
    {
     "ename": "NameError",
     "evalue": "name 'csv' is not defined",
     "output_type": "error",
     "traceback": [
      "\u001b[0;31m---------------------------------------------------------------------------\u001b[0m",
      "\u001b[0;31mNameError\u001b[0m                                 Traceback (most recent call last)",
      "\u001b[0;32m<ipython-input-17-a3b3c179ba86>\u001b[0m in \u001b[0;36m<module>\u001b[0;34m\u001b[0m\n\u001b[1;32m      3\u001b[0m \u001b[0my\u001b[0m \u001b[0;34m=\u001b[0m \u001b[0;34m[\u001b[0m\u001b[0;34m]\u001b[0m\u001b[0;34m\u001b[0m\u001b[0;34m\u001b[0m\u001b[0m\n\u001b[1;32m      4\u001b[0m \u001b[0mmy_file\u001b[0m \u001b[0;34m=\u001b[0m \u001b[0mopen\u001b[0m\u001b[0;34m(\u001b[0m\u001b[0;34m'./iris.csv'\u001b[0m\u001b[0;34m)\u001b[0m\u001b[0;34m\u001b[0m\u001b[0;34m\u001b[0m\u001b[0m\n\u001b[0;32m----> 5\u001b[0;31m \u001b[0miCSV\u001b[0m \u001b[0;34m=\u001b[0m \u001b[0mcsv\u001b[0m\u001b[0;34m.\u001b[0m\u001b[0mreader\u001b[0m\u001b[0;34m(\u001b[0m\u001b[0mmy_file\u001b[0m\u001b[0;34m,\u001b[0m \u001b[0mdelimiter\u001b[0m \u001b[0;34m=\u001b[0m\u001b[0;34m','\u001b[0m\u001b[0;34m)\u001b[0m\u001b[0;34m\u001b[0m\u001b[0;34m\u001b[0m\u001b[0m\n\u001b[0m\u001b[1;32m      6\u001b[0m \u001b[0;32mfor\u001b[0m \u001b[0mrow\u001b[0m \u001b[0;32min\u001b[0m \u001b[0miCSV\u001b[0m\u001b[0;34m:\u001b[0m\u001b[0;34m\u001b[0m\u001b[0;34m\u001b[0m\u001b[0m\n\u001b[1;32m      7\u001b[0m     features = {'col_1':float(row[0]),\n",
      "\u001b[0;31mNameError\u001b[0m: name 'csv' is not defined"
     ]
    }
   ],
   "source": [
    "from sklearn.feature_extraction import DictVectorizer\n",
    "x_list_dic =[]\n",
    "y = []\n",
    "my_file = open('./iris.csv')\n",
    "iCSV = csv.reader(my_file, delimiter =',')\n",
    "for row in iCSV:\n",
    "    features = {'col_1':float(row[0]),\n",
    "                'col_2':float(row[1]),\n",
    "                'col_3':float(row[2]),\n",
    "                'col_4':float(row[3])}\n",
    "    x_list_dic.append(features)\n",
    "    y.append(row[-1])\n",
    "my_file.close\n",
    "vec = DictVectorizer(sparse = False)\n",
    "\n",
    "x = vec.fit_transform(x_list_dic)\n",
    "y= np.array(y)\n",
    "print(x.shape)\n",
    "print(y.shape)\n",
    "vec.feature_names_"
   ]
  },
  {
   "cell_type": "code",
   "execution_count": 2,
   "metadata": {},
   "outputs": [],
   "source": [
    "import numpy as np\n",
    "b = np.array([[1,2,3],[4,5,6]])"
   ]
  },
  {
   "cell_type": "code",
   "execution_count": 3,
   "metadata": {},
   "outputs": [
    {
     "data": {
      "text/plain": [
       "array([[1, 2, 3],\n",
       "       [4, 5, 6]])"
      ]
     },
     "execution_count": 3,
     "metadata": {},
     "output_type": "execute_result"
    }
   ],
   "source": [
    "b"
   ]
  },
  {
   "cell_type": "code",
   "execution_count": 4,
   "metadata": {},
   "outputs": [
    {
     "name": "stdout",
     "output_type": "stream",
     "text": [
      "[2.5 3.5 4.5]\n"
     ]
    }
   ],
   "source": [
    "print(b.mean(axis=0))"
   ]
  },
  {
   "cell_type": "code",
   "execution_count": 6,
   "metadata": {},
   "outputs": [],
   "source": [
    "import numpy as np\n",
    "\n",
    "grades = [[79, 95, 60],\n",
    "          [95, 60, 61],\n",
    "          [99, 67, 84],\n",
    "          [76, 76, 97],\n",
    "          [91, 84, 98],\n",
    "          [70, 69, 96],\n",
    "          [88, 65, 76],\n",
    "          [67, 73, 80],\n",
    "          [82, 89, 61],\n",
    "          [94, 67, 88]] # \"grades\" is a list of lists.\n",
    "\n",
    "grades = np.array(grades) # Converts \"grades\" into a numpy array"
   ]
  },
  {
   "cell_type": "code",
   "execution_count": 11,
   "metadata": {},
   "outputs": [
    {
     "data": {
      "text/plain": [
       "array([[79, 95, 60],\n",
       "       [95, 60, 61],\n",
       "       [82, 89, 61]])"
      ]
     },
     "execution_count": 11,
     "metadata": {},
     "output_type": "execute_result"
    }
   ],
   "source": [
    "grades[grades[:,2]<70]"
   ]
  },
  {
   "cell_type": "code",
   "execution_count": 12,
   "metadata": {},
   "outputs": [],
   "source": [
    "scaling = [1.1, 1.05, 1.03]"
   ]
  },
  {
   "cell_type": "code",
   "execution_count": 14,
   "metadata": {},
   "outputs": [
    {
     "data": {
      "text/plain": [
       "array([[1.1 , 0.  , 0.  ],\n",
       "       [0.  , 1.05, 0.  ],\n",
       "       [0.  , 0.  , 1.03]])"
      ]
     },
     "execution_count": 14,
     "metadata": {},
     "output_type": "execute_result"
    }
   ],
   "source": [
    "np.diag(scaling)"
   ]
  },
  {
   "cell_type": "code",
   "execution_count": 15,
   "metadata": {},
   "outputs": [
    {
     "data": {
      "text/plain": [
       "array([[ 86.9 ,  99.75,  61.8 ],\n",
       "       [104.5 ,  63.  ,  62.83],\n",
       "       [108.9 ,  70.35,  86.52],\n",
       "       [ 83.6 ,  79.8 ,  99.91],\n",
       "       [100.1 ,  88.2 , 100.94],\n",
       "       [ 77.  ,  72.45,  98.88],\n",
       "       [ 96.8 ,  68.25,  78.28],\n",
       "       [ 73.7 ,  76.65,  82.4 ],\n",
       "       [ 90.2 ,  93.45,  62.83],\n",
       "       [103.4 ,  70.35,  90.64]])"
      ]
     },
     "execution_count": 15,
     "metadata": {},
     "output_type": "execute_result"
    }
   ],
   "source": [
    "grades.dot(np.diag(scaling))"
   ]
  },
  {
   "cell_type": "code",
   "execution_count": 16,
   "metadata": {},
   "outputs": [
    {
     "data": {
      "text/plain": [
       "array([[ 80., 100.,  61.],\n",
       "       [ 96.,  63.,  62.],\n",
       "       [100.,  71.,  86.],\n",
       "       [ 77.,  80.,  99.],\n",
       "       [ 92.,  88., 100.],\n",
       "       [ 71.,  73.,  98.],\n",
       "       [ 89.,  68.,  78.],\n",
       "       [ 68.,  77.,  82.],\n",
       "       [ 83.,  94.,  62.],\n",
       "       [ 95.,  71.,  90.]])"
      ]
     },
     "execution_count": 16,
     "metadata": {},
     "output_type": "execute_result"
    }
   ],
   "source": [
    "grades.max(axis=0)\n",
    "maxInExam = grades.max(axis=0)\n",
    "grades.dot(np.diag(100/maxInExam)).round()"
   ]
  },
  {
   "cell_type": "code",
   "execution_count": 29,
   "metadata": {},
   "outputs": [],
   "source": [
    "grades.sort()\n"
   ]
  },
  {
   "cell_type": "code",
   "execution_count": 30,
   "metadata": {},
   "outputs": [
    {
     "data": {
      "text/plain": [
       "array([[60, 79, 95],\n",
       "       [60, 61, 95],\n",
       "       [67, 84, 99],\n",
       "       [76, 76, 97],\n",
       "       [84, 91, 98],\n",
       "       [69, 70, 96],\n",
       "       [65, 76, 88],\n",
       "       [67, 73, 80],\n",
       "       [61, 82, 89],\n",
       "       [67, 88, 94]])"
      ]
     },
     "execution_count": 30,
     "metadata": {},
     "output_type": "execute_result"
    }
   ],
   "source": [
    "grades"
   ]
  },
  {
   "cell_type": "code",
   "execution_count": 33,
   "metadata": {},
   "outputs": [],
   "source": [
    "a = [1, 1, 1]\n",
    "b = [1, 1, 1]\n",
    "a = np.array(a)\n",
    "b = np.array(b)"
   ]
  },
  {
   "cell_type": "code",
   "execution_count": 35,
   "metadata": {},
   "outputs": [
    {
     "data": {
      "text/plain": [
       "array([0, 0, 0])"
      ]
     },
     "execution_count": 35,
     "metadata": {},
     "output_type": "execute_result"
    }
   ],
   "source": [
    "a-b"
   ]
  },
  {
   "cell_type": "code",
   "execution_count": 36,
   "metadata": {},
   "outputs": [
    {
     "data": {
      "text/plain": [
       "3"
      ]
     },
     "execution_count": 36,
     "metadata": {},
     "output_type": "execute_result"
    }
   ],
   "source": [
    "np.size(a)"
   ]
  },
  {
   "cell_type": "code",
   "execution_count": 38,
   "metadata": {},
   "outputs": [],
   "source": [
    "\n",
    "a = np.array([[1, 1],[2, 1]])\n",
    "b = np.array([[1, 1],[2, 1]])"
   ]
  },
  {
   "cell_type": "code",
   "execution_count": 40,
   "metadata": {},
   "outputs": [
    {
     "data": {
      "text/plain": [
       "30"
      ]
     },
     "execution_count": 40,
     "metadata": {},
     "output_type": "execute_result"
    }
   ],
   "source": [
    "np.size(grades)"
   ]
  },
  {
   "cell_type": "code",
   "execution_count": 42,
   "metadata": {},
   "outputs": [],
   "source": [
    "a = [[79, 95],\n",
    "          [95, 60],\n",
    "          [99, 67],\n",
    "          [76, 76],\n",
    "          [91, 84],\n",
    "          [70, 69],\n",
    "          [88, 65],\n",
    "          [67, 73],\n",
    "          [82, 89],\n",
    "          [94, 67]]"
   ]
  },
  {
   "cell_type": "code",
   "execution_count": 48,
   "metadata": {},
   "outputs": [],
   "source": [
    "b= [[79, 95],\n",
    "          [95, 60],\n",
    "          [99, 67],\n",
    "          [76, 76],[91, 84]]"
   ]
  },
  {
   "cell_type": "code",
   "execution_count": 49,
   "metadata": {},
   "outputs": [],
   "source": [
    "a= np.array(a)\n",
    "b = np.array(b)"
   ]
  },
  {
   "cell_type": "code",
   "execution_count": 47,
   "metadata": {},
   "outputs": [
    {
     "ename": "ValueError",
     "evalue": "shapes (10,2) and (5,2) not aligned: 2 (dim 1) != 5 (dim 0)",
     "output_type": "error",
     "traceback": [
      "\u001b[0;31m---------------------------------------------------------------------------\u001b[0m",
      "\u001b[0;31mValueError\u001b[0m                                Traceback (most recent call last)",
      "\u001b[0;32m<ipython-input-47-ac6884f5cff1>\u001b[0m in \u001b[0;36m<module>\u001b[0;34m\u001b[0m\n\u001b[0;32m----> 1\u001b[0;31m \u001b[0ma\u001b[0m\u001b[0;34m.\u001b[0m\u001b[0mdot\u001b[0m\u001b[0;34m(\u001b[0m\u001b[0mb\u001b[0m\u001b[0;34m)\u001b[0m\u001b[0;34m\u001b[0m\u001b[0;34m\u001b[0m\u001b[0m\n\u001b[0m",
      "\u001b[0;31mValueError\u001b[0m: shapes (10,2) and (5,2) not aligned: 2 (dim 1) != 5 (dim 0)"
     ]
    }
   ],
   "source": [
    "a.dot(b)"
   ]
  },
  {
   "cell_type": "code",
   "execution_count": null,
   "metadata": {},
   "outputs": [],
   "source": []
  }
 ],
 "metadata": {
  "kernelspec": {
   "display_name": "Python 3",
   "language": "python",
   "name": "python3"
  },
  "language_info": {
   "codemirror_mode": {
    "name": "ipython",
    "version": 3
   },
   "file_extension": ".py",
   "mimetype": "text/x-python",
   "name": "python",
   "nbconvert_exporter": "python",
   "pygments_lexer": "ipython3",
   "version": "3.8.8"
  }
 },
 "nbformat": 4,
 "nbformat_minor": 4
}
