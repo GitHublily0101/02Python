{
 "cells": [
  {
   "cell_type": "markdown",
   "metadata": {},
   "source": [
    "# Python as a Programming Language\n",
    "\n",
    "Blank notebook to be used for lab\n",
    "exercises.\n",
    "\n",
    "**Name**: Lily He"
   ]
  },
  {
   "cell_type": "markdown",
   "metadata": {},
   "source": [
    "## Exercise 1: Putting it all together\n",
    "\n",
    "Write a program that does the following:\n",
    "\n",
    "- Prints the numbers 1 to 100\n",
    "- For the  numbers 10 to 25 (including 10 and 25), instead of printing the number, print the word \"cheese\".\n",
    "- For numbers 55 to 100 (including 55, but not including 100), instead of printing the number, print the word \"cake\".\n",
    "- For 100 print the word \"Done!\".\n",
    "\n",
    "**Important Python concepts:** print(), if, elif, else, for"
   ]
  },
  {
   "cell_type": "code",
   "execution_count": 1,
   "metadata": {},
   "outputs": [
    {
     "name": "stdout",
     "output_type": "stream",
     "text": [
      "1\n",
      "2\n",
      "3\n",
      "4\n",
      "5\n",
      "6\n",
      "7\n",
      "8\n",
      "9\n",
      "cheese\n",
      "cheese\n",
      "cheese\n",
      "cheese\n",
      "cheese\n",
      "cheese\n",
      "cheese\n",
      "cheese\n",
      "cheese\n",
      "cheese\n",
      "cheese\n",
      "cheese\n",
      "cheese\n",
      "cheese\n",
      "cheese\n",
      "cheese\n",
      "26\n",
      "27\n",
      "28\n",
      "29\n",
      "30\n",
      "31\n",
      "32\n",
      "33\n",
      "34\n",
      "35\n",
      "36\n",
      "37\n",
      "38\n",
      "39\n",
      "40\n",
      "41\n",
      "42\n",
      "43\n",
      "44\n",
      "45\n",
      "46\n",
      "47\n",
      "48\n",
      "49\n",
      "50\n",
      "51\n",
      "52\n",
      "53\n",
      "54\n",
      "cake\n",
      "cake\n",
      "cake\n",
      "cake\n",
      "cake\n",
      "cake\n",
      "cake\n",
      "cake\n",
      "cake\n",
      "cake\n",
      "cake\n",
      "cake\n",
      "cake\n",
      "cake\n",
      "cake\n",
      "cake\n",
      "cake\n",
      "cake\n",
      "cake\n",
      "cake\n",
      "cake\n",
      "cake\n",
      "cake\n",
      "cake\n",
      "cake\n",
      "cake\n",
      "cake\n",
      "cake\n",
      "cake\n",
      "cake\n",
      "cake\n",
      "cake\n",
      "cake\n",
      "cake\n",
      "cake\n",
      "cake\n",
      "cake\n",
      "cake\n",
      "cake\n",
      "cake\n",
      "cake\n",
      "cake\n",
      "cake\n",
      "cake\n",
      "cake\n",
      "Done!\n"
     ]
    }
   ],
   "source": [
    "# Write code here\n",
    "for i in range(1,101):\n",
    "    if  10 <=i<=25:\n",
    "        print('cheese')\n",
    "    elif 55 <= i <100:\n",
    "        print('cake')\n",
    "    elif i== 100:\n",
    "        print('Done!')\n",
    "    else:\n",
    "        print(i)"
   ]
  },
  {
   "cell_type": "markdown",
   "metadata": {},
   "source": [
    "## Exercise 2\n",
    "\n",
    "Write a program which repeatedly reads numbers until the user enters “done”. Once “done” is entered, print out the total, count, and average of the numbers. If the user enters anything other than a number, detect their mistake using try and except and print an error message and skip to the next number.\n",
    "\n",
    "What the code should look like when running:\n",
    "```\n",
    "Enter a number: 4\n",
    "Enter a number: 5\n",
    "Enter a number: bad data\n",
    "Invalid input\n",
    "Enter a number: 7\n",
    "Enter a number: done\n",
    "16 3 5.33333333333\n",
    "```\n",
    "\n",
    "**Important Python concepts:** print(), try, except, break, while"
   ]
  },
  {
   "cell_type": "code",
   "execution_count": 2,
   "metadata": {},
   "outputs": [
    {
     "name": "stdout",
     "output_type": "stream",
     "text": [
      "Please enter a number: 1\n",
      "Please enter a number: 2\n",
      "Please enter a number: 3\n",
      "Please enter a number: d\n",
      "bad data\n",
      "Invalid number\n",
      "Please enter a number: done\n",
      "6.0,3,2.0\n"
     ]
    }
   ],
   "source": [
    "total =0\n",
    "cnt =0\n",
    "while True:\n",
    "    try:\n",
    "        num = input('Please enter a number: ')\n",
    "        num = float(num)\n",
    "        cnt +=1\n",
    "        total += num\n",
    "    except:\n",
    "        if num !='done':\n",
    "            print('bad data')\n",
    "            print('Invalid input')\n",
    "        else:\n",
    "            break\n",
    "print('{},{},{}'.format(total, cnt, total/cnt))"
   ]
  },
  {
   "cell_type": "markdown",
   "metadata": {},
   "source": [
    "## Exercise 3\n",
    "\n",
    "Write a program that counts how many times each letter appears in a string. The counts for each character should be stored in a dictionary where the character is the key and the value is the count. Print the dictionary at the end.\n",
    "\n",
    "Given the string **'aaabbc'**, the output should be a dictionary **{'a':3, 'b':2, 'c':1}**.\n",
    "\n",
    "We are effectively computing a histogram, which is a statistical term for a set of counters (or frequencies).\n",
    "\n",
    "**Important Python concepts:** dict ({}), for"
   ]
  },
  {
   "cell_type": "code",
   "execution_count": 2,
   "metadata": {},
   "outputs": [],
   "source": [
    "word = 'brontosaurus'"
   ]
  },
  {
   "cell_type": "code",
   "execution_count": 14,
   "metadata": {},
   "outputs": [],
   "source": [
    "# Write code to count the number of times each character appears in \"brontosaurus\" here\n",
    "char_counts={}\n",
    "for char in word:\n",
    "    if char in char_counts:\n",
    "        char_counts[char] += 1\n",
    "    else:\n",
    "        char_counts[char] = 1"
   ]
  },
  {
   "cell_type": "code",
   "execution_count": 15,
   "metadata": {},
   "outputs": [
    {
     "name": "stdout",
     "output_type": "stream",
     "text": [
      "[dict_keys(['b', 'r', 'o', 'n', 't', 's', 'a', 'u']), dict_values([1, 2, 2, 1, 1, 2, 1, 2])]\n"
     ]
    }
   ],
   "source": [
    "# Print dictionary here\n",
    "print([char_counts.keys(),char_counts.values()])"
   ]
  },
  {
   "cell_type": "code",
   "execution_count": 16,
   "metadata": {},
   "outputs": [
    {
     "name": "stdout",
     "output_type": "stream",
     "text": [
      "3 divided by 3 is 1.0.\n",
      "6 divided by 3 is 2.0.\n",
      "9 divided by 3 is 3.0.\n",
      "12 divided by 3 is 4.0.\n",
      "15 divided by 3 is 5.0.\n"
     ]
    }
   ],
   "source": [
    "for i in range(3, 16, 3):\n",
    "    quotient = i / 3\n",
    "    print(f\"{i} divided by 3 is {quotient}.\")"
   ]
  },
  {
   "cell_type": "code",
   "execution_count": null,
   "metadata": {},
   "outputs": [],
   "source": [
    "#nested dicitonary\n",
    "d = {}\n",
    "d['dict1'] = {}\n",
    "d['dict1']['innerkey'] = 'value'\n",
    "d['dict1']['innerkey2'] = 'value2'\n",
    "\n",
    "d"
   ]
  },
  {
   "cell_type": "code",
   "execution_count": 17,
   "metadata": {},
   "outputs": [
    {
     "name": "stdout",
     "output_type": "stream",
     "text": [
      "{1: {2: {3: {4: {}}}}}\n"
     ]
    }
   ],
   "source": [
    "num_list = [1, 2, 3, 4]\n",
    "new_dict = current = {}\n",
    "for name in num_list:\n",
    "    current[name] = {}\n",
    "    current = current[name]\n",
    "print(new_dict)"
   ]
  },
  {
   "cell_type": "code",
   "execution_count": 1,
   "metadata": {},
   "outputs": [
    {
     "name": "stdout",
     "output_type": "stream",
     "text": [
      "{}\n"
     ]
    }
   ],
   "source": [
    "num_list = [1, 2, 3, 4]\n",
    "new_dict = {}\n",
    "for name in num_list:\n",
    "    new_dict[name] = {}\n",
    "    new_dict = new_dict[name]\n",
    "print(new_dict)"
   ]
  },
  {
   "cell_type": "code",
   "execution_count": null,
   "metadata": {},
   "outputs": [],
   "source": []
  }
 ],
 "metadata": {
  "kernelspec": {
   "display_name": "Python 3",
   "language": "python",
   "name": "python3"
  },
  "language_info": {
   "codemirror_mode": {
    "name": "ipython",
    "version": 3
   },
   "file_extension": ".py",
   "mimetype": "text/x-python",
   "name": "python",
   "nbconvert_exporter": "python",
   "pygments_lexer": "ipython3",
   "version": "3.8.8"
  }
 },
 "nbformat": 4,
 "nbformat_minor": 4
}
