{
 "cells": [
  {
   "cell_type": "markdown",
   "metadata": {},
   "source": [
    "# Machine Learning Case Study\n",
    "\n",
    "Name:\n",
    "\n",
    "abc123:\n",
    "\n",
    "Blank notebook to be used for class exercises."
   ]
  },
  {
   "cell_type": "markdown",
   "metadata": {},
   "source": [
    "## Real Example using Week 8's Material"
   ]
  },
  {
   "cell_type": "code",
   "execution_count": 32,
   "metadata": {},
   "outputs": [
    {
     "name": "stdout",
     "output_type": "stream",
     "text": [
      "10000 10000\n",
      "Age 38.9218\n",
      "Balance 76485.88928799961\n",
      "CreditScore 650.5288\n",
      "EstimatedSalary 100090.2398809998\n",
      "Gender=Female 0.4543\n",
      "Gender=Male 0.5457\n",
      "Geography=France 0.5014\n",
      "Geography=Germany 0.2509\n",
      "Geography=Spain 0.2477\n",
      "HasCrCard 0.7055\n",
      "IsActiveMember 0.5151\n",
      "NumOfProducts 1.5302\n",
      "Tenure 5.0128\n",
      "\n",
      "0.2037\n",
      "(8000, 13) (2000, 13)\n"
     ]
    },
    {
     "data": {
      "text/plain": [
       "GridSearchCV(cv=2, estimator=RandomForestClassifier(),\n",
       "             param_grid={'n_estimators': [10, 100]}, scoring='f1')"
      ]
     },
     "execution_count": 32,
     "metadata": {},
     "output_type": "execute_result"
    }
   ],
   "source": [
    "# Read the data and convert data to matrix\n",
    "import csv\n",
    "import numpy as np\n",
    "from sklearn.feature_extraction import DictVectorizer\n",
    "from sklearn.model_selection import train_test_split, GridSearchCV\n",
    "from sklearn.svm import LinearSVC\n",
    "X_dicts =[]\n",
    "y=[]\n",
    "myFile = open('churn.csv')\n",
    "iCSV = csv.reader(myFile,delimiter =',')\n",
    "header = next(iCSV)\n",
    "for row in iCSV:\n",
    "    y.append(int(row[-1]))\n",
    "    new_dict ={}\n",
    "    new_dict[header[3]] = float(row[3])\n",
    "    new_dict[header[4]] = row[4]\n",
    "    new_dict[header[5]] = row[5]\n",
    "    for h,i in zip(header[6:-1],row[6:-1]):\n",
    "        new_dict[h] = float(i)\n",
    "    #print(new_dict)\n",
    "    X_dicts.append(new_dict)\n",
    "\n",
    "myFile.close()\n",
    "print(len(y),len(X_dicts))\n",
    "\n",
    "vec = DictVectorizer(sparse=False)\n",
    "X= vec.fit_transform(X_dicts)\n",
    "#print(X.shape)\n",
    "#print(vec.feature_names_)\n",
    "y = np.array(y)\n",
    "# Explore Data\n",
    "#print(X.mean(axis=0))\n",
    "#stats = np.mean(X, axis =0)\n",
    "stats = X.mean(axis =0)\n",
    "for f,x in zip(vec.feature_names_,stats):\n",
    "    print(f,x)\n",
    "\n",
    "print()\n",
    "print(y.mean())\n",
    "# Train model on Data\n",
    "X_train, X_test, y_train, y_test = train_test_split(X,y, test_size = 0.2,random_state =42)\n",
    "print(X_train.shape, X_test.shape)\n",
    "\n",
    "from sklearn.ensemble import RandomForestClassifier\n",
    "#params = {'C':[0.1,1.]}\n",
    "#svc = LinearSVC()\n",
    "params = {'n_estimators':[10,100]}\n",
    "rf = RandomForestClassifier()\n",
    "clf_rf = GridSearchCV(svc, params, scoring='f1', cv =2)\n",
    "clf_rf.fit(X_train, y_train)\n",
    "# Evaluate model\n"
   ]
  },
  {
   "cell_type": "raw",
   "metadata": {},
   "source": []
  },
  {
   "cell_type": "code",
   "execution_count": 20,
   "metadata": {},
   "outputs": [
    {
     "data": {
      "text/plain": [
       "{'n_estimators': 100}"
      ]
     },
     "execution_count": 20,
     "metadata": {},
     "output_type": "execute_result"
    }
   ],
   "source": [
    "clf.best_params_"
   ]
  },
  {
   "cell_type": "code",
   "execution_count": 34,
   "metadata": {},
   "outputs": [
    {
     "data": {
      "text/plain": [
       "0.86075"
      ]
     },
     "execution_count": 34,
     "metadata": {},
     "output_type": "execute_result"
    }
   ],
   "source": [
    "clf.best_score_"
   ]
  },
  {
   "cell_type": "code",
   "execution_count": 33,
   "metadata": {},
   "outputs": [
    {
     "name": "stdout",
     "output_type": "stream",
     "text": [
      "RF:0.5768\n",
      "SVM:0.5884\n"
     ]
    }
   ],
   "source": [
    "from sklearn.metrics import accuracy_score, f1_score\n",
    "rf_preds = clf_rf.predict(X_test)\n",
    "svm_preds = clf.predict(X_test)\n",
    "\n",
    "rf_f1 = f1_score(y_test, rf_preds)\n",
    "\n",
    "svm_f1= f1_score(y_test,svm_preds)\n",
    "\n",
    "print(\"RF:{:.4f}\".format(rf_f1))\n",
    "print(\"SVM:{:.4f}\".format(svm_f1))"
   ]
  },
  {
   "cell_type": "code",
   "execution_count": null,
   "metadata": {},
   "outputs": [],
   "source": []
  }
 ],
 "metadata": {
  "kernelspec": {
   "display_name": "Python 3",
   "language": "python",
   "name": "python3"
  },
  "language_info": {
   "codemirror_mode": {
    "name": "ipython",
    "version": 3
   },
   "file_extension": ".py",
   "mimetype": "text/x-python",
   "name": "python",
   "nbconvert_exporter": "python",
   "pygments_lexer": "ipython3",
   "version": "3.8.8"
  }
 },
 "nbformat": 4,
 "nbformat_minor": 4
}
