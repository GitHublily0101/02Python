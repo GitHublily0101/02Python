{
  "nbformat": 4,
  "nbformat_minor": 0,
  "metadata": {
    "colab": {
      "name": "IS6733-L2b-Pandas.ipynb",
      "provenance": [],
      "collapsed_sections": []
    },
    "kernelspec": {
      "name": "python3",
      "display_name": "Python 3"
    }
  },
  "cells": [
    {
      "cell_type": "code",
      "metadata": {
        "id": "hI38R6Eh9QQ8",
        "colab": {
          "base_uri": "https://localhost:8080/"
        },
        "outputId": "96a7a2c8-085f-42c3-ac77-ce407c7c516d"
      },
      "source": [
        "!pip install pandas"
      ],
      "execution_count": null,
      "outputs": [
        {
          "output_type": "stream",
          "text": [
            "Requirement already satisfied: pandas in /usr/local/lib/python3.6/dist-packages (1.1.5)\n",
            "Requirement already satisfied: numpy>=1.15.4 in /usr/local/lib/python3.6/dist-packages (from pandas) (1.19.5)\n",
            "Requirement already satisfied: pytz>=2017.2 in /usr/local/lib/python3.6/dist-packages (from pandas) (2018.9)\n",
            "Requirement already satisfied: python-dateutil>=2.7.3 in /usr/local/lib/python3.6/dist-packages (from pandas) (2.8.1)\n",
            "Requirement already satisfied: six>=1.5 in /usr/local/lib/python3.6/dist-packages (from python-dateutil>=2.7.3->pandas) (1.15.0)\n"
          ],
          "name": "stdout"
        }
      ]
    },
    {
      "cell_type": "code",
      "metadata": {
        "id": "OHNDNs-B_R18"
      },
      "source": [
        "import pandas as pd"
      ],
      "execution_count": null,
      "outputs": []
    },
    {
      "cell_type": "markdown",
      "metadata": {
        "id": "JwirZrFy_6Os"
      },
      "source": [
        "# **Creating Series from Scratch**"
      ]
    },
    {
      "cell_type": "markdown",
      "metadata": {
        "id": "Dx-0juxfABK6"
      },
      "source": [
        "***A Pandas Series is a one-dimensional array of indexed data. It can be created from a list or array as follows:***"
      ]
    },
    {
      "cell_type": "code",
      "metadata": {
        "id": "8ZvnnjUhAQB1",
        "colab": {
          "base_uri": "https://localhost:8080/"
        },
        "outputId": "041082d3-74fa-48ab-8c3c-2e2ea5e3229f"
      },
      "source": [
        "data = pd.Series([0.25, 0.5, 0.75, 1.0])\n",
        "data"
      ],
      "execution_count": null,
      "outputs": [
        {
          "output_type": "execute_result",
          "data": {
            "text/plain": [
              "0    0.25\n",
              "1    0.50\n",
              "2    0.75\n",
              "3    1.00\n",
              "dtype: float64"
            ]
          },
          "metadata": {
            "tags": []
          },
          "execution_count": 183
        }
      ]
    },
    {
      "cell_type": "markdown",
      "metadata": {
        "id": "BdWsZB_IAwPA"
      },
      "source": [
        "***As we see in the output, the Series wraps both a sequence of values and a sequence of indices, which we can access with the values and index attributes.***"
      ]
    },
    {
      "cell_type": "code",
      "metadata": {
        "id": "qfuwA-icA3Ee",
        "colab": {
          "base_uri": "https://localhost:8080/"
        },
        "outputId": "35a9bf1d-e228-443a-a062-6ed41c8ff91b"
      },
      "source": [
        "data.values"
      ],
      "execution_count": null,
      "outputs": [
        {
          "output_type": "execute_result",
          "data": {
            "text/plain": [
              "array([0.25, 0.5 , 0.75, 1.  ])"
            ]
          },
          "metadata": {
            "tags": []
          },
          "execution_count": 184
        }
      ]
    },
    {
      "cell_type": "code",
      "metadata": {
        "id": "T5CCerJPA8Er",
        "colab": {
          "base_uri": "https://localhost:8080/"
        },
        "outputId": "858e1c8b-3cf8-4841-a98c-285a5366320f"
      },
      "source": [
        "data.index"
      ],
      "execution_count": null,
      "outputs": [
        {
          "output_type": "execute_result",
          "data": {
            "text/plain": [
              "RangeIndex(start=0, stop=4, step=1)"
            ]
          },
          "metadata": {
            "tags": []
          },
          "execution_count": 185
        }
      ]
    },
    {
      "cell_type": "code",
      "metadata": {
        "id": "jqe0kLZaA_EM",
        "colab": {
          "base_uri": "https://localhost:8080/"
        },
        "outputId": "d66c555c-3461-4209-b5d5-fb3ec915ac3c"
      },
      "source": [
        "data[1]"
      ],
      "execution_count": null,
      "outputs": [
        {
          "output_type": "execute_result",
          "data": {
            "text/plain": [
              "0.5"
            ]
          },
          "metadata": {
            "tags": []
          },
          "execution_count": 186
        }
      ]
    },
    {
      "cell_type": "code",
      "metadata": {
        "id": "Qv4YI-yXBCHG",
        "colab": {
          "base_uri": "https://localhost:8080/"
        },
        "outputId": "fca3729f-4eb6-4d93-b48a-1494e18a5405"
      },
      "source": [
        "data[1:3]"
      ],
      "execution_count": null,
      "outputs": [
        {
          "output_type": "execute_result",
          "data": {
            "text/plain": [
              "1    0.50\n",
              "2    0.75\n",
              "dtype: float64"
            ]
          },
          "metadata": {
            "tags": []
          },
          "execution_count": 187
        }
      ]
    },
    {
      "cell_type": "markdown",
      "metadata": {
        "id": "J60KNco8BNBt"
      },
      "source": [
        "# **Series as generalized NumPy array**"
      ]
    },
    {
      "cell_type": "markdown",
      "metadata": {
        "id": "Tdk-REMrBT_c"
      },
      "source": [
        "***While the NumPy Array has an implicitly defined integer index used to access the values, the Pandas Series has anexplicitly definedindex associated with the values.***"
      ]
    },
    {
      "cell_type": "code",
      "metadata": {
        "id": "FIIwojY6BQx7",
        "colab": {
          "base_uri": "https://localhost:8080/"
        },
        "outputId": "e116f72a-ef60-43f1-b661-0dfa106fe0e7"
      },
      "source": [
        "data = pd.Series([0.25, 0.5, 0.75, 1.0],\n",
        "                 index=['a', 'b', 'c', 'd' ])\n",
        "data"
      ],
      "execution_count": null,
      "outputs": [
        {
          "output_type": "execute_result",
          "data": {
            "text/plain": [
              "a    0.25\n",
              "b    0.50\n",
              "c    0.75\n",
              "d    1.00\n",
              "dtype: float64"
            ]
          },
          "metadata": {
            "tags": []
          },
          "execution_count": 188
        }
      ]
    },
    {
      "cell_type": "code",
      "metadata": {
        "id": "ku9LimfKCAke",
        "colab": {
          "base_uri": "https://localhost:8080/"
        },
        "outputId": "97afae31-618f-4cd1-df78-723b1816286d"
      },
      "source": [
        "data['b']"
      ],
      "execution_count": null,
      "outputs": [
        {
          "output_type": "execute_result",
          "data": {
            "text/plain": [
              "0.5"
            ]
          },
          "metadata": {
            "tags": []
          },
          "execution_count": 189
        }
      ]
    },
    {
      "cell_type": "code",
      "metadata": {
        "id": "zgWoloUHCEPp",
        "colab": {
          "base_uri": "https://localhost:8080/"
        },
        "outputId": "08741538-2f08-4af7-e36b-8d211941c4af"
      },
      "source": [
        "data = pd.Series([0.25, 0.5, 0.75, 1.0],\n",
        "                  index=[2, 5, 3, 7])\n",
        "data"
      ],
      "execution_count": null,
      "outputs": [
        {
          "output_type": "execute_result",
          "data": {
            "text/plain": [
              "2    0.25\n",
              "5    0.50\n",
              "3    0.75\n",
              "7    1.00\n",
              "dtype: float64"
            ]
          },
          "metadata": {
            "tags": []
          },
          "execution_count": 190
        }
      ]
    },
    {
      "cell_type": "code",
      "metadata": {
        "id": "3akKO8siCYoO",
        "colab": {
          "base_uri": "https://localhost:8080/"
        },
        "outputId": "c8afb3df-2237-47c0-90cf-951ce2a8658e"
      },
      "source": [
        "data[5]"
      ],
      "execution_count": null,
      "outputs": [
        {
          "output_type": "execute_result",
          "data": {
            "text/plain": [
              "0.5"
            ]
          },
          "metadata": {
            "tags": []
          },
          "execution_count": 191
        }
      ]
    },
    {
      "cell_type": "markdown",
      "metadata": {
        "id": "yOUIaMYCDJXJ"
      },
      "source": [
        "# **Series as specialized dictionary**"
      ]
    },
    {
      "cell_type": "markdown",
      "metadata": {
        "id": "C8A8fYPdDPCA"
      },
      "source": [
        "***A dictionary is a structure that maps arbitrary keys to a set of arbitrary values, and a Series is a structure which maps typed keys to a set of typed values.***"
      ]
    },
    {
      "cell_type": "code",
      "metadata": {
        "id": "MuTIPRIzDWVU",
        "colab": {
          "base_uri": "https://localhost:8080/"
        },
        "outputId": "c3ca9cf0-9112-4bb6-926b-c146afdad035"
      },
      "source": [
        "population_dicts = {'California': 38332521,\n",
        "                    'Texas': 26448193,\n",
        "                    'New York': 19651127,\n",
        "                    'Florida': 19552860,\n",
        "                    'Illinois': 12882135}\n",
        "population = pd.Series(population_dicts)\n",
        "population"
      ],
      "execution_count": null,
      "outputs": [
        {
          "output_type": "execute_result",
          "data": {
            "text/plain": [
              "California    38332521\n",
              "Texas         26448193\n",
              "New York      19651127\n",
              "Florida       19552860\n",
              "Illinois      12882135\n",
              "dtype: int64"
            ]
          },
          "metadata": {
            "tags": []
          },
          "execution_count": 192
        }
      ]
    },
    {
      "cell_type": "code",
      "metadata": {
        "id": "7-m2S3ZSEQWT",
        "colab": {
          "base_uri": "https://localhost:8080/"
        },
        "outputId": "4c386606-87ab-429f-9a9c-f5098a86c8ef"
      },
      "source": [
        "population['California']"
      ],
      "execution_count": null,
      "outputs": [
        {
          "output_type": "execute_result",
          "data": {
            "text/plain": [
              "38332521"
            ]
          },
          "metadata": {
            "tags": []
          },
          "execution_count": 193
        }
      ]
    },
    {
      "cell_type": "code",
      "metadata": {
        "id": "BlToXPSmEU7d",
        "colab": {
          "base_uri": "https://localhost:8080/"
        },
        "outputId": "d39464cf-c6b2-4b67-e4ad-11655fabce18"
      },
      "source": [
        "population['California':'Illinois']"
      ],
      "execution_count": null,
      "outputs": [
        {
          "output_type": "execute_result",
          "data": {
            "text/plain": [
              "California    38332521\n",
              "Texas         26448193\n",
              "New York      19651127\n",
              "Florida       19552860\n",
              "Illinois      12882135\n",
              "dtype: int64"
            ]
          },
          "metadata": {
            "tags": []
          },
          "execution_count": 194
        }
      ]
    },
    {
      "cell_type": "markdown",
      "metadata": {
        "id": "rYnsvA9jFMvi"
      },
      "source": [
        "**Constructing Series objects**\n",
        "\n",
        "*pd.Series(data, index=index)*\n",
        "\n",
        "where **index** is an optional argument, and **data** can be one of many entities"
      ]
    },
    {
      "cell_type": "markdown",
      "metadata": {
        "id": "DjYZh6LcF5Mt"
      },
      "source": [
        "For example, **data** can be a list or NumPy array, in which case **index** defaults to an integer sequence:"
      ]
    },
    {
      "cell_type": "code",
      "metadata": {
        "id": "-vH36KRLFRs_",
        "colab": {
          "base_uri": "https://localhost:8080/"
        },
        "outputId": "684c835e-54a5-4d8a-92db-db10a6988bb1"
      },
      "source": [
        "pd.Series([2, 4, 6])"
      ],
      "execution_count": null,
      "outputs": [
        {
          "output_type": "execute_result",
          "data": {
            "text/plain": [
              "0    2\n",
              "1    4\n",
              "2    6\n",
              "dtype: int64"
            ]
          },
          "metadata": {
            "tags": []
          },
          "execution_count": 195
        }
      ]
    },
    {
      "cell_type": "markdown",
      "metadata": {
        "id": "g_jc7xpFGfSK"
      },
      "source": [
        "**data** can be a scalar, which is repeated to fill the specified index:"
      ]
    },
    {
      "cell_type": "code",
      "metadata": {
        "id": "2nPZ_KNQGsND",
        "colab": {
          "base_uri": "https://localhost:8080/"
        },
        "outputId": "6747fa22-7946-4f87-f2ca-1a290372a3aa"
      },
      "source": [
        "pd.Series(5, index=[100, 200, 300])"
      ],
      "execution_count": null,
      "outputs": [
        {
          "output_type": "execute_result",
          "data": {
            "text/plain": [
              "100    5\n",
              "200    5\n",
              "300    5\n",
              "dtype: int64"
            ]
          },
          "metadata": {
            "tags": []
          },
          "execution_count": 196
        }
      ]
    },
    {
      "cell_type": "markdown",
      "metadata": {
        "id": "bRFThxkXG2QL"
      },
      "source": [
        "**data** can be a dictionary"
      ]
    },
    {
      "cell_type": "code",
      "metadata": {
        "id": "XFy_tmHqG7K8",
        "colab": {
          "base_uri": "https://localhost:8080/"
        },
        "outputId": "ee6d26f4-e97b-4eeb-e23e-6b487729ddd1"
      },
      "source": [
        "pd.Series({2:'a', 1:'b', 3:'c'})"
      ],
      "execution_count": null,
      "outputs": [
        {
          "output_type": "execute_result",
          "data": {
            "text/plain": [
              "2    a\n",
              "1    b\n",
              "3    c\n",
              "dtype: object"
            ]
          },
          "metadata": {
            "tags": []
          },
          "execution_count": 197
        }
      ]
    },
    {
      "cell_type": "markdown",
      "metadata": {
        "id": "WMTE-G66HX_6"
      },
      "source": [
        "In each case, the index can be explicitly set if a different result is preferred:"
      ]
    },
    {
      "cell_type": "code",
      "metadata": {
        "id": "_m4DfPgqHiGy",
        "colab": {
          "base_uri": "https://localhost:8080/"
        },
        "outputId": "9dd219df-7dfa-4089-fa37-1c5502af6109"
      },
      "source": [
        "pd.Series({2:'a', 1:'b', 3:'c'}, index=[3, 2])"
      ],
      "execution_count": null,
      "outputs": [
        {
          "output_type": "execute_result",
          "data": {
            "text/plain": [
              "3    c\n",
              "2    a\n",
              "dtype: object"
            ]
          },
          "metadata": {
            "tags": []
          },
          "execution_count": 198
        }
      ]
    },
    {
      "cell_type": "markdown",
      "metadata": {
        "id": "btsMTawbHsEI"
      },
      "source": [
        "*Notice that in this case, the **Series** is populated only with the explicity identified keys*"
      ]
    },
    {
      "cell_type": "markdown",
      "metadata": {
        "id": "SKLfBjYuIq5F"
      },
      "source": [
        "# **DataFrame as generalized NumPy array**"
      ]
    },
    {
      "cell_type": "markdown",
      "metadata": {
        "id": "-fJ2wJgNJG4O"
      },
      "source": [
        "***If a Series is an analog of a one-dimensional array with flexible indices, a DataFrame is an analog of a two-dimensional array with both flexible row indices and flexible column names.***"
      ]
    },
    {
      "cell_type": "code",
      "metadata": {
        "id": "9R-zwpvvJOBh",
        "colab": {
          "base_uri": "https://localhost:8080/"
        },
        "outputId": "dda54458-b054-401f-ff3d-f5442f392f01"
      },
      "source": [
        "area_dict = {'California': 423967, 'Texas': 695662, 'New York': 141297,\n",
        "             'Florida': 170312, 'Illinois': 149995}\n",
        "area = pd.Series(area_dict)\n",
        "area"
      ],
      "execution_count": null,
      "outputs": [
        {
          "output_type": "execute_result",
          "data": {
            "text/plain": [
              "California    423967\n",
              "Texas         695662\n",
              "New York      141297\n",
              "Florida       170312\n",
              "Illinois      149995\n",
              "dtype: int64"
            ]
          },
          "metadata": {
            "tags": []
          },
          "execution_count": 199
        }
      ]
    },
    {
      "cell_type": "code",
      "metadata": {
        "id": "Ev3NGbF_K09g",
        "colab": {
          "base_uri": "https://localhost:8080/",
          "height": 195
        },
        "outputId": "c99743a1-e723-4048-a1fb-21e439c69c4c"
      },
      "source": [
        "states = pd.DataFrame({'population': population,\n",
        "                       'area': area})\n",
        "states"
      ],
      "execution_count": null,
      "outputs": [
        {
          "output_type": "execute_result",
          "data": {
            "text/html": [
              "<div>\n",
              "<style scoped>\n",
              "    .dataframe tbody tr th:only-of-type {\n",
              "        vertical-align: middle;\n",
              "    }\n",
              "\n",
              "    .dataframe tbody tr th {\n",
              "        vertical-align: top;\n",
              "    }\n",
              "\n",
              "    .dataframe thead th {\n",
              "        text-align: right;\n",
              "    }\n",
              "</style>\n",
              "<table border=\"1\" class=\"dataframe\">\n",
              "  <thead>\n",
              "    <tr style=\"text-align: right;\">\n",
              "      <th></th>\n",
              "      <th>population</th>\n",
              "      <th>area</th>\n",
              "    </tr>\n",
              "  </thead>\n",
              "  <tbody>\n",
              "    <tr>\n",
              "      <th>California</th>\n",
              "      <td>38332521</td>\n",
              "      <td>423967</td>\n",
              "    </tr>\n",
              "    <tr>\n",
              "      <th>Texas</th>\n",
              "      <td>26448193</td>\n",
              "      <td>695662</td>\n",
              "    </tr>\n",
              "    <tr>\n",
              "      <th>New York</th>\n",
              "      <td>19651127</td>\n",
              "      <td>141297</td>\n",
              "    </tr>\n",
              "    <tr>\n",
              "      <th>Florida</th>\n",
              "      <td>19552860</td>\n",
              "      <td>170312</td>\n",
              "    </tr>\n",
              "    <tr>\n",
              "      <th>Illinois</th>\n",
              "      <td>12882135</td>\n",
              "      <td>149995</td>\n",
              "    </tr>\n",
              "  </tbody>\n",
              "</table>\n",
              "</div>"
            ],
            "text/plain": [
              "            population    area\n",
              "California    38332521  423967\n",
              "Texas         26448193  695662\n",
              "New York      19651127  141297\n",
              "Florida       19552860  170312\n",
              "Illinois      12882135  149995"
            ]
          },
          "metadata": {
            "tags": []
          },
          "execution_count": 200
        }
      ]
    },
    {
      "cell_type": "code",
      "metadata": {
        "id": "NqsN2nK_LH3t",
        "colab": {
          "base_uri": "https://localhost:8080/"
        },
        "outputId": "8516a01e-fb64-41a7-8586-76de5d2513d8"
      },
      "source": [
        "states.index"
      ],
      "execution_count": null,
      "outputs": [
        {
          "output_type": "execute_result",
          "data": {
            "text/plain": [
              "Index(['California', 'Texas', 'New York', 'Florida', 'Illinois'], dtype='object')"
            ]
          },
          "metadata": {
            "tags": []
          },
          "execution_count": 201
        }
      ]
    },
    {
      "cell_type": "code",
      "metadata": {
        "id": "XIYguv-MLKZF",
        "colab": {
          "base_uri": "https://localhost:8080/"
        },
        "outputId": "16549019-0bd9-4c5b-c671-9f4e15177749"
      },
      "source": [
        "states.columns"
      ],
      "execution_count": null,
      "outputs": [
        {
          "output_type": "execute_result",
          "data": {
            "text/plain": [
              "Index(['population', 'area'], dtype='object')"
            ]
          },
          "metadata": {
            "tags": []
          },
          "execution_count": 202
        }
      ]
    },
    {
      "cell_type": "markdown",
      "metadata": {
        "id": "77kyakxtLQS-"
      },
      "source": [
        "# **DataFrame as specialized dictionary**"
      ]
    },
    {
      "cell_type": "markdown",
      "metadata": {
        "id": "pfhspIqYLT_I"
      },
      "source": [
        "***Where a dictionary maps a key to a value, a DataFrame maps a column name to a Series of column data.***"
      ]
    },
    {
      "cell_type": "code",
      "metadata": {
        "id": "Vu88gCKiLiCl",
        "colab": {
          "base_uri": "https://localhost:8080/"
        },
        "outputId": "12893849-b1ba-44db-9170-b02c6b3b9f94"
      },
      "source": [
        "states['area']"
      ],
      "execution_count": null,
      "outputs": [
        {
          "output_type": "execute_result",
          "data": {
            "text/plain": [
              "California    423967\n",
              "Texas         695662\n",
              "New York      141297\n",
              "Florida       170312\n",
              "Illinois      149995\n",
              "Name: area, dtype: int64"
            ]
          },
          "metadata": {
            "tags": []
          },
          "execution_count": 203
        }
      ]
    },
    {
      "cell_type": "markdown",
      "metadata": {
        "id": "-hy7cT7TLoWE"
      },
      "source": [
        "**Potential point of confusion:** *in a two-dimensional NumPy array, data[0] will return the first row. For a DataFrame, data['col0'] will return the first column.*"
      ]
    },
    {
      "cell_type": "markdown",
      "metadata": {
        "id": "clu6iJNtL6zB"
      },
      "source": [
        "**Constructing DataFrame objects**"
      ]
    },
    {
      "cell_type": "markdown",
      "metadata": {
        "id": "XyJTyqk0MiUf"
      },
      "source": [
        "*From a single Series object: a DataFrame is a collection of Series objects, and a single-column DataFrame can be constructed from a single Series.*"
      ]
    },
    {
      "cell_type": "code",
      "metadata": {
        "id": "XVx1EfU-MCcx",
        "colab": {
          "base_uri": "https://localhost:8080/",
          "height": 195
        },
        "outputId": "693b226f-b58f-4130-8325-1b30c7190eeb"
      },
      "source": [
        "pd.DataFrame(population, columns=['population'])"
      ],
      "execution_count": null,
      "outputs": [
        {
          "output_type": "execute_result",
          "data": {
            "text/html": [
              "<div>\n",
              "<style scoped>\n",
              "    .dataframe tbody tr th:only-of-type {\n",
              "        vertical-align: middle;\n",
              "    }\n",
              "\n",
              "    .dataframe tbody tr th {\n",
              "        vertical-align: top;\n",
              "    }\n",
              "\n",
              "    .dataframe thead th {\n",
              "        text-align: right;\n",
              "    }\n",
              "</style>\n",
              "<table border=\"1\" class=\"dataframe\">\n",
              "  <thead>\n",
              "    <tr style=\"text-align: right;\">\n",
              "      <th></th>\n",
              "      <th>population</th>\n",
              "    </tr>\n",
              "  </thead>\n",
              "  <tbody>\n",
              "    <tr>\n",
              "      <th>California</th>\n",
              "      <td>38332521</td>\n",
              "    </tr>\n",
              "    <tr>\n",
              "      <th>Texas</th>\n",
              "      <td>26448193</td>\n",
              "    </tr>\n",
              "    <tr>\n",
              "      <th>New York</th>\n",
              "      <td>19651127</td>\n",
              "    </tr>\n",
              "    <tr>\n",
              "      <th>Florida</th>\n",
              "      <td>19552860</td>\n",
              "    </tr>\n",
              "    <tr>\n",
              "      <th>Illinois</th>\n",
              "      <td>12882135</td>\n",
              "    </tr>\n",
              "  </tbody>\n",
              "</table>\n",
              "</div>"
            ],
            "text/plain": [
              "            population\n",
              "California    38332521\n",
              "Texas         26448193\n",
              "New York      19651127\n",
              "Florida       19552860\n",
              "Illinois      12882135"
            ]
          },
          "metadata": {
            "tags": []
          },
          "execution_count": 204
        }
      ]
    },
    {
      "cell_type": "markdown",
      "metadata": {
        "id": "24fLt_IZM-zC"
      },
      "source": [
        "*From a list of dicts: any list of dictionaries can be made into a DataFrame.*"
      ]
    },
    {
      "cell_type": "code",
      "metadata": {
        "id": "cOjezZySML-V",
        "colab": {
          "base_uri": "https://localhost:8080/",
          "height": 136
        },
        "outputId": "51d7db41-231d-49ae-d939-983f49f112d1"
      },
      "source": [
        "data = [{'a': i, 'b': 2 * i}\n",
        "         for i in range(3)]\n",
        "pd.DataFrame(data)"
      ],
      "execution_count": null,
      "outputs": [
        {
          "output_type": "execute_result",
          "data": {
            "text/html": [
              "<div>\n",
              "<style scoped>\n",
              "    .dataframe tbody tr th:only-of-type {\n",
              "        vertical-align: middle;\n",
              "    }\n",
              "\n",
              "    .dataframe tbody tr th {\n",
              "        vertical-align: top;\n",
              "    }\n",
              "\n",
              "    .dataframe thead th {\n",
              "        text-align: right;\n",
              "    }\n",
              "</style>\n",
              "<table border=\"1\" class=\"dataframe\">\n",
              "  <thead>\n",
              "    <tr style=\"text-align: right;\">\n",
              "      <th></th>\n",
              "      <th>a</th>\n",
              "      <th>b</th>\n",
              "    </tr>\n",
              "  </thead>\n",
              "  <tbody>\n",
              "    <tr>\n",
              "      <th>0</th>\n",
              "      <td>0</td>\n",
              "      <td>0</td>\n",
              "    </tr>\n",
              "    <tr>\n",
              "      <th>1</th>\n",
              "      <td>1</td>\n",
              "      <td>2</td>\n",
              "    </tr>\n",
              "    <tr>\n",
              "      <th>2</th>\n",
              "      <td>2</td>\n",
              "      <td>4</td>\n",
              "    </tr>\n",
              "  </tbody>\n",
              "</table>\n",
              "</div>"
            ],
            "text/plain": [
              "   a  b\n",
              "0  0  0\n",
              "1  1  2\n",
              "2  2  4"
            ]
          },
          "metadata": {
            "tags": []
          },
          "execution_count": 205
        }
      ]
    },
    {
      "cell_type": "markdown",
      "metadata": {
        "id": "pKf4xz4qNJFj"
      },
      "source": [
        "*From a dictionary of Series objects: a DataFramecan be constructed from a dictionary of Series objects*"
      ]
    },
    {
      "cell_type": "code",
      "metadata": {
        "id": "sMdAZv_BNMnD",
        "colab": {
          "base_uri": "https://localhost:8080/",
          "height": 195
        },
        "outputId": "64d94a4d-60a9-470e-9724-0fbacda59c9e"
      },
      "source": [
        "pd.DataFrame({'population': population,\n",
        "              'area': area})"
      ],
      "execution_count": null,
      "outputs": [
        {
          "output_type": "execute_result",
          "data": {
            "text/html": [
              "<div>\n",
              "<style scoped>\n",
              "    .dataframe tbody tr th:only-of-type {\n",
              "        vertical-align: middle;\n",
              "    }\n",
              "\n",
              "    .dataframe tbody tr th {\n",
              "        vertical-align: top;\n",
              "    }\n",
              "\n",
              "    .dataframe thead th {\n",
              "        text-align: right;\n",
              "    }\n",
              "</style>\n",
              "<table border=\"1\" class=\"dataframe\">\n",
              "  <thead>\n",
              "    <tr style=\"text-align: right;\">\n",
              "      <th></th>\n",
              "      <th>population</th>\n",
              "      <th>area</th>\n",
              "    </tr>\n",
              "  </thead>\n",
              "  <tbody>\n",
              "    <tr>\n",
              "      <th>California</th>\n",
              "      <td>38332521</td>\n",
              "      <td>423967</td>\n",
              "    </tr>\n",
              "    <tr>\n",
              "      <th>Texas</th>\n",
              "      <td>26448193</td>\n",
              "      <td>695662</td>\n",
              "    </tr>\n",
              "    <tr>\n",
              "      <th>New York</th>\n",
              "      <td>19651127</td>\n",
              "      <td>141297</td>\n",
              "    </tr>\n",
              "    <tr>\n",
              "      <th>Florida</th>\n",
              "      <td>19552860</td>\n",
              "      <td>170312</td>\n",
              "    </tr>\n",
              "    <tr>\n",
              "      <th>Illinois</th>\n",
              "      <td>12882135</td>\n",
              "      <td>149995</td>\n",
              "    </tr>\n",
              "  </tbody>\n",
              "</table>\n",
              "</div>"
            ],
            "text/plain": [
              "            population    area\n",
              "California    38332521  423967\n",
              "Texas         26448193  695662\n",
              "New York      19651127  141297\n",
              "Florida       19552860  170312\n",
              "Illinois      12882135  149995"
            ]
          },
          "metadata": {
            "tags": []
          },
          "execution_count": 206
        }
      ]
    },
    {
      "cell_type": "markdown",
      "metadata": {
        "id": "LZwYSSTHNdTw"
      },
      "source": [
        "*From a two-dimensional NumPy array: we can create a DataFrame with any specified column and index names. If omitted, an integer index will be used for each.*"
      ]
    },
    {
      "cell_type": "code",
      "metadata": {
        "id": "W7tTq6oWOSPK"
      },
      "source": [
        "import numpy as np\n"
      ],
      "execution_count": null,
      "outputs": []
    },
    {
      "cell_type": "code",
      "metadata": {
        "id": "QC5JsDEHNi19",
        "colab": {
          "base_uri": "https://localhost:8080/",
          "height": 136
        },
        "outputId": "b550cc53-10eb-4819-b3dd-52118e8038ef"
      },
      "source": [
        "pd.DataFrame(np.random.rand(3, 2),\n",
        "             columns=['foo', 'bar'],\n",
        "             index=['a','b','c'])"
      ],
      "execution_count": null,
      "outputs": [
        {
          "output_type": "execute_result",
          "data": {
            "text/html": [
              "<div>\n",
              "<style scoped>\n",
              "    .dataframe tbody tr th:only-of-type {\n",
              "        vertical-align: middle;\n",
              "    }\n",
              "\n",
              "    .dataframe tbody tr th {\n",
              "        vertical-align: top;\n",
              "    }\n",
              "\n",
              "    .dataframe thead th {\n",
              "        text-align: right;\n",
              "    }\n",
              "</style>\n",
              "<table border=\"1\" class=\"dataframe\">\n",
              "  <thead>\n",
              "    <tr style=\"text-align: right;\">\n",
              "      <th></th>\n",
              "      <th>foo</th>\n",
              "      <th>bar</th>\n",
              "    </tr>\n",
              "  </thead>\n",
              "  <tbody>\n",
              "    <tr>\n",
              "      <th>a</th>\n",
              "      <td>0.467138</td>\n",
              "      <td>0.864474</td>\n",
              "    </tr>\n",
              "    <tr>\n",
              "      <th>b</th>\n",
              "      <td>0.486997</td>\n",
              "      <td>0.711698</td>\n",
              "    </tr>\n",
              "    <tr>\n",
              "      <th>c</th>\n",
              "      <td>0.459141</td>\n",
              "      <td>0.840693</td>\n",
              "    </tr>\n",
              "  </tbody>\n",
              "</table>\n",
              "</div>"
            ],
            "text/plain": [
              "        foo       bar\n",
              "a  0.467138  0.864474\n",
              "b  0.486997  0.711698\n",
              "c  0.459141  0.840693"
            ]
          },
          "metadata": {
            "tags": []
          },
          "execution_count": 208
        }
      ]
    },
    {
      "cell_type": "markdown",
      "metadata": {
        "id": "db2FLWjkOcFZ"
      },
      "source": [
        "# **Data Selection in Series**"
      ]
    },
    {
      "cell_type": "markdown",
      "metadata": {
        "id": "zDY07XCnPsZX"
      },
      "source": [
        "*A Series object acts in many ways like a one-dimensional NumPy array, and in many ways like a standard Python dictionary.*"
      ]
    },
    {
      "cell_type": "markdown",
      "metadata": {
        "id": "p9jcS1OIP2yq"
      },
      "source": [
        "***Series as dictionary***"
      ]
    },
    {
      "cell_type": "code",
      "metadata": {
        "id": "q3VMiyuJQHZD",
        "colab": {
          "base_uri": "https://localhost:8080/"
        },
        "outputId": "cb8b56a5-bf06-41be-8ff2-2b5334aa84d7"
      },
      "source": [
        "import pandas as pd\n",
        "data = pd.Series([0.25, 0.5, 0.75, 1.0],\n",
        "                 index=['a', 'b', 'c', 'd'])\n",
        "data"
      ],
      "execution_count": null,
      "outputs": [
        {
          "output_type": "execute_result",
          "data": {
            "text/plain": [
              "a    0.25\n",
              "b    0.50\n",
              "c    0.75\n",
              "d    1.00\n",
              "dtype: float64"
            ]
          },
          "metadata": {
            "tags": []
          },
          "execution_count": 209
        }
      ]
    },
    {
      "cell_type": "code",
      "metadata": {
        "id": "KRkFLvICQorz",
        "colab": {
          "base_uri": "https://localhost:8080/"
        },
        "outputId": "a143ff68-4d19-4cc2-bc21-3a5e663ae6f5"
      },
      "source": [
        "data['b']"
      ],
      "execution_count": null,
      "outputs": [
        {
          "output_type": "execute_result",
          "data": {
            "text/plain": [
              "0.5"
            ]
          },
          "metadata": {
            "tags": []
          },
          "execution_count": 210
        }
      ]
    },
    {
      "cell_type": "markdown",
      "metadata": {
        "id": "ZahFuQKYQ0q-"
      },
      "source": [
        "*We can also use dictionary-like Python expressions and methods to examine the keys/indices and values:*"
      ]
    },
    {
      "cell_type": "code",
      "metadata": {
        "id": "WMew6QHRQwQ8",
        "colab": {
          "base_uri": "https://localhost:8080/"
        },
        "outputId": "deae7f41-5d93-4854-ba69-9cefabfc2f8c"
      },
      "source": [
        "'a' in data"
      ],
      "execution_count": null,
      "outputs": [
        {
          "output_type": "execute_result",
          "data": {
            "text/plain": [
              "True"
            ]
          },
          "metadata": {
            "tags": []
          },
          "execution_count": 211
        }
      ]
    },
    {
      "cell_type": "code",
      "metadata": {
        "id": "9qGmTB2lQ6Q-",
        "colab": {
          "base_uri": "https://localhost:8080/"
        },
        "outputId": "cdb999d8-e6a7-40bf-88f0-fc93b072adb8"
      },
      "source": [
        "data.keys()"
      ],
      "execution_count": null,
      "outputs": [
        {
          "output_type": "execute_result",
          "data": {
            "text/plain": [
              "Index(['a', 'b', 'c', 'd'], dtype='object')"
            ]
          },
          "metadata": {
            "tags": []
          },
          "execution_count": 212
        }
      ]
    },
    {
      "cell_type": "code",
      "metadata": {
        "id": "Z_0kM-k3RBJP",
        "colab": {
          "base_uri": "https://localhost:8080/"
        },
        "outputId": "1b446304-ac40-4632-87a0-2a1325eae66f"
      },
      "source": [
        "list(data.items())"
      ],
      "execution_count": null,
      "outputs": [
        {
          "output_type": "execute_result",
          "data": {
            "text/plain": [
              "[('a', 0.25), ('b', 0.5), ('c', 0.75), ('d', 1.0)]"
            ]
          },
          "metadata": {
            "tags": []
          },
          "execution_count": 213
        }
      ]
    },
    {
      "cell_type": "markdown",
      "metadata": {
        "id": "qvEfhpqBRH7x"
      },
      "source": [
        "*You can extend a Series by assigning to a new index value:*"
      ]
    },
    {
      "cell_type": "code",
      "metadata": {
        "id": "BYtMXrWNRMO8",
        "colab": {
          "base_uri": "https://localhost:8080/"
        },
        "outputId": "e7ba9e5c-77cb-43a1-8017-c2bbb4616368"
      },
      "source": [
        "data['e'] = 1.25\n",
        "data"
      ],
      "execution_count": null,
      "outputs": [
        {
          "output_type": "execute_result",
          "data": {
            "text/plain": [
              "a    0.25\n",
              "b    0.50\n",
              "c    0.75\n",
              "d    1.00\n",
              "e    1.25\n",
              "dtype: float64"
            ]
          },
          "metadata": {
            "tags": []
          },
          "execution_count": 214
        }
      ]
    },
    {
      "cell_type": "markdown",
      "metadata": {
        "id": "CnUqj76iT6__"
      },
      "source": [
        "***Series as one-dimensional array***"
      ]
    },
    {
      "cell_type": "markdown",
      "metadata": {
        "id": "NTihu0DdUCHC"
      },
      "source": [
        "*When slicing with an explicit index (i.e.,data['a':'c']), the final index is included in the slice.*"
      ]
    },
    {
      "cell_type": "code",
      "metadata": {
        "id": "6Xi7viSSUKt0",
        "colab": {
          "base_uri": "https://localhost:8080/"
        },
        "outputId": "efc12b99-a7a6-4795-b420-bc92d4d51897"
      },
      "source": [
        "# slicing by explicit index\n",
        "data['a':'c']"
      ],
      "execution_count": null,
      "outputs": [
        {
          "output_type": "execute_result",
          "data": {
            "text/plain": [
              "a    0.25\n",
              "b    0.50\n",
              "c    0.75\n",
              "dtype: float64"
            ]
          },
          "metadata": {
            "tags": []
          },
          "execution_count": 215
        }
      ]
    },
    {
      "cell_type": "markdown",
      "metadata": {
        "id": "-ci9SOi6UYUm"
      },
      "source": [
        "*When slicing with an implicit index (i.e.,data[0:2, the final index is excluded from the slice.*"
      ]
    },
    {
      "cell_type": "code",
      "metadata": {
        "id": "5d9NIFToUiOg",
        "colab": {
          "base_uri": "https://localhost:8080/"
        },
        "outputId": "6702d5b1-bfb4-4e16-fdcf-5bb29c22bffb"
      },
      "source": [
        "# slicing by implicit integer index\n",
        "data[0:2]"
      ],
      "execution_count": null,
      "outputs": [
        {
          "output_type": "execute_result",
          "data": {
            "text/plain": [
              "a    0.25\n",
              "b    0.50\n",
              "dtype: float64"
            ]
          },
          "metadata": {
            "tags": []
          },
          "execution_count": 216
        }
      ]
    },
    {
      "cell_type": "markdown",
      "metadata": {
        "id": "Zj2FsYsaUucD"
      },
      "source": [
        "*To avoid the potential confusion in explicit and implicit indices, Pandas provides some special indexer attributes that explicitly expose certain indexing schemes.*"
      ]
    },
    {
      "cell_type": "code",
      "metadata": {
        "id": "Pchf3TGhUwT8",
        "colab": {
          "base_uri": "https://localhost:8080/"
        },
        "outputId": "f366a3a9-69b5-4b96-cf41-9dedfde94e12"
      },
      "source": [
        "# masking\n",
        "data[(data > 0.3) & (data < 0.8)]"
      ],
      "execution_count": null,
      "outputs": [
        {
          "output_type": "execute_result",
          "data": {
            "text/plain": [
              "b    0.50\n",
              "c    0.75\n",
              "dtype: float64"
            ]
          },
          "metadata": {
            "tags": []
          },
          "execution_count": 217
        }
      ]
    },
    {
      "cell_type": "code",
      "metadata": {
        "id": "xHzIAuelU86N",
        "colab": {
          "base_uri": "https://localhost:8080/"
        },
        "outputId": "df2cd186-a5b1-4eae-c6a8-2e6a317f21e1"
      },
      "source": [
        "# fancy indexing\n",
        "data[['a', 'e']]"
      ],
      "execution_count": null,
      "outputs": [
        {
          "output_type": "execute_result",
          "data": {
            "text/plain": [
              "a    0.25\n",
              "e    1.25\n",
              "dtype: float64"
            ]
          },
          "metadata": {
            "tags": []
          },
          "execution_count": 218
        }
      ]
    },
    {
      "cell_type": "markdown",
      "metadata": {
        "id": "m_MAQIvKVRv2"
      },
      "source": [
        "To avoid the potential confusion in explicit and implicit indices, Pandas provides some special *indexer* attributes (*loc, iloc*, and *ix*) that explicitly expose certain indexing schemes.\n",
        "\n",
        "The loc attribute allows indexing and slicing that always references the explicit index, while the iloc attribute allows indexing and slicing that always references the implicit Python-style index. A third indexing attribute, ix, is a hybrid of the two, and for Series objects is equivalent to standard []-based indexing."
      ]
    },
    {
      "cell_type": "code",
      "metadata": {
        "id": "UlM4g4xMVs3q",
        "colab": {
          "base_uri": "https://localhost:8080/"
        },
        "outputId": "ec32633a-f163-4b4a-e20b-e685b53eff41"
      },
      "source": [
        "data = pd.Series(['a', 'b', 'c'], index=[1, 3, 5])\n",
        "data"
      ],
      "execution_count": null,
      "outputs": [
        {
          "output_type": "execute_result",
          "data": {
            "text/plain": [
              "1    a\n",
              "3    b\n",
              "5    c\n",
              "dtype: object"
            ]
          },
          "metadata": {
            "tags": []
          },
          "execution_count": 219
        }
      ]
    },
    {
      "cell_type": "code",
      "metadata": {
        "id": "DWZ4vjB1V7_q",
        "colab": {
          "base_uri": "https://localhost:8080/",
          "height": 35
        },
        "outputId": "d7413a6e-d7cd-44d2-908d-470535d85865"
      },
      "source": [
        "# explicit index when indexing\n",
        "data[1]"
      ],
      "execution_count": null,
      "outputs": [
        {
          "output_type": "execute_result",
          "data": {
            "application/vnd.google.colaboratory.intrinsic+json": {
              "type": "string"
            },
            "text/plain": [
              "'a'"
            ]
          },
          "metadata": {
            "tags": []
          },
          "execution_count": 220
        }
      ]
    },
    {
      "cell_type": "code",
      "metadata": {
        "id": "aJc3O5fiWCnU",
        "colab": {
          "base_uri": "https://localhost:8080/"
        },
        "outputId": "6b2629ad-10c4-42be-a52e-c2d8e35a1342"
      },
      "source": [
        "# implicit index when slicing\n",
        "data[1:3]"
      ],
      "execution_count": null,
      "outputs": [
        {
          "output_type": "execute_result",
          "data": {
            "text/plain": [
              "3    b\n",
              "5    c\n",
              "dtype: object"
            ]
          },
          "metadata": {
            "tags": []
          },
          "execution_count": 221
        }
      ]
    },
    {
      "cell_type": "code",
      "metadata": {
        "id": "Zft2KWoXWLGd",
        "colab": {
          "base_uri": "https://localhost:8080/",
          "height": 35
        },
        "outputId": "7414091b-9553-46ee-dd20-d3d275fa6249"
      },
      "source": [
        "data.loc[1]"
      ],
      "execution_count": null,
      "outputs": [
        {
          "output_type": "execute_result",
          "data": {
            "application/vnd.google.colaboratory.intrinsic+json": {
              "type": "string"
            },
            "text/plain": [
              "'a'"
            ]
          },
          "metadata": {
            "tags": []
          },
          "execution_count": 222
        }
      ]
    },
    {
      "cell_type": "code",
      "metadata": {
        "id": "yXf6zcgjWPoe",
        "colab": {
          "base_uri": "https://localhost:8080/"
        },
        "outputId": "a67357a4-26f1-4005-b38b-09a5a8a59a52"
      },
      "source": [
        "data.loc[1:3]"
      ],
      "execution_count": null,
      "outputs": [
        {
          "output_type": "execute_result",
          "data": {
            "text/plain": [
              "1    a\n",
              "3    b\n",
              "dtype: object"
            ]
          },
          "metadata": {
            "tags": []
          },
          "execution_count": 223
        }
      ]
    },
    {
      "cell_type": "code",
      "metadata": {
        "id": "JA8JVMPJWVrD",
        "colab": {
          "base_uri": "https://localhost:8080/",
          "height": 35
        },
        "outputId": "4241117c-809b-453c-9670-770bcafe8efb"
      },
      "source": [
        "data.iloc[1]"
      ],
      "execution_count": null,
      "outputs": [
        {
          "output_type": "execute_result",
          "data": {
            "application/vnd.google.colaboratory.intrinsic+json": {
              "type": "string"
            },
            "text/plain": [
              "'b'"
            ]
          },
          "metadata": {
            "tags": []
          },
          "execution_count": 224
        }
      ]
    },
    {
      "cell_type": "code",
      "metadata": {
        "id": "Sxk9H8AwWZy0",
        "colab": {
          "base_uri": "https://localhost:8080/"
        },
        "outputId": "8b878d63-85ea-4f6c-98ce-2cfbcecc2eb4"
      },
      "source": [
        "data.iloc[1:3]"
      ],
      "execution_count": null,
      "outputs": [
        {
          "output_type": "execute_result",
          "data": {
            "text/plain": [
              "3    b\n",
              "5    c\n",
              "dtype: object"
            ]
          },
          "metadata": {
            "tags": []
          },
          "execution_count": 225
        }
      ]
    },
    {
      "cell_type": "markdown",
      "metadata": {
        "id": "YSNL3C-OWhKB"
      },
      "source": [
        "# **Data Selection in DataFrame**"
      ]
    },
    {
      "cell_type": "markdown",
      "metadata": {
        "id": "0M4oxtCDWl6D"
      },
      "source": [
        "**DataFrame as a dictionary**"
      ]
    },
    {
      "cell_type": "code",
      "metadata": {
        "id": "pU3cDsuNW2MH",
        "colab": {
          "base_uri": "https://localhost:8080/",
          "height": 195
        },
        "outputId": "e36e92ff-5e3f-49d4-cb4e-41502e34c8aa"
      },
      "source": [
        "area = pd.Series({'California': 423967, 'Texas': 695662,\n",
        "                  'New York': 141297, 'Florida': 170312,\n",
        "                  'Illinois': 149995})\n",
        "pop = pd.Series({'California': 38332521, 'Texas': 26448193,\n",
        "                  'New York': 19651127, 'Florida': 19552860,\n",
        "                  'Illinois': 12882135})\n",
        "data = pd.DataFrame({'area':area, 'pop':pop})\n",
        "data"
      ],
      "execution_count": null,
      "outputs": [
        {
          "output_type": "execute_result",
          "data": {
            "text/html": [
              "<div>\n",
              "<style scoped>\n",
              "    .dataframe tbody tr th:only-of-type {\n",
              "        vertical-align: middle;\n",
              "    }\n",
              "\n",
              "    .dataframe tbody tr th {\n",
              "        vertical-align: top;\n",
              "    }\n",
              "\n",
              "    .dataframe thead th {\n",
              "        text-align: right;\n",
              "    }\n",
              "</style>\n",
              "<table border=\"1\" class=\"dataframe\">\n",
              "  <thead>\n",
              "    <tr style=\"text-align: right;\">\n",
              "      <th></th>\n",
              "      <th>area</th>\n",
              "      <th>pop</th>\n",
              "    </tr>\n",
              "  </thead>\n",
              "  <tbody>\n",
              "    <tr>\n",
              "      <th>California</th>\n",
              "      <td>423967</td>\n",
              "      <td>38332521</td>\n",
              "    </tr>\n",
              "    <tr>\n",
              "      <th>Texas</th>\n",
              "      <td>695662</td>\n",
              "      <td>26448193</td>\n",
              "    </tr>\n",
              "    <tr>\n",
              "      <th>New York</th>\n",
              "      <td>141297</td>\n",
              "      <td>19651127</td>\n",
              "    </tr>\n",
              "    <tr>\n",
              "      <th>Florida</th>\n",
              "      <td>170312</td>\n",
              "      <td>19552860</td>\n",
              "    </tr>\n",
              "    <tr>\n",
              "      <th>Illinois</th>\n",
              "      <td>149995</td>\n",
              "      <td>12882135</td>\n",
              "    </tr>\n",
              "  </tbody>\n",
              "</table>\n",
              "</div>"
            ],
            "text/plain": [
              "              area       pop\n",
              "California  423967  38332521\n",
              "Texas       695662  26448193\n",
              "New York    141297  19651127\n",
              "Florida     170312  19552860\n",
              "Illinois    149995  12882135"
            ]
          },
          "metadata": {
            "tags": []
          },
          "execution_count": 226
        }
      ]
    },
    {
      "cell_type": "markdown",
      "metadata": {
        "id": "sRbBZ5RUX5yk"
      },
      "source": [
        "*The columns of the DataFrame can be accessed via dictionary-style indexing of the column name:*"
      ]
    },
    {
      "cell_type": "code",
      "metadata": {
        "id": "5jc_vyxjYACk",
        "colab": {
          "base_uri": "https://localhost:8080/"
        },
        "outputId": "0009e8c0-abfd-4921-a1c7-8ccf1e63f19a"
      },
      "source": [
        "data['area']"
      ],
      "execution_count": null,
      "outputs": [
        {
          "output_type": "execute_result",
          "data": {
            "text/plain": [
              "California    423967\n",
              "Texas         695662\n",
              "New York      141297\n",
              "Florida       170312\n",
              "Illinois      149995\n",
              "Name: area, dtype: int64"
            ]
          },
          "metadata": {
            "tags": []
          },
          "execution_count": 227
        }
      ]
    },
    {
      "cell_type": "markdown",
      "metadata": {
        "id": "rOQa1O47YGcU"
      },
      "source": [
        "*We can use attribute-style access only with column names that are strings:*\n"
      ]
    },
    {
      "cell_type": "code",
      "metadata": {
        "id": "RHO74vxjYKuR",
        "colab": {
          "base_uri": "https://localhost:8080/"
        },
        "outputId": "8d523dfe-15b2-46aa-db6c-a1f320cbe65c"
      },
      "source": [
        "data.area"
      ],
      "execution_count": null,
      "outputs": [
        {
          "output_type": "execute_result",
          "data": {
            "text/plain": [
              "California    423967\n",
              "Texas         695662\n",
              "New York      141297\n",
              "Florida       170312\n",
              "Illinois      149995\n",
              "Name: area, dtype: int64"
            ]
          },
          "metadata": {
            "tags": []
          },
          "execution_count": 228
        }
      ]
    },
    {
      "cell_type": "markdown",
      "metadata": {
        "id": "BcTGWI1IYQFG"
      },
      "source": [
        "*Adding a new column:*"
      ]
    },
    {
      "cell_type": "code",
      "metadata": {
        "id": "7LyPohaWYSet",
        "colab": {
          "base_uri": "https://localhost:8080/",
          "height": 195
        },
        "outputId": "b324017b-3956-4b6e-c7b0-5d4a54b99c11"
      },
      "source": [
        "data['density'] = data['pop'] / data['area']\n",
        "data"
      ],
      "execution_count": null,
      "outputs": [
        {
          "output_type": "execute_result",
          "data": {
            "text/html": [
              "<div>\n",
              "<style scoped>\n",
              "    .dataframe tbody tr th:only-of-type {\n",
              "        vertical-align: middle;\n",
              "    }\n",
              "\n",
              "    .dataframe tbody tr th {\n",
              "        vertical-align: top;\n",
              "    }\n",
              "\n",
              "    .dataframe thead th {\n",
              "        text-align: right;\n",
              "    }\n",
              "</style>\n",
              "<table border=\"1\" class=\"dataframe\">\n",
              "  <thead>\n",
              "    <tr style=\"text-align: right;\">\n",
              "      <th></th>\n",
              "      <th>area</th>\n",
              "      <th>pop</th>\n",
              "      <th>density</th>\n",
              "    </tr>\n",
              "  </thead>\n",
              "  <tbody>\n",
              "    <tr>\n",
              "      <th>California</th>\n",
              "      <td>423967</td>\n",
              "      <td>38332521</td>\n",
              "      <td>90.413926</td>\n",
              "    </tr>\n",
              "    <tr>\n",
              "      <th>Texas</th>\n",
              "      <td>695662</td>\n",
              "      <td>26448193</td>\n",
              "      <td>38.018740</td>\n",
              "    </tr>\n",
              "    <tr>\n",
              "      <th>New York</th>\n",
              "      <td>141297</td>\n",
              "      <td>19651127</td>\n",
              "      <td>139.076746</td>\n",
              "    </tr>\n",
              "    <tr>\n",
              "      <th>Florida</th>\n",
              "      <td>170312</td>\n",
              "      <td>19552860</td>\n",
              "      <td>114.806121</td>\n",
              "    </tr>\n",
              "    <tr>\n",
              "      <th>Illinois</th>\n",
              "      <td>149995</td>\n",
              "      <td>12882135</td>\n",
              "      <td>85.883763</td>\n",
              "    </tr>\n",
              "  </tbody>\n",
              "</table>\n",
              "</div>"
            ],
            "text/plain": [
              "              area       pop     density\n",
              "California  423967  38332521   90.413926\n",
              "Texas       695662  26448193   38.018740\n",
              "New York    141297  19651127  139.076746\n",
              "Florida     170312  19552860  114.806121\n",
              "Illinois    149995  12882135   85.883763"
            ]
          },
          "metadata": {
            "tags": []
          },
          "execution_count": 229
        }
      ]
    },
    {
      "cell_type": "markdown",
      "metadata": {
        "id": "I8EnsdhYYk5A"
      },
      "source": [
        "***DataFrame as two-dimensional array***"
      ]
    },
    {
      "cell_type": "markdown",
      "metadata": {
        "id": "DXhKbXBOYoNj"
      },
      "source": [
        "*Use the values attribute to examine the raw underlying data array*"
      ]
    },
    {
      "cell_type": "code",
      "metadata": {
        "id": "7SBtkRHkY1Xj",
        "colab": {
          "base_uri": "https://localhost:8080/"
        },
        "outputId": "61196d84-eb14-4c2e-859a-d641ba701f8d"
      },
      "source": [
        "data.values"
      ],
      "execution_count": null,
      "outputs": [
        {
          "output_type": "execute_result",
          "data": {
            "text/plain": [
              "array([[4.23967000e+05, 3.83325210e+07, 9.04139261e+01],\n",
              "       [6.95662000e+05, 2.64481930e+07, 3.80187404e+01],\n",
              "       [1.41297000e+05, 1.96511270e+07, 1.39076746e+02],\n",
              "       [1.70312000e+05, 1.95528600e+07, 1.14806121e+02],\n",
              "       [1.49995000e+05, 1.28821350e+07, 8.58837628e+01]])"
            ]
          },
          "metadata": {
            "tags": []
          },
          "execution_count": 230
        }
      ]
    },
    {
      "cell_type": "markdown",
      "metadata": {
        "id": "bx8lZLCnY_My"
      },
      "source": [
        "*Can transpose the full DataFrame to swap rows and columns*"
      ]
    },
    {
      "cell_type": "code",
      "metadata": {
        "id": "LbOtjptXZG8_",
        "colab": {
          "base_uri": "https://localhost:8080/",
          "height": 136
        },
        "outputId": "1e1f9cda-4983-47d0-f501-4b192db4d1e8"
      },
      "source": [
        "data.T"
      ],
      "execution_count": null,
      "outputs": [
        {
          "output_type": "execute_result",
          "data": {
            "text/html": [
              "<div>\n",
              "<style scoped>\n",
              "    .dataframe tbody tr th:only-of-type {\n",
              "        vertical-align: middle;\n",
              "    }\n",
              "\n",
              "    .dataframe tbody tr th {\n",
              "        vertical-align: top;\n",
              "    }\n",
              "\n",
              "    .dataframe thead th {\n",
              "        text-align: right;\n",
              "    }\n",
              "</style>\n",
              "<table border=\"1\" class=\"dataframe\">\n",
              "  <thead>\n",
              "    <tr style=\"text-align: right;\">\n",
              "      <th></th>\n",
              "      <th>California</th>\n",
              "      <th>Texas</th>\n",
              "      <th>New York</th>\n",
              "      <th>Florida</th>\n",
              "      <th>Illinois</th>\n",
              "    </tr>\n",
              "  </thead>\n",
              "  <tbody>\n",
              "    <tr>\n",
              "      <th>area</th>\n",
              "      <td>4.239670e+05</td>\n",
              "      <td>6.956620e+05</td>\n",
              "      <td>1.412970e+05</td>\n",
              "      <td>1.703120e+05</td>\n",
              "      <td>1.499950e+05</td>\n",
              "    </tr>\n",
              "    <tr>\n",
              "      <th>pop</th>\n",
              "      <td>3.833252e+07</td>\n",
              "      <td>2.644819e+07</td>\n",
              "      <td>1.965113e+07</td>\n",
              "      <td>1.955286e+07</td>\n",
              "      <td>1.288214e+07</td>\n",
              "    </tr>\n",
              "    <tr>\n",
              "      <th>density</th>\n",
              "      <td>9.041393e+01</td>\n",
              "      <td>3.801874e+01</td>\n",
              "      <td>1.390767e+02</td>\n",
              "      <td>1.148061e+02</td>\n",
              "      <td>8.588376e+01</td>\n",
              "    </tr>\n",
              "  </tbody>\n",
              "</table>\n",
              "</div>"
            ],
            "text/plain": [
              "           California         Texas      New York       Florida      Illinois\n",
              "area     4.239670e+05  6.956620e+05  1.412970e+05  1.703120e+05  1.499950e+05\n",
              "pop      3.833252e+07  2.644819e+07  1.965113e+07  1.955286e+07  1.288214e+07\n",
              "density  9.041393e+01  3.801874e+01  1.390767e+02  1.148061e+02  8.588376e+01"
            ]
          },
          "metadata": {
            "tags": []
          },
          "execution_count": 231
        }
      ]
    },
    {
      "cell_type": "markdown",
      "metadata": {
        "id": "yg_wheJUZKvM"
      },
      "source": [
        "*Passing a single index to an array accesses a row:*"
      ]
    },
    {
      "cell_type": "code",
      "metadata": {
        "id": "AT5JxXR5ZNXQ",
        "colab": {
          "base_uri": "https://localhost:8080/"
        },
        "outputId": "12788e1c-1ee6-42c0-ddfa-82f934c8cf19"
      },
      "source": [
        "data.values[0]"
      ],
      "execution_count": null,
      "outputs": [
        {
          "output_type": "execute_result",
          "data": {
            "text/plain": [
              "array([4.23967000e+05, 3.83325210e+07, 9.04139261e+01])"
            ]
          },
          "metadata": {
            "tags": []
          },
          "execution_count": 232
        }
      ]
    },
    {
      "cell_type": "markdown",
      "metadata": {
        "id": "_lZJG_y8ZVac"
      },
      "source": [
        "*Passing a single \"index\" to a DataFrame accesses a column*"
      ]
    },
    {
      "cell_type": "code",
      "metadata": {
        "id": "QWp6OdrGZaf7",
        "colab": {
          "base_uri": "https://localhost:8080/"
        },
        "outputId": "782016c1-bb84-4864-a99a-100b5da599b7"
      },
      "source": [
        "data['area']"
      ],
      "execution_count": null,
      "outputs": [
        {
          "output_type": "execute_result",
          "data": {
            "text/plain": [
              "California    423967\n",
              "Texas         695662\n",
              "New York      141297\n",
              "Florida       170312\n",
              "Illinois      149995\n",
              "Name: area, dtype: int64"
            ]
          },
          "metadata": {
            "tags": []
          },
          "execution_count": 233
        }
      ]
    },
    {
      "cell_type": "code",
      "metadata": {
        "id": "hbkQjvnNZfx0",
        "colab": {
          "base_uri": "https://localhost:8080/",
          "height": 136
        },
        "outputId": "e1b19cc2-e888-47f7-8699-d7a0229ade30"
      },
      "source": [
        "data.iloc[:3, :2]"
      ],
      "execution_count": null,
      "outputs": [
        {
          "output_type": "execute_result",
          "data": {
            "text/html": [
              "<div>\n",
              "<style scoped>\n",
              "    .dataframe tbody tr th:only-of-type {\n",
              "        vertical-align: middle;\n",
              "    }\n",
              "\n",
              "    .dataframe tbody tr th {\n",
              "        vertical-align: top;\n",
              "    }\n",
              "\n",
              "    .dataframe thead th {\n",
              "        text-align: right;\n",
              "    }\n",
              "</style>\n",
              "<table border=\"1\" class=\"dataframe\">\n",
              "  <thead>\n",
              "    <tr style=\"text-align: right;\">\n",
              "      <th></th>\n",
              "      <th>area</th>\n",
              "      <th>pop</th>\n",
              "    </tr>\n",
              "  </thead>\n",
              "  <tbody>\n",
              "    <tr>\n",
              "      <th>California</th>\n",
              "      <td>423967</td>\n",
              "      <td>38332521</td>\n",
              "    </tr>\n",
              "    <tr>\n",
              "      <th>Texas</th>\n",
              "      <td>695662</td>\n",
              "      <td>26448193</td>\n",
              "    </tr>\n",
              "    <tr>\n",
              "      <th>New York</th>\n",
              "      <td>141297</td>\n",
              "      <td>19651127</td>\n",
              "    </tr>\n",
              "  </tbody>\n",
              "</table>\n",
              "</div>"
            ],
            "text/plain": [
              "              area       pop\n",
              "California  423967  38332521\n",
              "Texas       695662  26448193\n",
              "New York    141297  19651127"
            ]
          },
          "metadata": {
            "tags": []
          },
          "execution_count": 234
        }
      ]
    },
    {
      "cell_type": "code",
      "metadata": {
        "id": "vtH3DFPSZpGF",
        "colab": {
          "base_uri": "https://localhost:8080/",
          "height": 195
        },
        "outputId": "1f007b3b-789d-4a85-bc3a-f59eca342220"
      },
      "source": [
        "data.loc[:'Illinois', :'pop']"
      ],
      "execution_count": null,
      "outputs": [
        {
          "output_type": "execute_result",
          "data": {
            "text/html": [
              "<div>\n",
              "<style scoped>\n",
              "    .dataframe tbody tr th:only-of-type {\n",
              "        vertical-align: middle;\n",
              "    }\n",
              "\n",
              "    .dataframe tbody tr th {\n",
              "        vertical-align: top;\n",
              "    }\n",
              "\n",
              "    .dataframe thead th {\n",
              "        text-align: right;\n",
              "    }\n",
              "</style>\n",
              "<table border=\"1\" class=\"dataframe\">\n",
              "  <thead>\n",
              "    <tr style=\"text-align: right;\">\n",
              "      <th></th>\n",
              "      <th>area</th>\n",
              "      <th>pop</th>\n",
              "    </tr>\n",
              "  </thead>\n",
              "  <tbody>\n",
              "    <tr>\n",
              "      <th>California</th>\n",
              "      <td>423967</td>\n",
              "      <td>38332521</td>\n",
              "    </tr>\n",
              "    <tr>\n",
              "      <th>Texas</th>\n",
              "      <td>695662</td>\n",
              "      <td>26448193</td>\n",
              "    </tr>\n",
              "    <tr>\n",
              "      <th>New York</th>\n",
              "      <td>141297</td>\n",
              "      <td>19651127</td>\n",
              "    </tr>\n",
              "    <tr>\n",
              "      <th>Florida</th>\n",
              "      <td>170312</td>\n",
              "      <td>19552860</td>\n",
              "    </tr>\n",
              "    <tr>\n",
              "      <th>Illinois</th>\n",
              "      <td>149995</td>\n",
              "      <td>12882135</td>\n",
              "    </tr>\n",
              "  </tbody>\n",
              "</table>\n",
              "</div>"
            ],
            "text/plain": [
              "              area       pop\n",
              "California  423967  38332521\n",
              "Texas       695662  26448193\n",
              "New York    141297  19651127\n",
              "Florida     170312  19552860\n",
              "Illinois    149995  12882135"
            ]
          },
          "metadata": {
            "tags": []
          },
          "execution_count": 235
        }
      ]
    },
    {
      "cell_type": "code",
      "metadata": {
        "id": "mAONs2_qZ0vR"
      },
      "source": [
        "# data.ix[:3, :'pop']\n",
        "# ix is deprecated i favor of iloc"
      ],
      "execution_count": null,
      "outputs": []
    },
    {
      "cell_type": "markdown",
      "metadata": {
        "id": "20qngkZUeIEI"
      },
      "source": [
        "# **How to read in data**"
      ]
    },
    {
      "cell_type": "markdown",
      "metadata": {
        "id": "fgC-WvyReRyH"
      },
      "source": [
        "**Reading data from CSVs**"
      ]
    },
    {
      "cell_type": "code",
      "metadata": {
        "id": "YhwJyhGheV6W",
        "colab": {
          "base_uri": "https://localhost:8080/",
          "height": 166
        },
        "outputId": "147c9880-709c-4e9f-888d-1d17eddfedfa"
      },
      "source": [
        "url = \"https://guoyuanxiong.github.io/images/purchases.csv\"\n",
        "df = pd.read_csv(url)\n",
        "df"
      ],
      "execution_count": null,
      "outputs": [
        {
          "output_type": "execute_result",
          "data": {
            "text/html": [
              "<div>\n",
              "<style scoped>\n",
              "    .dataframe tbody tr th:only-of-type {\n",
              "        vertical-align: middle;\n",
              "    }\n",
              "\n",
              "    .dataframe tbody tr th {\n",
              "        vertical-align: top;\n",
              "    }\n",
              "\n",
              "    .dataframe thead th {\n",
              "        text-align: right;\n",
              "    }\n",
              "</style>\n",
              "<table border=\"1\" class=\"dataframe\">\n",
              "  <thead>\n",
              "    <tr style=\"text-align: right;\">\n",
              "      <th></th>\n",
              "      <th>Unnamed: 0</th>\n",
              "      <th>apples</th>\n",
              "      <th>oranges</th>\n",
              "    </tr>\n",
              "  </thead>\n",
              "  <tbody>\n",
              "    <tr>\n",
              "      <th>0</th>\n",
              "      <td>June</td>\n",
              "      <td>3</td>\n",
              "      <td>0</td>\n",
              "    </tr>\n",
              "    <tr>\n",
              "      <th>1</th>\n",
              "      <td>Robert</td>\n",
              "      <td>2</td>\n",
              "      <td>3</td>\n",
              "    </tr>\n",
              "    <tr>\n",
              "      <th>2</th>\n",
              "      <td>Lily</td>\n",
              "      <td>0</td>\n",
              "      <td>7</td>\n",
              "    </tr>\n",
              "    <tr>\n",
              "      <th>3</th>\n",
              "      <td>David</td>\n",
              "      <td>1</td>\n",
              "      <td>2</td>\n",
              "    </tr>\n",
              "  </tbody>\n",
              "</table>\n",
              "</div>"
            ],
            "text/plain": [
              "  Unnamed: 0   apples   oranges\n",
              "0       June        3         0\n",
              "1     Robert        2         3\n",
              "2       Lily        0         7\n",
              "3      David        1         2"
            ]
          },
          "metadata": {
            "tags": []
          },
          "execution_count": 237
        }
      ]
    },
    {
      "cell_type": "markdown",
      "metadata": {
        "id": "MwNb2dnPhyyG"
      },
      "source": [
        "*CSVs don't have indexes like our DataFrames, so all we need to do is just designate the **index_col** when reading:*"
      ]
    },
    {
      "cell_type": "code",
      "metadata": {
        "id": "5xUE6cDYh3NM",
        "colab": {
          "base_uri": "https://localhost:8080/",
          "height": 166
        },
        "outputId": "ad2dd57d-7ef7-4372-98aa-0e1443ebd39b"
      },
      "source": [
        "url = \"https://guoyuanxiong.github.io/images/purchases.csv\"\n",
        "df = pd.read_csv(url, index_col=0)\n",
        "df"
      ],
      "execution_count": null,
      "outputs": [
        {
          "output_type": "execute_result",
          "data": {
            "text/html": [
              "<div>\n",
              "<style scoped>\n",
              "    .dataframe tbody tr th:only-of-type {\n",
              "        vertical-align: middle;\n",
              "    }\n",
              "\n",
              "    .dataframe tbody tr th {\n",
              "        vertical-align: top;\n",
              "    }\n",
              "\n",
              "    .dataframe thead th {\n",
              "        text-align: right;\n",
              "    }\n",
              "</style>\n",
              "<table border=\"1\" class=\"dataframe\">\n",
              "  <thead>\n",
              "    <tr style=\"text-align: right;\">\n",
              "      <th></th>\n",
              "      <th>apples</th>\n",
              "      <th>oranges</th>\n",
              "    </tr>\n",
              "  </thead>\n",
              "  <tbody>\n",
              "    <tr>\n",
              "      <th>June</th>\n",
              "      <td>3</td>\n",
              "      <td>0</td>\n",
              "    </tr>\n",
              "    <tr>\n",
              "      <th>Robert</th>\n",
              "      <td>2</td>\n",
              "      <td>3</td>\n",
              "    </tr>\n",
              "    <tr>\n",
              "      <th>Lily</th>\n",
              "      <td>0</td>\n",
              "      <td>7</td>\n",
              "    </tr>\n",
              "    <tr>\n",
              "      <th>David</th>\n",
              "      <td>1</td>\n",
              "      <td>2</td>\n",
              "    </tr>\n",
              "  </tbody>\n",
              "</table>\n",
              "</div>"
            ],
            "text/plain": [
              "         apples   oranges\n",
              "June          3         0\n",
              "Robert        2         3\n",
              "Lily          0         7\n",
              "David         1         2"
            ]
          },
          "metadata": {
            "tags": []
          },
          "execution_count": 238
        }
      ]
    },
    {
      "cell_type": "markdown",
      "metadata": {
        "id": "G1KnmWITiEMj"
      },
      "source": [
        "**Reading data from JSON Dataframe**"
      ]
    },
    {
      "cell_type": "code",
      "metadata": {
        "id": "nDjfYINiH0RS",
        "colab": {
          "base_uri": "https://localhost:8080/",
          "height": 166
        },
        "outputId": "c44ba5de-d809-4dc5-bd85-d97ce36d78a9"
      },
      "source": [
        "JSON = [\n",
        "  {\n",
        "    \"\": 0,\n",
        "    \"Unnamed: O\": \"June\",\n",
        "    \"apples\": 3,\n",
        "    \"oranges\": 0\n",
        "  },\n",
        "  {\n",
        "    \"\": 1,\n",
        "    \"Unnamed: O\": \"Robert\",\n",
        "    \"apples\": 2,\n",
        "    \"oranges\": 3\n",
        "  },\n",
        "  {\n",
        "    \"\": 2,\n",
        "    \"Unnamed: O\": \"Lily\",\n",
        "    \"apples\": 0,\n",
        "    \"oranges\": 7\n",
        "  },\n",
        "  {\n",
        "    \"\": 3,\n",
        "    \"Unnamed: O\": \"David\",\n",
        "    \"apples\": 1,\n",
        "    \"oranges\": 2\n",
        "  }\n",
        "]\n",
        "\n",
        "df = pd.DataFrame(JSON)\n",
        "\n",
        "df"
      ],
      "execution_count": null,
      "outputs": [
        {
          "output_type": "execute_result",
          "data": {
            "text/html": [
              "<div>\n",
              "<style scoped>\n",
              "    .dataframe tbody tr th:only-of-type {\n",
              "        vertical-align: middle;\n",
              "    }\n",
              "\n",
              "    .dataframe tbody tr th {\n",
              "        vertical-align: top;\n",
              "    }\n",
              "\n",
              "    .dataframe thead th {\n",
              "        text-align: right;\n",
              "    }\n",
              "</style>\n",
              "<table border=\"1\" class=\"dataframe\">\n",
              "  <thead>\n",
              "    <tr style=\"text-align: right;\">\n",
              "      <th></th>\n",
              "      <th></th>\n",
              "      <th>Unnamed: O</th>\n",
              "      <th>apples</th>\n",
              "      <th>oranges</th>\n",
              "    </tr>\n",
              "  </thead>\n",
              "  <tbody>\n",
              "    <tr>\n",
              "      <th>0</th>\n",
              "      <td>0</td>\n",
              "      <td>June</td>\n",
              "      <td>3</td>\n",
              "      <td>0</td>\n",
              "    </tr>\n",
              "    <tr>\n",
              "      <th>1</th>\n",
              "      <td>1</td>\n",
              "      <td>Robert</td>\n",
              "      <td>2</td>\n",
              "      <td>3</td>\n",
              "    </tr>\n",
              "    <tr>\n",
              "      <th>2</th>\n",
              "      <td>2</td>\n",
              "      <td>Lily</td>\n",
              "      <td>0</td>\n",
              "      <td>7</td>\n",
              "    </tr>\n",
              "    <tr>\n",
              "      <th>3</th>\n",
              "      <td>3</td>\n",
              "      <td>David</td>\n",
              "      <td>1</td>\n",
              "      <td>2</td>\n",
              "    </tr>\n",
              "  </tbody>\n",
              "</table>\n",
              "</div>"
            ],
            "text/plain": [
              "     Unnamed: O  apples  oranges\n",
              "0  0       June       3        0\n",
              "1  1     Robert       2        3\n",
              "2  2       Lily       0        7\n",
              "3  3      David       1        2"
            ]
          },
          "metadata": {
            "tags": []
          },
          "execution_count": 239
        }
      ]
    },
    {
      "cell_type": "markdown",
      "metadata": {
        "id": "i5V2B-XAi1_X"
      },
      "source": [
        "**Reading data from a SQL database**\n",
        "\n",
        "*We could use set_index() on any DataFrame using any column at any time.*"
      ]
    },
    {
      "cell_type": "code",
      "metadata": {
        "id": "twrC-aOojJJo",
        "colab": {
          "base_uri": "https://localhost:8080/",
          "height": 195
        },
        "outputId": "d87377aa-2d55-4ede-d07c-a9a59ef061be"
      },
      "source": [
        "df = df.set_index('apples')\n",
        "df"
      ],
      "execution_count": null,
      "outputs": [
        {
          "output_type": "execute_result",
          "data": {
            "text/html": [
              "<div>\n",
              "<style scoped>\n",
              "    .dataframe tbody tr th:only-of-type {\n",
              "        vertical-align: middle;\n",
              "    }\n",
              "\n",
              "    .dataframe tbody tr th {\n",
              "        vertical-align: top;\n",
              "    }\n",
              "\n",
              "    .dataframe thead th {\n",
              "        text-align: right;\n",
              "    }\n",
              "</style>\n",
              "<table border=\"1\" class=\"dataframe\">\n",
              "  <thead>\n",
              "    <tr style=\"text-align: right;\">\n",
              "      <th></th>\n",
              "      <th></th>\n",
              "      <th>Unnamed: O</th>\n",
              "      <th>oranges</th>\n",
              "    </tr>\n",
              "    <tr>\n",
              "      <th>apples</th>\n",
              "      <th></th>\n",
              "      <th></th>\n",
              "      <th></th>\n",
              "    </tr>\n",
              "  </thead>\n",
              "  <tbody>\n",
              "    <tr>\n",
              "      <th>3</th>\n",
              "      <td>0</td>\n",
              "      <td>June</td>\n",
              "      <td>0</td>\n",
              "    </tr>\n",
              "    <tr>\n",
              "      <th>2</th>\n",
              "      <td>1</td>\n",
              "      <td>Robert</td>\n",
              "      <td>3</td>\n",
              "    </tr>\n",
              "    <tr>\n",
              "      <th>0</th>\n",
              "      <td>2</td>\n",
              "      <td>Lily</td>\n",
              "      <td>7</td>\n",
              "    </tr>\n",
              "    <tr>\n",
              "      <th>1</th>\n",
              "      <td>3</td>\n",
              "      <td>David</td>\n",
              "      <td>2</td>\n",
              "    </tr>\n",
              "  </tbody>\n",
              "</table>\n",
              "</div>"
            ],
            "text/plain": [
              "          Unnamed: O  oranges\n",
              "apples                       \n",
              "3       0       June        0\n",
              "2       1     Robert        3\n",
              "0       2       Lily        7\n",
              "1       3      David        2"
            ]
          },
          "metadata": {
            "tags": []
          },
          "execution_count": 240
        }
      ]
    },
    {
      "cell_type": "markdown",
      "metadata": {
        "id": "qt0gszdJjYKS"
      },
      "source": [
        "**Converting back to a CSV and JSON**"
      ]
    },
    {
      "cell_type": "markdown",
      "metadata": {
        "id": "lMWtgNw0kCKc"
      },
      "source": [
        "\n",
        "\n",
        "*   After extensive work on cleaning your data, you’re now ready to save it as a file of your choice.\n",
        "*   When we save JSON and CSV files, all we have to input into those functions is our desired filename with the appropriate file extension.\n",
        "\n",
        "\n",
        "\n"
      ]
    },
    {
      "cell_type": "code",
      "metadata": {
        "id": "Eo91P2dwjZux"
      },
      "source": [
        "df.to_csv('new_purchases.csv')\n",
        "df.to_json('new_purchases.json')"
      ],
      "execution_count": null,
      "outputs": []
    },
    {
      "cell_type": "markdown",
      "metadata": {
        "id": "3gMrxvxokYjt"
      },
      "source": [
        "# **Important DataFrame Operations**"
      ]
    },
    {
      "cell_type": "markdown",
      "metadata": {
        "id": "u9xhSOKUkhrb"
      },
      "source": [
        "**Loading Dataset**"
      ]
    },
    {
      "cell_type": "code",
      "metadata": {
        "id": "8BxDc33fkjtN"
      },
      "source": [
        "url = \"https://docs.google.com/spreadsheets/d/e/2PACX-1vQ_ZqyiCjnAAO_KDx_06sbGmGsd6jQomFJrlnaVydqFBw6KZwL9xZ9Ume3J_MUuU_5DH1IQ85P_9vA6/pub?gid=1309831261&single=true&output=csv\"\n",
        "movies_df= pd.read_csv(url, index_col=\"Title\")"
      ],
      "execution_count": null,
      "outputs": []
    },
    {
      "cell_type": "markdown",
      "metadata": {
        "id": "lMY6-5Ppm6VJ"
      },
      "source": [
        "**View your data**"
      ]
    },
    {
      "cell_type": "code",
      "metadata": {
        "id": "kEPuLf8Vm51L",
        "colab": {
          "base_uri": "https://localhost:8080/",
          "height": 220
        },
        "outputId": "72430775-3113-44f9-fe4a-b0e908db92ff"
      },
      "source": [
        "movies_df.head()\n",
        "movies_df.tail(2)"
      ],
      "execution_count": null,
      "outputs": [
        {
          "output_type": "execute_result",
          "data": {
            "text/html": [
              "<div>\n",
              "<style scoped>\n",
              "    .dataframe tbody tr th:only-of-type {\n",
              "        vertical-align: middle;\n",
              "    }\n",
              "\n",
              "    .dataframe tbody tr th {\n",
              "        vertical-align: top;\n",
              "    }\n",
              "\n",
              "    .dataframe thead th {\n",
              "        text-align: right;\n",
              "    }\n",
              "</style>\n",
              "<table border=\"1\" class=\"dataframe\">\n",
              "  <thead>\n",
              "    <tr style=\"text-align: right;\">\n",
              "      <th></th>\n",
              "      <th>Rank</th>\n",
              "      <th>Genre</th>\n",
              "      <th>Description</th>\n",
              "      <th>Director</th>\n",
              "      <th>Actors</th>\n",
              "      <th>Year</th>\n",
              "      <th>Runtime (Minutes)</th>\n",
              "      <th>Rating</th>\n",
              "      <th>Votes</th>\n",
              "      <th>Revenue (Millions)</th>\n",
              "      <th>Metascore</th>\n",
              "    </tr>\n",
              "    <tr>\n",
              "      <th>Title</th>\n",
              "      <th></th>\n",
              "      <th></th>\n",
              "      <th></th>\n",
              "      <th></th>\n",
              "      <th></th>\n",
              "      <th></th>\n",
              "      <th></th>\n",
              "      <th></th>\n",
              "      <th></th>\n",
              "      <th></th>\n",
              "      <th></th>\n",
              "    </tr>\n",
              "  </thead>\n",
              "  <tbody>\n",
              "    <tr>\n",
              "      <th>Search Party</th>\n",
              "      <td>999</td>\n",
              "      <td>Adventure,Comedy</td>\n",
              "      <td>A pair of friends embark on a mission to reuni...</td>\n",
              "      <td>Scot Armstrong</td>\n",
              "      <td>Adam Pally, T.J. Miller, Thomas Middleditch,Sh...</td>\n",
              "      <td>2014</td>\n",
              "      <td>93</td>\n",
              "      <td>5.6</td>\n",
              "      <td>4881</td>\n",
              "      <td>NaN</td>\n",
              "      <td>22.0</td>\n",
              "    </tr>\n",
              "    <tr>\n",
              "      <th>Nine Lives</th>\n",
              "      <td>1000</td>\n",
              "      <td>Comedy,Family,Fantasy</td>\n",
              "      <td>A stuffy businessman finds himself trapped ins...</td>\n",
              "      <td>Barry Sonnenfeld</td>\n",
              "      <td>Kevin Spacey, Jennifer Garner, Robbie Amell,Ch...</td>\n",
              "      <td>2016</td>\n",
              "      <td>87</td>\n",
              "      <td>5.3</td>\n",
              "      <td>12435</td>\n",
              "      <td>19.64</td>\n",
              "      <td>11.0</td>\n",
              "    </tr>\n",
              "  </tbody>\n",
              "</table>\n",
              "</div>"
            ],
            "text/plain": [
              "              Rank                  Genre  ... Revenue (Millions) Metascore\n",
              "Title                                      ...                             \n",
              "Search Party   999       Adventure,Comedy  ...                NaN      22.0\n",
              "Nine Lives    1000  Comedy,Family,Fantasy  ...              19.64      11.0\n",
              "\n",
              "[2 rows x 11 columns]"
            ]
          },
          "metadata": {
            "tags": []
          },
          "execution_count": 243
        }
      ]
    },
    {
      "cell_type": "markdown",
      "metadata": {
        "id": "H4kcomednECb"
      },
      "source": [
        "**Getting info about your data**"
      ]
    },
    {
      "cell_type": "code",
      "metadata": {
        "id": "VEW1ThcNnFDE",
        "colab": {
          "base_uri": "https://localhost:8080/"
        },
        "outputId": "6f64c4e6-8551-4356-cbb0-4dfc05566c98"
      },
      "source": [
        "movies_df.info()"
      ],
      "execution_count": null,
      "outputs": [
        {
          "output_type": "stream",
          "text": [
            "<class 'pandas.core.frame.DataFrame'>\n",
            "Index: 1000 entries, Guardians of the Galaxy to Nine Lives\n",
            "Data columns (total 11 columns):\n",
            " #   Column              Non-Null Count  Dtype  \n",
            "---  ------              --------------  -----  \n",
            " 0   Rank                1000 non-null   int64  \n",
            " 1   Genre               1000 non-null   object \n",
            " 2   Description         1000 non-null   object \n",
            " 3   Director            1000 non-null   object \n",
            " 4   Actors              1000 non-null   object \n",
            " 5   Year                1000 non-null   int64  \n",
            " 6   Runtime (Minutes)   1000 non-null   int64  \n",
            " 7   Rating              1000 non-null   float64\n",
            " 8   Votes               1000 non-null   int64  \n",
            " 9   Revenue (Millions)  872 non-null    float64\n",
            " 10  Metascore           936 non-null    float64\n",
            "dtypes: float64(3), int64(4), object(4)\n",
            "memory usage: 93.8+ KB\n"
          ],
          "name": "stdout"
        }
      ]
    },
    {
      "cell_type": "code",
      "metadata": {
        "id": "sPu4wNmWnPBP",
        "colab": {
          "base_uri": "https://localhost:8080/"
        },
        "outputId": "890249f2-dcd8-4ea3-9e43-e5e8e70011db"
      },
      "source": [
        "movies_df.shape"
      ],
      "execution_count": null,
      "outputs": [
        {
          "output_type": "execute_result",
          "data": {
            "text/plain": [
              "(1000, 11)"
            ]
          },
          "metadata": {
            "tags": []
          },
          "execution_count": 245
        }
      ]
    },
    {
      "cell_type": "markdown",
      "metadata": {
        "id": "jq5ubZAVnS67"
      },
      "source": [
        "**Handling duplicates**\n",
        "\n",
        "*This dataset does not have duplicate rows, but it is always important to verify you aren't aggregating duplicate rows.*"
      ]
    },
    {
      "cell_type": "code",
      "metadata": {
        "id": "2VinCc7mnYOL",
        "colab": {
          "base_uri": "https://localhost:8080/"
        },
        "outputId": "304e817f-5092-4eef-a25c-04110343c176"
      },
      "source": [
        "temp_df= movies_df.append(movies_df)\n",
        "temp_df.shape"
      ],
      "execution_count": null,
      "outputs": [
        {
          "output_type": "execute_result",
          "data": {
            "text/plain": [
              "(2000, 11)"
            ]
          },
          "metadata": {
            "tags": []
          },
          "execution_count": 246
        }
      ]
    },
    {
      "cell_type": "code",
      "metadata": {
        "id": "sQjpmZUYnb_x",
        "colab": {
          "base_uri": "https://localhost:8080/"
        },
        "outputId": "757ea9d6-2bf0-4f9d-9fc0-d9c7a8207d33"
      },
      "source": [
        "temp_df= temp_df.drop_duplicates()\n",
        "# OR\n",
        "temp_df.drop_duplicates(inplace=True)\n",
        "temp_df.shape"
      ],
      "execution_count": null,
      "outputs": [
        {
          "output_type": "execute_result",
          "data": {
            "text/plain": [
              "(1000, 11)"
            ]
          },
          "metadata": {
            "tags": []
          },
          "execution_count": 247
        }
      ]
    },
    {
      "cell_type": "markdown",
      "metadata": {
        "id": "saTsTfd2nuok"
      },
      "source": [
        "Another important argument for drop_duplicates() is keep, which has three possible options:\n",
        "\n",
        "**–first:** (default) Drop duplicates except for the first occurrence\n",
        "\n",
        "**–last:** Drop duplicates except for the last occurrence\n",
        "\n",
        "**–False:** Drop all duplicates"
      ]
    },
    {
      "cell_type": "code",
      "metadata": {
        "id": "jGOE0cEDoS5z",
        "colab": {
          "base_uri": "https://localhost:8080/"
        },
        "outputId": "22da7dd8-c831-473d-e0b7-1151f5156978"
      },
      "source": [
        "temp_df= movies_df.append(movies_df) # make a new copy\n",
        "temp_df.drop_duplicates(inplace=True, keep=False)\n",
        "temp_df.shape"
      ],
      "execution_count": null,
      "outputs": [
        {
          "output_type": "execute_result",
          "data": {
            "text/plain": [
              "(0, 11)"
            ]
          },
          "metadata": {
            "tags": []
          },
          "execution_count": 248
        }
      ]
    },
    {
      "cell_type": "markdown",
      "metadata": {
        "id": "Olra2xNqoYgI"
      },
      "source": [
        "**Print the column names of our dataset**"
      ]
    },
    {
      "cell_type": "code",
      "metadata": {
        "id": "0IV-9xVaorBg",
        "colab": {
          "base_uri": "https://localhost:8080/"
        },
        "outputId": "a22f14f2-b0a4-4028-cdbc-661d727a46e3"
      },
      "source": [
        "movies_df.columns"
      ],
      "execution_count": null,
      "outputs": [
        {
          "output_type": "execute_result",
          "data": {
            "text/plain": [
              "Index(['Rank', 'Genre', 'Description', 'Director', 'Actors', 'Year',\n",
              "       'Runtime (Minutes)', 'Rating', 'Votes', 'Revenue (Millions)',\n",
              "       'Metascore'],\n",
              "      dtype='object')"
            ]
          },
          "metadata": {
            "tags": []
          },
          "execution_count": 249
        }
      ]
    },
    {
      "cell_type": "markdown",
      "metadata": {
        "id": "38mcvH88o3uo"
      },
      "source": [
        "**Use .rename() method to rename certain or all columns via a dict.**"
      ]
    },
    {
      "cell_type": "code",
      "metadata": {
        "id": "LPCF4d_jo9Xm",
        "colab": {
          "base_uri": "https://localhost:8080/"
        },
        "outputId": "0ecda9e0-2e99-4363-f5b1-caa497375675"
      },
      "source": [
        "movies_df.rename(columns={\n",
        "'Runtime (Minutes)': 'Runtime',\n",
        "'Revenue (Millions)': 'Revenue_millions'\n",
        "}, inplace=True)\n",
        "movies_df.columns"
      ],
      "execution_count": null,
      "outputs": [
        {
          "output_type": "execute_result",
          "data": {
            "text/plain": [
              "Index(['Rank', 'Genre', 'Description', 'Director', 'Actors', 'Year', 'Runtime',\n",
              "       'Rating', 'Votes', 'Revenue_millions', 'Metascore'],\n",
              "      dtype='object')"
            ]
          },
          "metadata": {
            "tags": []
          },
          "execution_count": 250
        }
      ]
    },
    {
      "cell_type": "markdown",
      "metadata": {
        "id": "eWeq3hoUo_Af"
      },
      "source": [
        "**What if we want to lowercase all names? Instead of\n",
        "using .rename() we could also set a list of names to the columns like so:**"
      ]
    },
    {
      "cell_type": "code",
      "metadata": {
        "id": "SGHFgsiRpIwG",
        "colab": {
          "base_uri": "https://localhost:8080/"
        },
        "outputId": "8635ea77-9415-44fd-a5c5-d7b8e65dbda9"
      },
      "source": [
        "movies_df.columns= ['rank', 'genre', 'description', 'director', 'actors', 'year', 'runtime', 'rating', 'votes', 'revenue_millions', 'metascore']\n",
        "movies_df.columns"
      ],
      "execution_count": null,
      "outputs": [
        {
          "output_type": "execute_result",
          "data": {
            "text/plain": [
              "Index(['rank', 'genre', 'description', 'director', 'actors', 'year', 'runtime',\n",
              "       'rating', 'votes', 'revenue_millions', 'metascore'],\n",
              "      dtype='object')"
            ]
          },
          "metadata": {
            "tags": []
          },
          "execution_count": 251
        }
      ]
    },
    {
      "cell_type": "markdown",
      "metadata": {
        "id": "YakuNPELpLaM"
      },
      "source": [
        "**But that's too much work. Instead of just renaming each column manually we can do a list comprehension:**"
      ]
    },
    {
      "cell_type": "code",
      "metadata": {
        "id": "icDZobt5pNh-",
        "colab": {
          "base_uri": "https://localhost:8080/"
        },
        "outputId": "09f79232-5e72-4f43-b314-c63095095d01"
      },
      "source": [
        "movies_df.columns= [col.lower() for col in movies_df]\n",
        "movies_df.columns"
      ],
      "execution_count": null,
      "outputs": [
        {
          "output_type": "execute_result",
          "data": {
            "text/plain": [
              "Index(['rank', 'genre', 'description', 'director', 'actors', 'year', 'runtime',\n",
              "       'rating', 'votes', 'revenue_millions', 'metascore'],\n",
              "      dtype='object')"
            ]
          },
          "metadata": {
            "tags": []
          },
          "execution_count": 252
        }
      ]
    },
    {
      "cell_type": "markdown",
      "metadata": {
        "id": "t9uxqSPBpTTM"
      },
      "source": [
        "# **Work with Missing Values**"
      ]
    },
    {
      "cell_type": "markdown",
      "metadata": {
        "id": "rRrb56xkppsM"
      },
      "source": [
        "**Check which cells in our DataFrameare null**"
      ]
    },
    {
      "cell_type": "code",
      "metadata": {
        "id": "-4MQQBO3ps9O",
        "colab": {
          "base_uri": "https://localhost:8080/",
          "height": 431
        },
        "outputId": "5c9327e5-35c9-448c-d081-c2b2ee873b56"
      },
      "source": [
        "movies_df.isnull()"
      ],
      "execution_count": null,
      "outputs": [
        {
          "output_type": "execute_result",
          "data": {
            "text/html": [
              "<div>\n",
              "<style scoped>\n",
              "    .dataframe tbody tr th:only-of-type {\n",
              "        vertical-align: middle;\n",
              "    }\n",
              "\n",
              "    .dataframe tbody tr th {\n",
              "        vertical-align: top;\n",
              "    }\n",
              "\n",
              "    .dataframe thead th {\n",
              "        text-align: right;\n",
              "    }\n",
              "</style>\n",
              "<table border=\"1\" class=\"dataframe\">\n",
              "  <thead>\n",
              "    <tr style=\"text-align: right;\">\n",
              "      <th></th>\n",
              "      <th>rank</th>\n",
              "      <th>genre</th>\n",
              "      <th>description</th>\n",
              "      <th>director</th>\n",
              "      <th>actors</th>\n",
              "      <th>year</th>\n",
              "      <th>runtime</th>\n",
              "      <th>rating</th>\n",
              "      <th>votes</th>\n",
              "      <th>revenue_millions</th>\n",
              "      <th>metascore</th>\n",
              "    </tr>\n",
              "    <tr>\n",
              "      <th>Title</th>\n",
              "      <th></th>\n",
              "      <th></th>\n",
              "      <th></th>\n",
              "      <th></th>\n",
              "      <th></th>\n",
              "      <th></th>\n",
              "      <th></th>\n",
              "      <th></th>\n",
              "      <th></th>\n",
              "      <th></th>\n",
              "      <th></th>\n",
              "    </tr>\n",
              "  </thead>\n",
              "  <tbody>\n",
              "    <tr>\n",
              "      <th>Guardians of the Galaxy</th>\n",
              "      <td>False</td>\n",
              "      <td>False</td>\n",
              "      <td>False</td>\n",
              "      <td>False</td>\n",
              "      <td>False</td>\n",
              "      <td>False</td>\n",
              "      <td>False</td>\n",
              "      <td>False</td>\n",
              "      <td>False</td>\n",
              "      <td>False</td>\n",
              "      <td>False</td>\n",
              "    </tr>\n",
              "    <tr>\n",
              "      <th>Prometheus</th>\n",
              "      <td>False</td>\n",
              "      <td>False</td>\n",
              "      <td>False</td>\n",
              "      <td>False</td>\n",
              "      <td>False</td>\n",
              "      <td>False</td>\n",
              "      <td>False</td>\n",
              "      <td>False</td>\n",
              "      <td>False</td>\n",
              "      <td>False</td>\n",
              "      <td>False</td>\n",
              "    </tr>\n",
              "    <tr>\n",
              "      <th>Split</th>\n",
              "      <td>False</td>\n",
              "      <td>False</td>\n",
              "      <td>False</td>\n",
              "      <td>False</td>\n",
              "      <td>False</td>\n",
              "      <td>False</td>\n",
              "      <td>False</td>\n",
              "      <td>False</td>\n",
              "      <td>False</td>\n",
              "      <td>False</td>\n",
              "      <td>False</td>\n",
              "    </tr>\n",
              "    <tr>\n",
              "      <th>Sing</th>\n",
              "      <td>False</td>\n",
              "      <td>False</td>\n",
              "      <td>False</td>\n",
              "      <td>False</td>\n",
              "      <td>False</td>\n",
              "      <td>False</td>\n",
              "      <td>False</td>\n",
              "      <td>False</td>\n",
              "      <td>False</td>\n",
              "      <td>False</td>\n",
              "      <td>False</td>\n",
              "    </tr>\n",
              "    <tr>\n",
              "      <th>Suicide Squad</th>\n",
              "      <td>False</td>\n",
              "      <td>False</td>\n",
              "      <td>False</td>\n",
              "      <td>False</td>\n",
              "      <td>False</td>\n",
              "      <td>False</td>\n",
              "      <td>False</td>\n",
              "      <td>False</td>\n",
              "      <td>False</td>\n",
              "      <td>False</td>\n",
              "      <td>False</td>\n",
              "    </tr>\n",
              "    <tr>\n",
              "      <th>...</th>\n",
              "      <td>...</td>\n",
              "      <td>...</td>\n",
              "      <td>...</td>\n",
              "      <td>...</td>\n",
              "      <td>...</td>\n",
              "      <td>...</td>\n",
              "      <td>...</td>\n",
              "      <td>...</td>\n",
              "      <td>...</td>\n",
              "      <td>...</td>\n",
              "      <td>...</td>\n",
              "    </tr>\n",
              "    <tr>\n",
              "      <th>Secret in Their Eyes</th>\n",
              "      <td>False</td>\n",
              "      <td>False</td>\n",
              "      <td>False</td>\n",
              "      <td>False</td>\n",
              "      <td>False</td>\n",
              "      <td>False</td>\n",
              "      <td>False</td>\n",
              "      <td>False</td>\n",
              "      <td>False</td>\n",
              "      <td>True</td>\n",
              "      <td>False</td>\n",
              "    </tr>\n",
              "    <tr>\n",
              "      <th>Hostel: Part II</th>\n",
              "      <td>False</td>\n",
              "      <td>False</td>\n",
              "      <td>False</td>\n",
              "      <td>False</td>\n",
              "      <td>False</td>\n",
              "      <td>False</td>\n",
              "      <td>False</td>\n",
              "      <td>False</td>\n",
              "      <td>False</td>\n",
              "      <td>False</td>\n",
              "      <td>False</td>\n",
              "    </tr>\n",
              "    <tr>\n",
              "      <th>Step Up 2: The Streets</th>\n",
              "      <td>False</td>\n",
              "      <td>False</td>\n",
              "      <td>False</td>\n",
              "      <td>False</td>\n",
              "      <td>False</td>\n",
              "      <td>False</td>\n",
              "      <td>False</td>\n",
              "      <td>False</td>\n",
              "      <td>False</td>\n",
              "      <td>False</td>\n",
              "      <td>False</td>\n",
              "    </tr>\n",
              "    <tr>\n",
              "      <th>Search Party</th>\n",
              "      <td>False</td>\n",
              "      <td>False</td>\n",
              "      <td>False</td>\n",
              "      <td>False</td>\n",
              "      <td>False</td>\n",
              "      <td>False</td>\n",
              "      <td>False</td>\n",
              "      <td>False</td>\n",
              "      <td>False</td>\n",
              "      <td>True</td>\n",
              "      <td>False</td>\n",
              "    </tr>\n",
              "    <tr>\n",
              "      <th>Nine Lives</th>\n",
              "      <td>False</td>\n",
              "      <td>False</td>\n",
              "      <td>False</td>\n",
              "      <td>False</td>\n",
              "      <td>False</td>\n",
              "      <td>False</td>\n",
              "      <td>False</td>\n",
              "      <td>False</td>\n",
              "      <td>False</td>\n",
              "      <td>False</td>\n",
              "      <td>False</td>\n",
              "    </tr>\n",
              "  </tbody>\n",
              "</table>\n",
              "<p>1000 rows × 11 columns</p>\n",
              "</div>"
            ],
            "text/plain": [
              "                          rank  genre  ...  revenue_millions  metascore\n",
              "Title                                  ...                             \n",
              "Guardians of the Galaxy  False  False  ...             False      False\n",
              "Prometheus               False  False  ...             False      False\n",
              "Split                    False  False  ...             False      False\n",
              "Sing                     False  False  ...             False      False\n",
              "Suicide Squad            False  False  ...             False      False\n",
              "...                        ...    ...  ...               ...        ...\n",
              "Secret in Their Eyes     False  False  ...              True      False\n",
              "Hostel: Part II          False  False  ...             False      False\n",
              "Step Up 2: The Streets   False  False  ...             False      False\n",
              "Search Party             False  False  ...              True      False\n",
              "Nine Lives               False  False  ...             False      False\n",
              "\n",
              "[1000 rows x 11 columns]"
            ]
          },
          "metadata": {
            "tags": []
          },
          "execution_count": 253
        }
      ]
    },
    {
      "cell_type": "markdown",
      "metadata": {
        "id": "qg_gDweKpvwm"
      },
      "source": [
        "**Count the number of nulls in each column**"
      ]
    },
    {
      "cell_type": "code",
      "metadata": {
        "id": "FcKDu6s8p0YA",
        "colab": {
          "base_uri": "https://localhost:8080/"
        },
        "outputId": "31fb7186-d373-4b56-970d-2350f41f2109"
      },
      "source": [
        "movies_df.isnull().sum()"
      ],
      "execution_count": null,
      "outputs": [
        {
          "output_type": "execute_result",
          "data": {
            "text/plain": [
              "rank                  0\n",
              "genre                 0\n",
              "description           0\n",
              "director              0\n",
              "actors                0\n",
              "year                  0\n",
              "runtime               0\n",
              "rating                0\n",
              "votes                 0\n",
              "revenue_millions    128\n",
              "metascore            64\n",
              "dtype: int64"
            ]
          },
          "metadata": {
            "tags": []
          },
          "execution_count": 254
        }
      ]
    },
    {
      "cell_type": "markdown",
      "metadata": {
        "id": "MQOG8W6_p3JU"
      },
      "source": [
        "**Remove null values**"
      ]
    },
    {
      "cell_type": "markdown",
      "metadata": {
        "id": "WEeJRcDGqRqH"
      },
      "source": [
        "*This operation will delete any row with at least a single null value, but it will return a new DataFrame without altering the original one. You could specify in place=True in this method as well.*"
      ]
    },
    {
      "cell_type": "code",
      "metadata": {
        "id": "Q-2FGTE6qBAA",
        "colab": {
          "base_uri": "https://localhost:8080/",
          "height": 1000
        },
        "outputId": "2f34d1a2-8fbd-4d6e-bac2-9a207af1c7b8"
      },
      "source": [
        "movies_df.dropna() "
      ],
      "execution_count": null,
      "outputs": [
        {
          "output_type": "execute_result",
          "data": {
            "text/html": [
              "<div>\n",
              "<style scoped>\n",
              "    .dataframe tbody tr th:only-of-type {\n",
              "        vertical-align: middle;\n",
              "    }\n",
              "\n",
              "    .dataframe tbody tr th {\n",
              "        vertical-align: top;\n",
              "    }\n",
              "\n",
              "    .dataframe thead th {\n",
              "        text-align: right;\n",
              "    }\n",
              "</style>\n",
              "<table border=\"1\" class=\"dataframe\">\n",
              "  <thead>\n",
              "    <tr style=\"text-align: right;\">\n",
              "      <th></th>\n",
              "      <th>rank</th>\n",
              "      <th>genre</th>\n",
              "      <th>description</th>\n",
              "      <th>director</th>\n",
              "      <th>actors</th>\n",
              "      <th>year</th>\n",
              "      <th>runtime</th>\n",
              "      <th>rating</th>\n",
              "      <th>votes</th>\n",
              "      <th>revenue_millions</th>\n",
              "      <th>metascore</th>\n",
              "    </tr>\n",
              "    <tr>\n",
              "      <th>Title</th>\n",
              "      <th></th>\n",
              "      <th></th>\n",
              "      <th></th>\n",
              "      <th></th>\n",
              "      <th></th>\n",
              "      <th></th>\n",
              "      <th></th>\n",
              "      <th></th>\n",
              "      <th></th>\n",
              "      <th></th>\n",
              "      <th></th>\n",
              "    </tr>\n",
              "  </thead>\n",
              "  <tbody>\n",
              "    <tr>\n",
              "      <th>Guardians of the Galaxy</th>\n",
              "      <td>1</td>\n",
              "      <td>Action,Adventure,Sci-Fi</td>\n",
              "      <td>A group of intergalactic criminals are forced ...</td>\n",
              "      <td>James Gunn</td>\n",
              "      <td>Chris Pratt, Vin Diesel, Bradley Cooper, Zoe S...</td>\n",
              "      <td>2014</td>\n",
              "      <td>121</td>\n",
              "      <td>8.1</td>\n",
              "      <td>757074</td>\n",
              "      <td>333.13</td>\n",
              "      <td>76.0</td>\n",
              "    </tr>\n",
              "    <tr>\n",
              "      <th>Prometheus</th>\n",
              "      <td>2</td>\n",
              "      <td>Adventure,Mystery,Sci-Fi</td>\n",
              "      <td>Following clues to the origin of mankind, a te...</td>\n",
              "      <td>Ridley Scott</td>\n",
              "      <td>Noomi Rapace, Logan Marshall-Green, Michael Fa...</td>\n",
              "      <td>2012</td>\n",
              "      <td>124</td>\n",
              "      <td>7.0</td>\n",
              "      <td>485820</td>\n",
              "      <td>126.46</td>\n",
              "      <td>65.0</td>\n",
              "    </tr>\n",
              "    <tr>\n",
              "      <th>Split</th>\n",
              "      <td>3</td>\n",
              "      <td>Horror,Thriller</td>\n",
              "      <td>Three girls are kidnapped by a man with a diag...</td>\n",
              "      <td>M. Night Shyamalan</td>\n",
              "      <td>James McAvoy, Anya Taylor-Joy, Haley Lu Richar...</td>\n",
              "      <td>2016</td>\n",
              "      <td>117</td>\n",
              "      <td>7.3</td>\n",
              "      <td>157606</td>\n",
              "      <td>138.12</td>\n",
              "      <td>62.0</td>\n",
              "    </tr>\n",
              "    <tr>\n",
              "      <th>Sing</th>\n",
              "      <td>4</td>\n",
              "      <td>Animation,Comedy,Family</td>\n",
              "      <td>In a city of humanoid animals, a hustling thea...</td>\n",
              "      <td>Christophe Lourdelet</td>\n",
              "      <td>Matthew McConaughey,Reese Witherspoon, Seth Ma...</td>\n",
              "      <td>2016</td>\n",
              "      <td>108</td>\n",
              "      <td>7.2</td>\n",
              "      <td>60545</td>\n",
              "      <td>270.32</td>\n",
              "      <td>59.0</td>\n",
              "    </tr>\n",
              "    <tr>\n",
              "      <th>Suicide Squad</th>\n",
              "      <td>5</td>\n",
              "      <td>Action,Adventure,Fantasy</td>\n",
              "      <td>A secret government agency recruits some of th...</td>\n",
              "      <td>David Ayer</td>\n",
              "      <td>Will Smith, Jared Leto, Margot Robbie, Viola D...</td>\n",
              "      <td>2016</td>\n",
              "      <td>123</td>\n",
              "      <td>6.2</td>\n",
              "      <td>393727</td>\n",
              "      <td>325.02</td>\n",
              "      <td>40.0</td>\n",
              "    </tr>\n",
              "    <tr>\n",
              "      <th>...</th>\n",
              "      <td>...</td>\n",
              "      <td>...</td>\n",
              "      <td>...</td>\n",
              "      <td>...</td>\n",
              "      <td>...</td>\n",
              "      <td>...</td>\n",
              "      <td>...</td>\n",
              "      <td>...</td>\n",
              "      <td>...</td>\n",
              "      <td>...</td>\n",
              "      <td>...</td>\n",
              "    </tr>\n",
              "    <tr>\n",
              "      <th>Resident Evil: Afterlife</th>\n",
              "      <td>994</td>\n",
              "      <td>Action,Adventure,Horror</td>\n",
              "      <td>While still out to destroy the evil Umbrella C...</td>\n",
              "      <td>Paul W.S. Anderson</td>\n",
              "      <td>Milla Jovovich, Ali Larter, Wentworth Miller,K...</td>\n",
              "      <td>2010</td>\n",
              "      <td>97</td>\n",
              "      <td>5.9</td>\n",
              "      <td>140900</td>\n",
              "      <td>60.13</td>\n",
              "      <td>37.0</td>\n",
              "    </tr>\n",
              "    <tr>\n",
              "      <th>Project X</th>\n",
              "      <td>995</td>\n",
              "      <td>Comedy</td>\n",
              "      <td>3 high school seniors throw a birthday party t...</td>\n",
              "      <td>Nima Nourizadeh</td>\n",
              "      <td>Thomas Mann, Oliver Cooper, Jonathan Daniel Br...</td>\n",
              "      <td>2012</td>\n",
              "      <td>88</td>\n",
              "      <td>6.7</td>\n",
              "      <td>164088</td>\n",
              "      <td>54.72</td>\n",
              "      <td>48.0</td>\n",
              "    </tr>\n",
              "    <tr>\n",
              "      <th>Hostel: Part II</th>\n",
              "      <td>997</td>\n",
              "      <td>Horror</td>\n",
              "      <td>Three American college students studying abroa...</td>\n",
              "      <td>Eli Roth</td>\n",
              "      <td>Lauren German, Heather Matarazzo, Bijou Philli...</td>\n",
              "      <td>2007</td>\n",
              "      <td>94</td>\n",
              "      <td>5.5</td>\n",
              "      <td>73152</td>\n",
              "      <td>17.54</td>\n",
              "      <td>46.0</td>\n",
              "    </tr>\n",
              "    <tr>\n",
              "      <th>Step Up 2: The Streets</th>\n",
              "      <td>998</td>\n",
              "      <td>Drama,Music,Romance</td>\n",
              "      <td>Romantic sparks occur between two dance studen...</td>\n",
              "      <td>Jon M. Chu</td>\n",
              "      <td>Robert Hoffman, Briana Evigan, Cassie Ventura,...</td>\n",
              "      <td>2008</td>\n",
              "      <td>98</td>\n",
              "      <td>6.2</td>\n",
              "      <td>70699</td>\n",
              "      <td>58.01</td>\n",
              "      <td>50.0</td>\n",
              "    </tr>\n",
              "    <tr>\n",
              "      <th>Nine Lives</th>\n",
              "      <td>1000</td>\n",
              "      <td>Comedy,Family,Fantasy</td>\n",
              "      <td>A stuffy businessman finds himself trapped ins...</td>\n",
              "      <td>Barry Sonnenfeld</td>\n",
              "      <td>Kevin Spacey, Jennifer Garner, Robbie Amell,Ch...</td>\n",
              "      <td>2016</td>\n",
              "      <td>87</td>\n",
              "      <td>5.3</td>\n",
              "      <td>12435</td>\n",
              "      <td>19.64</td>\n",
              "      <td>11.0</td>\n",
              "    </tr>\n",
              "  </tbody>\n",
              "</table>\n",
              "<p>838 rows × 11 columns</p>\n",
              "</div>"
            ],
            "text/plain": [
              "                          rank  ... metascore\n",
              "Title                           ...          \n",
              "Guardians of the Galaxy      1  ...      76.0\n",
              "Prometheus                   2  ...      65.0\n",
              "Split                        3  ...      62.0\n",
              "Sing                         4  ...      59.0\n",
              "Suicide Squad                5  ...      40.0\n",
              "...                        ...  ...       ...\n",
              "Resident Evil: Afterlife   994  ...      37.0\n",
              "Project X                  995  ...      48.0\n",
              "Hostel: Part II            997  ...      46.0\n",
              "Step Up 2: The Streets     998  ...      50.0\n",
              "Nine Lives                1000  ...      11.0\n",
              "\n",
              "[838 rows x 11 columns]"
            ]
          },
          "metadata": {
            "tags": []
          },
          "execution_count": 255
        }
      ]
    },
    {
      "cell_type": "markdown",
      "metadata": {
        "id": "i0OygyvxqV_b"
      },
      "source": [
        "*Drop columns with null values*"
      ]
    },
    {
      "cell_type": "code",
      "metadata": {
        "id": "7Uizj_aQqZlh",
        "colab": {
          "base_uri": "https://localhost:8080/",
          "height": 599
        },
        "outputId": "f2d33dcf-d676-4f5b-f614-3e6021990ba8"
      },
      "source": [
        "movies_df.dropna(axis=1)"
      ],
      "execution_count": null,
      "outputs": [
        {
          "output_type": "execute_result",
          "data": {
            "text/html": [
              "<div>\n",
              "<style scoped>\n",
              "    .dataframe tbody tr th:only-of-type {\n",
              "        vertical-align: middle;\n",
              "    }\n",
              "\n",
              "    .dataframe tbody tr th {\n",
              "        vertical-align: top;\n",
              "    }\n",
              "\n",
              "    .dataframe thead th {\n",
              "        text-align: right;\n",
              "    }\n",
              "</style>\n",
              "<table border=\"1\" class=\"dataframe\">\n",
              "  <thead>\n",
              "    <tr style=\"text-align: right;\">\n",
              "      <th></th>\n",
              "      <th>rank</th>\n",
              "      <th>genre</th>\n",
              "      <th>description</th>\n",
              "      <th>director</th>\n",
              "      <th>actors</th>\n",
              "      <th>year</th>\n",
              "      <th>runtime</th>\n",
              "      <th>rating</th>\n",
              "      <th>votes</th>\n",
              "    </tr>\n",
              "    <tr>\n",
              "      <th>Title</th>\n",
              "      <th></th>\n",
              "      <th></th>\n",
              "      <th></th>\n",
              "      <th></th>\n",
              "      <th></th>\n",
              "      <th></th>\n",
              "      <th></th>\n",
              "      <th></th>\n",
              "      <th></th>\n",
              "    </tr>\n",
              "  </thead>\n",
              "  <tbody>\n",
              "    <tr>\n",
              "      <th>Guardians of the Galaxy</th>\n",
              "      <td>1</td>\n",
              "      <td>Action,Adventure,Sci-Fi</td>\n",
              "      <td>A group of intergalactic criminals are forced ...</td>\n",
              "      <td>James Gunn</td>\n",
              "      <td>Chris Pratt, Vin Diesel, Bradley Cooper, Zoe S...</td>\n",
              "      <td>2014</td>\n",
              "      <td>121</td>\n",
              "      <td>8.1</td>\n",
              "      <td>757074</td>\n",
              "    </tr>\n",
              "    <tr>\n",
              "      <th>Prometheus</th>\n",
              "      <td>2</td>\n",
              "      <td>Adventure,Mystery,Sci-Fi</td>\n",
              "      <td>Following clues to the origin of mankind, a te...</td>\n",
              "      <td>Ridley Scott</td>\n",
              "      <td>Noomi Rapace, Logan Marshall-Green, Michael Fa...</td>\n",
              "      <td>2012</td>\n",
              "      <td>124</td>\n",
              "      <td>7.0</td>\n",
              "      <td>485820</td>\n",
              "    </tr>\n",
              "    <tr>\n",
              "      <th>Split</th>\n",
              "      <td>3</td>\n",
              "      <td>Horror,Thriller</td>\n",
              "      <td>Three girls are kidnapped by a man with a diag...</td>\n",
              "      <td>M. Night Shyamalan</td>\n",
              "      <td>James McAvoy, Anya Taylor-Joy, Haley Lu Richar...</td>\n",
              "      <td>2016</td>\n",
              "      <td>117</td>\n",
              "      <td>7.3</td>\n",
              "      <td>157606</td>\n",
              "    </tr>\n",
              "    <tr>\n",
              "      <th>Sing</th>\n",
              "      <td>4</td>\n",
              "      <td>Animation,Comedy,Family</td>\n",
              "      <td>In a city of humanoid animals, a hustling thea...</td>\n",
              "      <td>Christophe Lourdelet</td>\n",
              "      <td>Matthew McConaughey,Reese Witherspoon, Seth Ma...</td>\n",
              "      <td>2016</td>\n",
              "      <td>108</td>\n",
              "      <td>7.2</td>\n",
              "      <td>60545</td>\n",
              "    </tr>\n",
              "    <tr>\n",
              "      <th>Suicide Squad</th>\n",
              "      <td>5</td>\n",
              "      <td>Action,Adventure,Fantasy</td>\n",
              "      <td>A secret government agency recruits some of th...</td>\n",
              "      <td>David Ayer</td>\n",
              "      <td>Will Smith, Jared Leto, Margot Robbie, Viola D...</td>\n",
              "      <td>2016</td>\n",
              "      <td>123</td>\n",
              "      <td>6.2</td>\n",
              "      <td>393727</td>\n",
              "    </tr>\n",
              "    <tr>\n",
              "      <th>...</th>\n",
              "      <td>...</td>\n",
              "      <td>...</td>\n",
              "      <td>...</td>\n",
              "      <td>...</td>\n",
              "      <td>...</td>\n",
              "      <td>...</td>\n",
              "      <td>...</td>\n",
              "      <td>...</td>\n",
              "      <td>...</td>\n",
              "    </tr>\n",
              "    <tr>\n",
              "      <th>Secret in Their Eyes</th>\n",
              "      <td>996</td>\n",
              "      <td>Crime,Drama,Mystery</td>\n",
              "      <td>A tight-knit team of rising investigators, alo...</td>\n",
              "      <td>Billy Ray</td>\n",
              "      <td>Chiwetel Ejiofor, Nicole Kidman, Julia Roberts...</td>\n",
              "      <td>2015</td>\n",
              "      <td>111</td>\n",
              "      <td>6.2</td>\n",
              "      <td>27585</td>\n",
              "    </tr>\n",
              "    <tr>\n",
              "      <th>Hostel: Part II</th>\n",
              "      <td>997</td>\n",
              "      <td>Horror</td>\n",
              "      <td>Three American college students studying abroa...</td>\n",
              "      <td>Eli Roth</td>\n",
              "      <td>Lauren German, Heather Matarazzo, Bijou Philli...</td>\n",
              "      <td>2007</td>\n",
              "      <td>94</td>\n",
              "      <td>5.5</td>\n",
              "      <td>73152</td>\n",
              "    </tr>\n",
              "    <tr>\n",
              "      <th>Step Up 2: The Streets</th>\n",
              "      <td>998</td>\n",
              "      <td>Drama,Music,Romance</td>\n",
              "      <td>Romantic sparks occur between two dance studen...</td>\n",
              "      <td>Jon M. Chu</td>\n",
              "      <td>Robert Hoffman, Briana Evigan, Cassie Ventura,...</td>\n",
              "      <td>2008</td>\n",
              "      <td>98</td>\n",
              "      <td>6.2</td>\n",
              "      <td>70699</td>\n",
              "    </tr>\n",
              "    <tr>\n",
              "      <th>Search Party</th>\n",
              "      <td>999</td>\n",
              "      <td>Adventure,Comedy</td>\n",
              "      <td>A pair of friends embark on a mission to reuni...</td>\n",
              "      <td>Scot Armstrong</td>\n",
              "      <td>Adam Pally, T.J. Miller, Thomas Middleditch,Sh...</td>\n",
              "      <td>2014</td>\n",
              "      <td>93</td>\n",
              "      <td>5.6</td>\n",
              "      <td>4881</td>\n",
              "    </tr>\n",
              "    <tr>\n",
              "      <th>Nine Lives</th>\n",
              "      <td>1000</td>\n",
              "      <td>Comedy,Family,Fantasy</td>\n",
              "      <td>A stuffy businessman finds himself trapped ins...</td>\n",
              "      <td>Barry Sonnenfeld</td>\n",
              "      <td>Kevin Spacey, Jennifer Garner, Robbie Amell,Ch...</td>\n",
              "      <td>2016</td>\n",
              "      <td>87</td>\n",
              "      <td>5.3</td>\n",
              "      <td>12435</td>\n",
              "    </tr>\n",
              "  </tbody>\n",
              "</table>\n",
              "<p>1000 rows × 9 columns</p>\n",
              "</div>"
            ],
            "text/plain": [
              "                         rank                     genre  ... rating   votes\n",
              "Title                                                    ...               \n",
              "Guardians of the Galaxy     1   Action,Adventure,Sci-Fi  ...    8.1  757074\n",
              "Prometheus                  2  Adventure,Mystery,Sci-Fi  ...    7.0  485820\n",
              "Split                       3           Horror,Thriller  ...    7.3  157606\n",
              "Sing                        4   Animation,Comedy,Family  ...    7.2   60545\n",
              "Suicide Squad               5  Action,Adventure,Fantasy  ...    6.2  393727\n",
              "...                       ...                       ...  ...    ...     ...\n",
              "Secret in Their Eyes      996       Crime,Drama,Mystery  ...    6.2   27585\n",
              "Hostel: Part II           997                    Horror  ...    5.5   73152\n",
              "Step Up 2: The Streets    998       Drama,Music,Romance  ...    6.2   70699\n",
              "Search Party              999          Adventure,Comedy  ...    5.6    4881\n",
              "Nine Lives               1000     Comedy,Family,Fantasy  ...    5.3   12435\n",
              "\n",
              "[1000 rows x 9 columns]"
            ]
          },
          "metadata": {
            "tags": []
          },
          "execution_count": 256
        }
      ]
    },
    {
      "cell_type": "markdown",
      "metadata": {
        "id": "yHNZqgJZqk7P"
      },
      "source": [
        "# **Check Data Statistics**"
      ]
    },
    {
      "cell_type": "markdown",
      "metadata": {
        "id": "v_DB2OvUqnTD"
      },
      "source": [
        "**Understanding your variables**"
      ]
    },
    {
      "cell_type": "markdown",
      "metadata": {
        "id": "yCrBZEFlqvy1"
      },
      "source": [
        "*Using describe()on an entire DataFramewe can get a summary of the distribution of continuous variables*"
      ]
    },
    {
      "cell_type": "code",
      "metadata": {
        "id": "AEx189fvq0YS",
        "colab": {
          "base_uri": "https://localhost:8080/",
          "height": 284
        },
        "outputId": "aa2a9bf3-0178-4c8f-d7a9-d13fc601bed6"
      },
      "source": [
        "movies_df.describe()"
      ],
      "execution_count": null,
      "outputs": [
        {
          "output_type": "execute_result",
          "data": {
            "text/html": [
              "<div>\n",
              "<style scoped>\n",
              "    .dataframe tbody tr th:only-of-type {\n",
              "        vertical-align: middle;\n",
              "    }\n",
              "\n",
              "    .dataframe tbody tr th {\n",
              "        vertical-align: top;\n",
              "    }\n",
              "\n",
              "    .dataframe thead th {\n",
              "        text-align: right;\n",
              "    }\n",
              "</style>\n",
              "<table border=\"1\" class=\"dataframe\">\n",
              "  <thead>\n",
              "    <tr style=\"text-align: right;\">\n",
              "      <th></th>\n",
              "      <th>rank</th>\n",
              "      <th>year</th>\n",
              "      <th>runtime</th>\n",
              "      <th>rating</th>\n",
              "      <th>votes</th>\n",
              "      <th>revenue_millions</th>\n",
              "      <th>metascore</th>\n",
              "    </tr>\n",
              "  </thead>\n",
              "  <tbody>\n",
              "    <tr>\n",
              "      <th>count</th>\n",
              "      <td>1000.000000</td>\n",
              "      <td>1000.000000</td>\n",
              "      <td>1000.000000</td>\n",
              "      <td>1000.000000</td>\n",
              "      <td>1.000000e+03</td>\n",
              "      <td>872.000000</td>\n",
              "      <td>936.000000</td>\n",
              "    </tr>\n",
              "    <tr>\n",
              "      <th>mean</th>\n",
              "      <td>500.500000</td>\n",
              "      <td>2012.783000</td>\n",
              "      <td>113.172000</td>\n",
              "      <td>6.723200</td>\n",
              "      <td>1.698083e+05</td>\n",
              "      <td>82.956376</td>\n",
              "      <td>58.985043</td>\n",
              "    </tr>\n",
              "    <tr>\n",
              "      <th>std</th>\n",
              "      <td>288.819436</td>\n",
              "      <td>3.205962</td>\n",
              "      <td>18.810908</td>\n",
              "      <td>0.945429</td>\n",
              "      <td>1.887626e+05</td>\n",
              "      <td>103.253540</td>\n",
              "      <td>17.194757</td>\n",
              "    </tr>\n",
              "    <tr>\n",
              "      <th>min</th>\n",
              "      <td>1.000000</td>\n",
              "      <td>2006.000000</td>\n",
              "      <td>66.000000</td>\n",
              "      <td>1.900000</td>\n",
              "      <td>6.100000e+01</td>\n",
              "      <td>0.000000</td>\n",
              "      <td>11.000000</td>\n",
              "    </tr>\n",
              "    <tr>\n",
              "      <th>25%</th>\n",
              "      <td>250.750000</td>\n",
              "      <td>2010.000000</td>\n",
              "      <td>100.000000</td>\n",
              "      <td>6.200000</td>\n",
              "      <td>3.630900e+04</td>\n",
              "      <td>13.270000</td>\n",
              "      <td>47.000000</td>\n",
              "    </tr>\n",
              "    <tr>\n",
              "      <th>50%</th>\n",
              "      <td>500.500000</td>\n",
              "      <td>2014.000000</td>\n",
              "      <td>111.000000</td>\n",
              "      <td>6.800000</td>\n",
              "      <td>1.107990e+05</td>\n",
              "      <td>47.985000</td>\n",
              "      <td>59.500000</td>\n",
              "    </tr>\n",
              "    <tr>\n",
              "      <th>75%</th>\n",
              "      <td>750.250000</td>\n",
              "      <td>2016.000000</td>\n",
              "      <td>123.000000</td>\n",
              "      <td>7.400000</td>\n",
              "      <td>2.399098e+05</td>\n",
              "      <td>113.715000</td>\n",
              "      <td>72.000000</td>\n",
              "    </tr>\n",
              "    <tr>\n",
              "      <th>max</th>\n",
              "      <td>1000.000000</td>\n",
              "      <td>2016.000000</td>\n",
              "      <td>191.000000</td>\n",
              "      <td>9.000000</td>\n",
              "      <td>1.791916e+06</td>\n",
              "      <td>936.630000</td>\n",
              "      <td>100.000000</td>\n",
              "    </tr>\n",
              "  </tbody>\n",
              "</table>\n",
              "</div>"
            ],
            "text/plain": [
              "              rank         year  ...  revenue_millions   metascore\n",
              "count  1000.000000  1000.000000  ...        872.000000  936.000000\n",
              "mean    500.500000  2012.783000  ...         82.956376   58.985043\n",
              "std     288.819436     3.205962  ...        103.253540   17.194757\n",
              "min       1.000000  2006.000000  ...          0.000000   11.000000\n",
              "25%     250.750000  2010.000000  ...         13.270000   47.000000\n",
              "50%     500.500000  2014.000000  ...         47.985000   59.500000\n",
              "75%     750.250000  2016.000000  ...        113.715000   72.000000\n",
              "max    1000.000000  2016.000000  ...        936.630000  100.000000\n",
              "\n",
              "[8 rows x 7 columns]"
            ]
          },
          "metadata": {
            "tags": []
          },
          "execution_count": 257
        }
      ]
    },
    {
      "cell_type": "markdown",
      "metadata": {
        "id": "bW0bpTO7q5VC"
      },
      "source": [
        "*By using the correlation method.corr() we can generate the relationship between each continuous variable:*"
      ]
    },
    {
      "cell_type": "code",
      "metadata": {
        "id": "r0fKCRGqq98_",
        "colab": {
          "base_uri": "https://localhost:8080/",
          "height": 254
        },
        "outputId": "bdf7e33c-d02d-43cf-c5fb-f8b0756df452"
      },
      "source": [
        "movies_df.corr()"
      ],
      "execution_count": null,
      "outputs": [
        {
          "output_type": "execute_result",
          "data": {
            "text/html": [
              "<div>\n",
              "<style scoped>\n",
              "    .dataframe tbody tr th:only-of-type {\n",
              "        vertical-align: middle;\n",
              "    }\n",
              "\n",
              "    .dataframe tbody tr th {\n",
              "        vertical-align: top;\n",
              "    }\n",
              "\n",
              "    .dataframe thead th {\n",
              "        text-align: right;\n",
              "    }\n",
              "</style>\n",
              "<table border=\"1\" class=\"dataframe\">\n",
              "  <thead>\n",
              "    <tr style=\"text-align: right;\">\n",
              "      <th></th>\n",
              "      <th>rank</th>\n",
              "      <th>year</th>\n",
              "      <th>runtime</th>\n",
              "      <th>rating</th>\n",
              "      <th>votes</th>\n",
              "      <th>revenue_millions</th>\n",
              "      <th>metascore</th>\n",
              "    </tr>\n",
              "  </thead>\n",
              "  <tbody>\n",
              "    <tr>\n",
              "      <th>rank</th>\n",
              "      <td>1.000000</td>\n",
              "      <td>-0.261605</td>\n",
              "      <td>-0.221739</td>\n",
              "      <td>-0.219555</td>\n",
              "      <td>-0.283876</td>\n",
              "      <td>-0.271592</td>\n",
              "      <td>-0.191869</td>\n",
              "    </tr>\n",
              "    <tr>\n",
              "      <th>year</th>\n",
              "      <td>-0.261605</td>\n",
              "      <td>1.000000</td>\n",
              "      <td>-0.164900</td>\n",
              "      <td>-0.211219</td>\n",
              "      <td>-0.411904</td>\n",
              "      <td>-0.126790</td>\n",
              "      <td>-0.079305</td>\n",
              "    </tr>\n",
              "    <tr>\n",
              "      <th>runtime</th>\n",
              "      <td>-0.221739</td>\n",
              "      <td>-0.164900</td>\n",
              "      <td>1.000000</td>\n",
              "      <td>0.392214</td>\n",
              "      <td>0.407062</td>\n",
              "      <td>0.267953</td>\n",
              "      <td>0.211978</td>\n",
              "    </tr>\n",
              "    <tr>\n",
              "      <th>rating</th>\n",
              "      <td>-0.219555</td>\n",
              "      <td>-0.211219</td>\n",
              "      <td>0.392214</td>\n",
              "      <td>1.000000</td>\n",
              "      <td>0.511537</td>\n",
              "      <td>0.217654</td>\n",
              "      <td>0.631897</td>\n",
              "    </tr>\n",
              "    <tr>\n",
              "      <th>votes</th>\n",
              "      <td>-0.283876</td>\n",
              "      <td>-0.411904</td>\n",
              "      <td>0.407062</td>\n",
              "      <td>0.511537</td>\n",
              "      <td>1.000000</td>\n",
              "      <td>0.639661</td>\n",
              "      <td>0.325684</td>\n",
              "    </tr>\n",
              "    <tr>\n",
              "      <th>revenue_millions</th>\n",
              "      <td>-0.271592</td>\n",
              "      <td>-0.126790</td>\n",
              "      <td>0.267953</td>\n",
              "      <td>0.217654</td>\n",
              "      <td>0.639661</td>\n",
              "      <td>1.000000</td>\n",
              "      <td>0.142397</td>\n",
              "    </tr>\n",
              "    <tr>\n",
              "      <th>metascore</th>\n",
              "      <td>-0.191869</td>\n",
              "      <td>-0.079305</td>\n",
              "      <td>0.211978</td>\n",
              "      <td>0.631897</td>\n",
              "      <td>0.325684</td>\n",
              "      <td>0.142397</td>\n",
              "      <td>1.000000</td>\n",
              "    </tr>\n",
              "  </tbody>\n",
              "</table>\n",
              "</div>"
            ],
            "text/plain": [
              "                      rank      year  ...  revenue_millions  metascore\n",
              "rank              1.000000 -0.261605  ...         -0.271592  -0.191869\n",
              "year             -0.261605  1.000000  ...         -0.126790  -0.079305\n",
              "runtime          -0.221739 -0.164900  ...          0.267953   0.211978\n",
              "rating           -0.219555 -0.211219  ...          0.217654   0.631897\n",
              "votes            -0.283876 -0.411904  ...          0.639661   0.325684\n",
              "revenue_millions -0.271592 -0.126790  ...          1.000000   0.142397\n",
              "metascore        -0.191869 -0.079305  ...          0.142397   1.000000\n",
              "\n",
              "[7 rows x 7 columns]"
            ]
          },
          "metadata": {
            "tags": []
          },
          "execution_count": 258
        }
      ]
    },
    {
      "cell_type": "markdown",
      "metadata": {
        "id": "Y3-VZCYIrCub"
      },
      "source": [
        "*.describe() can also be used on a categorical variable to get the count of rows, unique count of categories, top category, and freq of top category:*"
      ]
    },
    {
      "cell_type": "code",
      "metadata": {
        "id": "HZmPZZMfrGwJ",
        "colab": {
          "base_uri": "https://localhost:8080/"
        },
        "outputId": "127002c5-b408-4a10-9484-1ba8a1dbbbb2"
      },
      "source": [
        "movies_df['genre'].describe()"
      ],
      "execution_count": null,
      "outputs": [
        {
          "output_type": "execute_result",
          "data": {
            "text/plain": [
              "count                        1000\n",
              "unique                        207\n",
              "top       Action,Adventure,Sci-Fi\n",
              "freq                           50\n",
              "Name: genre, dtype: object"
            ]
          },
          "metadata": {
            "tags": []
          },
          "execution_count": 259
        }
      ]
    },
    {
      "cell_type": "markdown",
      "metadata": {
        "id": "C6LqufDLrKcu"
      },
      "source": [
        "*.value_counts() can tell us the frequency of all values in a column:*"
      ]
    },
    {
      "cell_type": "code",
      "metadata": {
        "id": "dZHt_VPZrNxA",
        "colab": {
          "base_uri": "https://localhost:8080/"
        },
        "outputId": "008490d4-88b2-4904-bcc9-80336d9c526f"
      },
      "source": [
        "movies_df['genre'].value_counts().head(10)"
      ],
      "execution_count": null,
      "outputs": [
        {
          "output_type": "execute_result",
          "data": {
            "text/plain": [
              "Action,Adventure,Sci-Fi       50\n",
              "Drama                         48\n",
              "Comedy,Drama,Romance          35\n",
              "Comedy                        32\n",
              "Drama,Romance                 31\n",
              "Action,Adventure,Fantasy      27\n",
              "Animation,Adventure,Comedy    27\n",
              "Comedy,Drama                  27\n",
              "Comedy,Romance                26\n",
              "Crime,Drama,Thriller          24\n",
              "Name: genre, dtype: int64"
            ]
          },
          "metadata": {
            "tags": []
          },
          "execution_count": 260
        }
      ]
    },
    {
      "cell_type": "markdown",
      "metadata": {
        "id": "QboOCVDlrQX-"
      },
      "source": [
        "# **DataFrame Slicing, Selecting, and Extracting**"
      ]
    },
    {
      "cell_type": "markdown",
      "metadata": {
        "id": "pdKqw2vUrTy9"
      },
      "source": [
        "**By columns**"
      ]
    },
    {
      "cell_type": "code",
      "metadata": {
        "id": "_mf0Yw3arbrw",
        "colab": {
          "base_uri": "https://localhost:8080/"
        },
        "outputId": "bf38e2eb-4bce-4b10-c6a0-99a269baa3f3"
      },
      "source": [
        "genre_col= movies_df['genre']\n",
        "type(genre_col)"
      ],
      "execution_count": null,
      "outputs": [
        {
          "output_type": "execute_result",
          "data": {
            "text/plain": [
              "pandas.core.series.Series"
            ]
          },
          "metadata": {
            "tags": []
          },
          "execution_count": 261
        }
      ]
    },
    {
      "cell_type": "code",
      "metadata": {
        "id": "HbGqxhfPrlex",
        "colab": {
          "base_uri": "https://localhost:8080/"
        },
        "outputId": "f3fc4380-c947-4b2a-bdd6-fab25e967ef8"
      },
      "source": [
        "genre_col= movies_df[['genre']]\n",
        "type(genre_col)"
      ],
      "execution_count": null,
      "outputs": [
        {
          "output_type": "execute_result",
          "data": {
            "text/plain": [
              "pandas.core.frame.DataFrame"
            ]
          },
          "metadata": {
            "tags": []
          },
          "execution_count": 262
        }
      ]
    },
    {
      "cell_type": "code",
      "metadata": {
        "id": "MXub3FeZroV5",
        "colab": {
          "base_uri": "https://localhost:8080/",
          "height": 225
        },
        "outputId": "ec895dc3-d000-460f-e6c1-2551aba4cf9d"
      },
      "source": [
        "subset = movies_df[['genre', 'rating']]\n",
        "subset.head()"
      ],
      "execution_count": null,
      "outputs": [
        {
          "output_type": "execute_result",
          "data": {
            "text/html": [
              "<div>\n",
              "<style scoped>\n",
              "    .dataframe tbody tr th:only-of-type {\n",
              "        vertical-align: middle;\n",
              "    }\n",
              "\n",
              "    .dataframe tbody tr th {\n",
              "        vertical-align: top;\n",
              "    }\n",
              "\n",
              "    .dataframe thead th {\n",
              "        text-align: right;\n",
              "    }\n",
              "</style>\n",
              "<table border=\"1\" class=\"dataframe\">\n",
              "  <thead>\n",
              "    <tr style=\"text-align: right;\">\n",
              "      <th></th>\n",
              "      <th>genre</th>\n",
              "      <th>rating</th>\n",
              "    </tr>\n",
              "    <tr>\n",
              "      <th>Title</th>\n",
              "      <th></th>\n",
              "      <th></th>\n",
              "    </tr>\n",
              "  </thead>\n",
              "  <tbody>\n",
              "    <tr>\n",
              "      <th>Guardians of the Galaxy</th>\n",
              "      <td>Action,Adventure,Sci-Fi</td>\n",
              "      <td>8.1</td>\n",
              "    </tr>\n",
              "    <tr>\n",
              "      <th>Prometheus</th>\n",
              "      <td>Adventure,Mystery,Sci-Fi</td>\n",
              "      <td>7.0</td>\n",
              "    </tr>\n",
              "    <tr>\n",
              "      <th>Split</th>\n",
              "      <td>Horror,Thriller</td>\n",
              "      <td>7.3</td>\n",
              "    </tr>\n",
              "    <tr>\n",
              "      <th>Sing</th>\n",
              "      <td>Animation,Comedy,Family</td>\n",
              "      <td>7.2</td>\n",
              "    </tr>\n",
              "    <tr>\n",
              "      <th>Suicide Squad</th>\n",
              "      <td>Action,Adventure,Fantasy</td>\n",
              "      <td>6.2</td>\n",
              "    </tr>\n",
              "  </tbody>\n",
              "</table>\n",
              "</div>"
            ],
            "text/plain": [
              "                                            genre  rating\n",
              "Title                                                    \n",
              "Guardians of the Galaxy   Action,Adventure,Sci-Fi     8.1\n",
              "Prometheus               Adventure,Mystery,Sci-Fi     7.0\n",
              "Split                             Horror,Thriller     7.3\n",
              "Sing                      Animation,Comedy,Family     7.2\n",
              "Suicide Squad            Action,Adventure,Fantasy     6.2"
            ]
          },
          "metadata": {
            "tags": []
          },
          "execution_count": 263
        }
      ]
    },
    {
      "cell_type": "markdown",
      "metadata": {
        "id": "Yl1FdYdYrvll"
      },
      "source": [
        "**By rows: two options**"
      ]
    },
    {
      "cell_type": "markdown",
      "metadata": {
        "id": "G3bqu6h3ryNr"
      },
      "source": [
        "*   .loc-locates by name\n",
        "*   .iloc-locates by numerical index"
      ]
    },
    {
      "cell_type": "code",
      "metadata": {
        "id": "D7LKSgM6sFo6"
      },
      "source": [
        "# Single Row\n",
        "\n",
        "prom = movies_df.loc[\"Prometheus\"]\n",
        "prom = movies_df.iloc[1]              # 1 is the numerical index of Prometheus:"
      ],
      "execution_count": null,
      "outputs": []
    },
    {
      "cell_type": "code",
      "metadata": {
        "id": "3uskO6fcsTHx"
      },
      "source": [
        "# Multiple Rows\n",
        "\n",
        "movie_subset= movies_df.loc['Prometheus':'Sing']\n",
        "movie_subset= movies_df.iloc[1:4]"
      ],
      "execution_count": null,
      "outputs": []
    },
    {
      "cell_type": "markdown",
      "metadata": {
        "id": "5Ebo-WkIsXhu"
      },
      "source": [
        "**Conditional selections**"
      ]
    },
    {
      "cell_type": "markdown",
      "metadata": {
        "id": "lYLC_NJ1shd2"
      },
      "source": [
        "*For example, what if we want to filter our movies DataFrame to show only films directed by Ridley Scott or films with a rating greater than or equal to 8.0?*"
      ]
    },
    {
      "cell_type": "code",
      "metadata": {
        "id": "N4TTyYQdspQG",
        "colab": {
          "base_uri": "https://localhost:8080/"
        },
        "outputId": "b8d892c2-16e8-495d-e7b3-83fb99a5d30a"
      },
      "source": [
        "condition = (movies_df['director'] == \"Ridley Scott\")\n",
        "condition.head()"
      ],
      "execution_count": null,
      "outputs": [
        {
          "output_type": "execute_result",
          "data": {
            "text/plain": [
              "Title\n",
              "Guardians of the Galaxy    False\n",
              "Prometheus                  True\n",
              "Split                      False\n",
              "Sing                       False\n",
              "Suicide Squad              False\n",
              "Name: director, dtype: bool"
            ]
          },
          "metadata": {
            "tags": []
          },
          "execution_count": 266
        }
      ]
    },
    {
      "cell_type": "markdown",
      "metadata": {
        "id": "OBahZZ_csrp3"
      },
      "source": [
        "*Similar to isnull(), this returns a Series of True and False values: True for films directed by Ridley Scott and False for ones not directed by him.*"
      ]
    },
    {
      "cell_type": "code",
      "metadata": {
        "id": "ajpzIcfWsvt_",
        "colab": {
          "base_uri": "https://localhost:8080/",
          "height": 1000
        },
        "outputId": "473b1f67-b979-4a3a-acc2-69e4f9597713"
      },
      "source": [
        "movies_df[movies_df['director'] == \"Ridley Scott\"]\n",
        "\n",
        "movies_df[movies_df['rating'] >= 8.6]\n",
        "\n",
        "movies_df[(movies_df['director'] == 'Christopher Nolan') | (movies_df['director'] == 'Ridley Scott')]"
      ],
      "execution_count": null,
      "outputs": [
        {
          "output_type": "execute_result",
          "data": {
            "text/html": [
              "<div>\n",
              "<style scoped>\n",
              "    .dataframe tbody tr th:only-of-type {\n",
              "        vertical-align: middle;\n",
              "    }\n",
              "\n",
              "    .dataframe tbody tr th {\n",
              "        vertical-align: top;\n",
              "    }\n",
              "\n",
              "    .dataframe thead th {\n",
              "        text-align: right;\n",
              "    }\n",
              "</style>\n",
              "<table border=\"1\" class=\"dataframe\">\n",
              "  <thead>\n",
              "    <tr style=\"text-align: right;\">\n",
              "      <th></th>\n",
              "      <th>rank</th>\n",
              "      <th>genre</th>\n",
              "      <th>description</th>\n",
              "      <th>director</th>\n",
              "      <th>actors</th>\n",
              "      <th>year</th>\n",
              "      <th>runtime</th>\n",
              "      <th>rating</th>\n",
              "      <th>votes</th>\n",
              "      <th>revenue_millions</th>\n",
              "      <th>metascore</th>\n",
              "    </tr>\n",
              "    <tr>\n",
              "      <th>Title</th>\n",
              "      <th></th>\n",
              "      <th></th>\n",
              "      <th></th>\n",
              "      <th></th>\n",
              "      <th></th>\n",
              "      <th></th>\n",
              "      <th></th>\n",
              "      <th></th>\n",
              "      <th></th>\n",
              "      <th></th>\n",
              "      <th></th>\n",
              "    </tr>\n",
              "  </thead>\n",
              "  <tbody>\n",
              "    <tr>\n",
              "      <th>Prometheus</th>\n",
              "      <td>2</td>\n",
              "      <td>Adventure,Mystery,Sci-Fi</td>\n",
              "      <td>Following clues to the origin of mankind, a te...</td>\n",
              "      <td>Ridley Scott</td>\n",
              "      <td>Noomi Rapace, Logan Marshall-Green, Michael Fa...</td>\n",
              "      <td>2012</td>\n",
              "      <td>124</td>\n",
              "      <td>7.0</td>\n",
              "      <td>485820</td>\n",
              "      <td>126.46</td>\n",
              "      <td>65.0</td>\n",
              "    </tr>\n",
              "    <tr>\n",
              "      <th>Interstellar</th>\n",
              "      <td>37</td>\n",
              "      <td>Adventure,Drama,Sci-Fi</td>\n",
              "      <td>A team of explorers travel through a wormhole ...</td>\n",
              "      <td>Christopher Nolan</td>\n",
              "      <td>Matthew McConaughey, Anne Hathaway, Jessica Ch...</td>\n",
              "      <td>2014</td>\n",
              "      <td>169</td>\n",
              "      <td>8.6</td>\n",
              "      <td>1047747</td>\n",
              "      <td>187.99</td>\n",
              "      <td>74.0</td>\n",
              "    </tr>\n",
              "    <tr>\n",
              "      <th>The Dark Knight</th>\n",
              "      <td>55</td>\n",
              "      <td>Action,Crime,Drama</td>\n",
              "      <td>When the menace known as the Joker wreaks havo...</td>\n",
              "      <td>Christopher Nolan</td>\n",
              "      <td>Christian Bale, Heath Ledger, Aaron Eckhart,Mi...</td>\n",
              "      <td>2008</td>\n",
              "      <td>152</td>\n",
              "      <td>9.0</td>\n",
              "      <td>1791916</td>\n",
              "      <td>533.32</td>\n",
              "      <td>82.0</td>\n",
              "    </tr>\n",
              "    <tr>\n",
              "      <th>The Prestige</th>\n",
              "      <td>65</td>\n",
              "      <td>Drama,Mystery,Sci-Fi</td>\n",
              "      <td>Two stage magicians engage in competitive one-...</td>\n",
              "      <td>Christopher Nolan</td>\n",
              "      <td>Christian Bale, Hugh Jackman, Scarlett Johanss...</td>\n",
              "      <td>2006</td>\n",
              "      <td>130</td>\n",
              "      <td>8.5</td>\n",
              "      <td>913152</td>\n",
              "      <td>53.08</td>\n",
              "      <td>66.0</td>\n",
              "    </tr>\n",
              "    <tr>\n",
              "      <th>Inception</th>\n",
              "      <td>81</td>\n",
              "      <td>Action,Adventure,Sci-Fi</td>\n",
              "      <td>A thief, who steals corporate secrets through ...</td>\n",
              "      <td>Christopher Nolan</td>\n",
              "      <td>Leonardo DiCaprio, Joseph Gordon-Levitt, Ellen...</td>\n",
              "      <td>2010</td>\n",
              "      <td>148</td>\n",
              "      <td>8.8</td>\n",
              "      <td>1583625</td>\n",
              "      <td>292.57</td>\n",
              "      <td>74.0</td>\n",
              "    </tr>\n",
              "    <tr>\n",
              "      <th>The Martian</th>\n",
              "      <td>103</td>\n",
              "      <td>Adventure,Drama,Sci-Fi</td>\n",
              "      <td>An astronaut becomes stranded on Mars after hi...</td>\n",
              "      <td>Ridley Scott</td>\n",
              "      <td>Matt Damon, Jessica Chastain, Kristen Wiig, Ka...</td>\n",
              "      <td>2015</td>\n",
              "      <td>144</td>\n",
              "      <td>8.0</td>\n",
              "      <td>556097</td>\n",
              "      <td>228.43</td>\n",
              "      <td>80.0</td>\n",
              "    </tr>\n",
              "    <tr>\n",
              "      <th>The Dark Knight Rises</th>\n",
              "      <td>125</td>\n",
              "      <td>Action,Thriller</td>\n",
              "      <td>Eight years after the Joker's reign of anarchy...</td>\n",
              "      <td>Christopher Nolan</td>\n",
              "      <td>Christian Bale, Tom Hardy, Anne Hathaway,Gary ...</td>\n",
              "      <td>2012</td>\n",
              "      <td>164</td>\n",
              "      <td>8.5</td>\n",
              "      <td>1222645</td>\n",
              "      <td>448.13</td>\n",
              "      <td>78.0</td>\n",
              "    </tr>\n",
              "    <tr>\n",
              "      <th>Robin Hood</th>\n",
              "      <td>388</td>\n",
              "      <td>Action,Adventure,Drama</td>\n",
              "      <td>In 12th century England, Robin and his band of...</td>\n",
              "      <td>Ridley Scott</td>\n",
              "      <td>Russell Crowe, Cate Blanchett, Matthew Macfady...</td>\n",
              "      <td>2010</td>\n",
              "      <td>140</td>\n",
              "      <td>6.7</td>\n",
              "      <td>221117</td>\n",
              "      <td>105.22</td>\n",
              "      <td>53.0</td>\n",
              "    </tr>\n",
              "    <tr>\n",
              "      <th>American Gangster</th>\n",
              "      <td>471</td>\n",
              "      <td>Biography,Crime,Drama</td>\n",
              "      <td>In 1970s America, a detective works to bring d...</td>\n",
              "      <td>Ridley Scott</td>\n",
              "      <td>Denzel Washington, Russell Crowe, Chiwetel Eji...</td>\n",
              "      <td>2007</td>\n",
              "      <td>157</td>\n",
              "      <td>7.8</td>\n",
              "      <td>337835</td>\n",
              "      <td>130.13</td>\n",
              "      <td>76.0</td>\n",
              "    </tr>\n",
              "    <tr>\n",
              "      <th>Exodus: Gods and Kings</th>\n",
              "      <td>517</td>\n",
              "      <td>Action,Adventure,Drama</td>\n",
              "      <td>The defiant leader Moses rises up against the ...</td>\n",
              "      <td>Ridley Scott</td>\n",
              "      <td>Christian Bale, Joel Edgerton, Ben Kingsley, S...</td>\n",
              "      <td>2014</td>\n",
              "      <td>150</td>\n",
              "      <td>6.0</td>\n",
              "      <td>137299</td>\n",
              "      <td>65.01</td>\n",
              "      <td>52.0</td>\n",
              "    </tr>\n",
              "    <tr>\n",
              "      <th>The Counselor</th>\n",
              "      <td>522</td>\n",
              "      <td>Crime,Drama,Thriller</td>\n",
              "      <td>A lawyer finds himself in over his head when h...</td>\n",
              "      <td>Ridley Scott</td>\n",
              "      <td>Michael Fassbender, Penélope Cruz, Cameron Dia...</td>\n",
              "      <td>2013</td>\n",
              "      <td>117</td>\n",
              "      <td>5.3</td>\n",
              "      <td>84927</td>\n",
              "      <td>16.97</td>\n",
              "      <td>48.0</td>\n",
              "    </tr>\n",
              "    <tr>\n",
              "      <th>A Good Year</th>\n",
              "      <td>531</td>\n",
              "      <td>Comedy,Drama,Romance</td>\n",
              "      <td>A British investment broker inherits his uncle...</td>\n",
              "      <td>Ridley Scott</td>\n",
              "      <td>Russell Crowe, Abbie Cornish, Albert Finney, M...</td>\n",
              "      <td>2006</td>\n",
              "      <td>117</td>\n",
              "      <td>6.9</td>\n",
              "      <td>74674</td>\n",
              "      <td>7.46</td>\n",
              "      <td>47.0</td>\n",
              "    </tr>\n",
              "    <tr>\n",
              "      <th>Body of Lies</th>\n",
              "      <td>738</td>\n",
              "      <td>Action,Drama,Romance</td>\n",
              "      <td>A CIA agent on the ground in Jordan hunts down...</td>\n",
              "      <td>Ridley Scott</td>\n",
              "      <td>Leonardo DiCaprio, Russell Crowe, Mark Strong,...</td>\n",
              "      <td>2008</td>\n",
              "      <td>128</td>\n",
              "      <td>7.1</td>\n",
              "      <td>182305</td>\n",
              "      <td>39.38</td>\n",
              "      <td>57.0</td>\n",
              "    </tr>\n",
              "  </tbody>\n",
              "</table>\n",
              "</div>"
            ],
            "text/plain": [
              "                        rank  ... metascore\n",
              "Title                         ...          \n",
              "Prometheus                 2  ...      65.0\n",
              "Interstellar              37  ...      74.0\n",
              "The Dark Knight           55  ...      82.0\n",
              "The Prestige              65  ...      66.0\n",
              "Inception                 81  ...      74.0\n",
              "The Martian              103  ...      80.0\n",
              "The Dark Knight Rises    125  ...      78.0\n",
              "Robin Hood               388  ...      53.0\n",
              "American Gangster        471  ...      76.0\n",
              "Exodus: Gods and Kings   517  ...      52.0\n",
              "The Counselor            522  ...      48.0\n",
              "A Good Year              531  ...      47.0\n",
              "Body of Lies             738  ...      57.0\n",
              "\n",
              "[13 rows x 11 columns]"
            ]
          },
          "metadata": {
            "tags": []
          },
          "execution_count": 267
        }
      ]
    },
    {
      "cell_type": "markdown",
      "metadata": {
        "id": "ZpogTaX6s7CZ"
      },
      "source": [
        "*Say we want all movies that were released between 2005 and 2010, have a rating above 8.0, but made below the 25th percentile in revenue.*"
      ]
    },
    {
      "cell_type": "code",
      "metadata": {
        "id": "4S_0KTXRs-S6",
        "colab": {
          "base_uri": "https://localhost:8080/",
          "height": 363
        },
        "outputId": "a7fc02c0-8685-437c-92cb-ffeee436ca75"
      },
      "source": [
        "movies_df[\n",
        "((movies_df['year'] >= 2005) & (movies_df['year'] <= 2010))\n",
        "& (movies_df['rating'] > 8.0)\n",
        "& (movies_df['revenue_millions'] < movies_df['revenue_millions'].quantile(0.25))\n",
        "]"
      ],
      "execution_count": null,
      "outputs": [
        {
          "output_type": "execute_result",
          "data": {
            "text/html": [
              "<div>\n",
              "<style scoped>\n",
              "    .dataframe tbody tr th:only-of-type {\n",
              "        vertical-align: middle;\n",
              "    }\n",
              "\n",
              "    .dataframe tbody tr th {\n",
              "        vertical-align: top;\n",
              "    }\n",
              "\n",
              "    .dataframe thead th {\n",
              "        text-align: right;\n",
              "    }\n",
              "</style>\n",
              "<table border=\"1\" class=\"dataframe\">\n",
              "  <thead>\n",
              "    <tr style=\"text-align: right;\">\n",
              "      <th></th>\n",
              "      <th>rank</th>\n",
              "      <th>genre</th>\n",
              "      <th>description</th>\n",
              "      <th>director</th>\n",
              "      <th>actors</th>\n",
              "      <th>year</th>\n",
              "      <th>runtime</th>\n",
              "      <th>rating</th>\n",
              "      <th>votes</th>\n",
              "      <th>revenue_millions</th>\n",
              "      <th>metascore</th>\n",
              "    </tr>\n",
              "    <tr>\n",
              "      <th>Title</th>\n",
              "      <th></th>\n",
              "      <th></th>\n",
              "      <th></th>\n",
              "      <th></th>\n",
              "      <th></th>\n",
              "      <th></th>\n",
              "      <th></th>\n",
              "      <th></th>\n",
              "      <th></th>\n",
              "      <th></th>\n",
              "      <th></th>\n",
              "    </tr>\n",
              "  </thead>\n",
              "  <tbody>\n",
              "    <tr>\n",
              "      <th>3 Idiots</th>\n",
              "      <td>431</td>\n",
              "      <td>Comedy,Drama</td>\n",
              "      <td>Two friends are searching for their long lost ...</td>\n",
              "      <td>Rajkumar Hirani</td>\n",
              "      <td>Aamir Khan, Madhavan, Mona Singh, Sharman Joshi</td>\n",
              "      <td>2009</td>\n",
              "      <td>170</td>\n",
              "      <td>8.4</td>\n",
              "      <td>238789</td>\n",
              "      <td>6.52</td>\n",
              "      <td>67.0</td>\n",
              "    </tr>\n",
              "    <tr>\n",
              "      <th>The Lives of Others</th>\n",
              "      <td>477</td>\n",
              "      <td>Drama,Thriller</td>\n",
              "      <td>In 1984 East Berlin, an agent of the secret po...</td>\n",
              "      <td>Florian Henckel von Donnersmarck</td>\n",
              "      <td>Ulrich Mühe, Martina Gedeck,Sebastian Koch, Ul...</td>\n",
              "      <td>2006</td>\n",
              "      <td>137</td>\n",
              "      <td>8.5</td>\n",
              "      <td>278103</td>\n",
              "      <td>11.28</td>\n",
              "      <td>89.0</td>\n",
              "    </tr>\n",
              "    <tr>\n",
              "      <th>Incendies</th>\n",
              "      <td>714</td>\n",
              "      <td>Drama,Mystery,War</td>\n",
              "      <td>Twins journey to the Middle East to discover t...</td>\n",
              "      <td>Denis Villeneuve</td>\n",
              "      <td>Lubna Azabal, Mélissa Désormeaux-Poulin, Maxim...</td>\n",
              "      <td>2010</td>\n",
              "      <td>131</td>\n",
              "      <td>8.2</td>\n",
              "      <td>92863</td>\n",
              "      <td>6.86</td>\n",
              "      <td>80.0</td>\n",
              "    </tr>\n",
              "    <tr>\n",
              "      <th>Taare Zameen Par</th>\n",
              "      <td>992</td>\n",
              "      <td>Drama,Family,Music</td>\n",
              "      <td>An eight-year-old boy is thought to be a lazy ...</td>\n",
              "      <td>Aamir Khan</td>\n",
              "      <td>Darsheel Safary, Aamir Khan, Tanay Chheda, Sac...</td>\n",
              "      <td>2007</td>\n",
              "      <td>165</td>\n",
              "      <td>8.5</td>\n",
              "      <td>102697</td>\n",
              "      <td>1.20</td>\n",
              "      <td>42.0</td>\n",
              "    </tr>\n",
              "  </tbody>\n",
              "</table>\n",
              "</div>"
            ],
            "text/plain": [
              "                     rank               genre  ... revenue_millions metascore\n",
              "Title                                          ...                           \n",
              "3 Idiots              431        Comedy,Drama  ...             6.52      67.0\n",
              "The Lives of Others   477      Drama,Thriller  ...            11.28      89.0\n",
              "Incendies             714   Drama,Mystery,War  ...             6.86      80.0\n",
              "Taare Zameen Par      992  Drama,Family,Music  ...             1.20      42.0\n",
              "\n",
              "[4 rows x 11 columns]"
            ]
          },
          "metadata": {
            "tags": []
          },
          "execution_count": 268
        }
      ]
    },
    {
      "cell_type": "markdown",
      "metadata": {
        "id": "JxFFjBFFtDKH"
      },
      "source": [
        "# **Apply Functions**"
      ]
    },
    {
      "cell_type": "markdown",
      "metadata": {
        "id": "vKz1GfEMtMAk"
      },
      "source": [
        "*   For example, we want to convert movies with an 8.0 or greater to a string value of \"good\" and the rest to \"bad\" and use this transformed values to create a new column.\n",
        "*   It is possible to iterate over a DataFrame or Series as you would with a list, but doing so — especially on large datasets —is very slow.\n",
        "*   Using apply() will be much faster than iterating manually over rows because pandas is utilizing vectorization.\n"
      ]
    },
    {
      "cell_type": "markdown",
      "metadata": {
        "id": "JwkF25MbtoIN"
      },
      "source": [
        "*The .apply() method passes every value in the rating column through the rating_function and then returns a new Series. This Series is then assigned\n",
        "to a new column called rating_category.*"
      ]
    },
    {
      "cell_type": "code",
      "metadata": {
        "id": "wWO97a24tvO8"
      },
      "source": [
        "def rating_function(x):\n",
        "  if x >= 8.0:\n",
        "    return \"good\"\n",
        "  else:\n",
        "    return \"bad\"\n",
        "\n",
        "movies_df[\"rating_category\"] = movies_df[\"rating\"].apply(rating_function)"
      ],
      "execution_count": null,
      "outputs": []
    },
    {
      "cell_type": "markdown",
      "metadata": {
        "id": "yO3DHg7BuGuH"
      },
      "source": [
        "*You can also use anonymous functions as well. This lambda function achieves the same result as rating_function:*"
      ]
    },
    {
      "cell_type": "code",
      "metadata": {
        "id": "HAZ3MaUauI66"
      },
      "source": [
        "movies_df[\"rating_category\"] = movies_df[\"rating\"].apply(lambda x: 'good' if x >= 8.0 else 'bad')"
      ],
      "execution_count": null,
      "outputs": []
    }
  ]
}