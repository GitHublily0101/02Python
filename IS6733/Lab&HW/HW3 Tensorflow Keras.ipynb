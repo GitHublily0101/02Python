{
 "cells": [
  {
   "cell_type": "markdown",
   "metadata": {
    "id": "e5GWh3ZrzTZJ"
   },
   "source": [
    "# P1 (40pt): In the following code example explained in Lecture 6, https://colab.research.google.com/drive/13cof4XUULbUqO0s5h-cd17FskWjpyMkm, \n",
    "\n",
    "make the following changes to the neural network model sequentially in the example:\n",
    "1.   Change the number of neurons on the hidden layer to 256 units. **(10pt)**\n",
    "2.   Use the tanh activation (an activation that was popular in the early days of neural networks) instead of relu for the hidden layer. **(10pt)**\n",
    "3.   Add an additional hidden layer with 256 units and tanh activation function. **(10pt)**\n",
    "\n",
    "Retrain the newly defined model and evaluate the trained model on the testing dataset to get the accuracy. **(10pt)**  \n",
    "\n"
   ]
  },
  {
   "cell_type": "code",
   "execution_count": 1,
   "metadata": {
    "id": "_0M1ZA2_1iXK"
   },
   "outputs": [],
   "source": [
    "# To get started, import tf.keras as part of your TensorFlow program setup:\n",
    "import tensorflow as tf\n",
    "from tensorflow import keras\n",
    "from tensorflow.keras.datasets import mnist\n",
    "(train_images, train_labels),(test_images, test_labels) = mnist.load_data()"
   ]
  },
  {
   "cell_type": "code",
   "execution_count": 2,
   "metadata": {
    "colab": {
     "base_uri": "https://localhost:8080/",
     "height": 0
    },
    "id": "xCHIo_WiLaS3",
    "outputId": "0e01b9a0-0a20-4b6b-d7d8-5cbc59ecba14"
   },
   "outputs": [
    {
     "data": {
      "text/plain": [
       "((60000, 28, 28), (10000, 28, 28))"
      ]
     },
     "execution_count": 2,
     "metadata": {},
     "output_type": "execute_result"
    }
   ],
   "source": [
    "train_images.shape,test_images.shape"
   ]
  },
  {
   "cell_type": "code",
   "execution_count": 3,
   "metadata": {
    "id": "KRT8tk1R1yNK"
   },
   "outputs": [],
   "source": [
    "# Start to build model\n",
    "from tensorflow.keras import models\n",
    "from tensorflow.keras import layers\n",
    "from keras import Sequential\n",
    "network = models.Sequential()\n",
    "network.add(layers.Dense(256, activation='tanh', input_shape=(28 * 28,)))\n",
    "network.add(layers.Dense(256, activation='tanh'))\n",
    "network.add(layers.Dense(10, activation='softmax'))\n"
   ]
  },
  {
   "cell_type": "code",
   "execution_count": 4,
   "metadata": {
    "id": "zou1mUAp-9BK"
   },
   "outputs": [],
   "source": [
    "# Settings of loss and optimizer \n",
    "network.compile(optimizer = 'rmsprop',\n",
    "                loss = 'categorical_crossentropy',\n",
    "                metrics = 'accuracy')"
   ]
  },
  {
   "cell_type": "code",
   "execution_count": 5,
   "metadata": {
    "id": "g3qiaR48AJxH"
   },
   "outputs": [],
   "source": [
    "# Reshape data into network expected\n",
    "train_images = train_images.reshape((60000, 28 * 28))\n",
    "train_images = train_images.astype('float32') / 255\n",
    "test_images = test_images.reshape((10000, 28 * 28))\n",
    "test_images = test_images.astype('float32') / 255"
   ]
  },
  {
   "cell_type": "code",
   "execution_count": 6,
   "metadata": {
    "id": "GvaEYZauFQLe"
   },
   "outputs": [],
   "source": [
    "# Categorically encode the labels\n",
    "from tensorflow.keras.utils import to_categorical\n",
    "train_labels = to_categorical(train_labels)\n",
    "test_labels = to_categorical(test_labels)"
   ]
  },
  {
   "cell_type": "code",
   "execution_count": 7,
   "metadata": {
    "colab": {
     "base_uri": "https://localhost:8080/",
     "height": 0
    },
    "id": "cRPtUYmbGXHa",
    "outputId": "7fe6da79-743a-44f1-8d9e-201489027b68"
   },
   "outputs": [
    {
     "name": "stdout",
     "output_type": "stream",
     "text": [
      "Epoch 1/5\n",
      "469/469 [==============================] - 2s 3ms/step - loss: 0.3038 - accuracy: 0.9100\n",
      "Epoch 2/5\n",
      "469/469 [==============================] - 2s 3ms/step - loss: 0.1393 - accuracy: 0.9584\n",
      "Epoch 3/5\n",
      "469/469 [==============================] - 2s 3ms/step - loss: 0.0921 - accuracy: 0.9719\n",
      "Epoch 4/5\n",
      "469/469 [==============================] - 2s 3ms/step - loss: 0.0674 - accuracy: 0.9793\n",
      "Epoch 5/5\n",
      "469/469 [==============================] - 2s 4ms/step - loss: 0.0496 - accuracy: 0.9849\n"
     ]
    },
    {
     "data": {
      "text/plain": [
       "<keras.callbacks.History at 0x7ff06546f2e0>"
      ]
     },
     "execution_count": 7,
     "metadata": {},
     "output_type": "execute_result"
    }
   ],
   "source": [
    "# Start to train the nextwork\n",
    "network.fit(train_images, train_labels, epochs=5, batch_size=128, verbose = 1)"
   ]
  },
  {
   "cell_type": "code",
   "execution_count": 8,
   "metadata": {
    "colab": {
     "base_uri": "https://localhost:8080/",
     "height": 0
    },
    "id": "6vCnqo_VLMno",
    "outputId": "9493c9a3-89f8-482b-fc5c-be5d8321b713"
   },
   "outputs": [
    {
     "name": "stdout",
     "output_type": "stream",
     "text": [
      "313/313 [==============================] - 0s 1ms/step - loss: 0.0933 - accuracy: 0.9696\n"
     ]
    }
   ],
   "source": [
    "test_loss, test_acc = network.evaluate(test_images, test_labels)"
   ]
  },
  {
   "cell_type": "code",
   "execution_count": 9,
   "metadata": {
    "colab": {
     "base_uri": "https://localhost:8080/",
     "height": 0
    },
    "id": "HkbYGKf4TlX_",
    "outputId": "75c38180-acb9-4587-8e4c-932aee151a12"
   },
   "outputs": [
    {
     "name": "stdout",
     "output_type": "stream",
     "text": [
      "test_acc: 0.9696000218391418 2\n"
     ]
    }
   ],
   "source": [
    "print('test_acc:', test_acc,2)"
   ]
  },
  {
   "cell_type": "markdown",
   "metadata": {
    "id": "dNWuJmipoeI1"
   },
   "source": [
    "# P2 (60pt): Write a Python code in Colab using NumPy, Panda, Scikit-Learn and Keras to complete the following tasks:\n",
    "1.\tImport the Auto MPG dataset using pandas.read_csv(), use the attribute names as explained in the dataset description as the column names, view the strings ‘?’ as the missing value, and whitespace (i.e., ‘\\s+’) as the column delimiter. Print out the shape and first 5 rows of the DataFrame. **(5pt)**\n",
    "\n",
    "    a.\tDataset source file: http://archive.ics.uci.edu/ml/machine-learning-databases/auto-mpg/auto-mpg.data\n",
    "\n",
    "    b.\tDataset description: http://archive.ics.uci.edu/ml/datasets/Auto+MPG"
   ]
  },
  {
   "cell_type": "code",
   "execution_count": 33,
   "metadata": {
    "id": "1rRo8oNqZ-Rj"
   },
   "outputs": [],
   "source": [
    "import matplotlib.pyplot as plt\n",
    "import pandas as pd\n",
    "import tensorflow as tf\n",
    "from tensorflow import keras\n",
    "\n",
    "import numpy as np  \n",
    "np.random.seed(100)\n",
    "\n",
    "tf.random.set_seed(100)"
   ]
  },
  {
   "cell_type": "code",
   "execution_count": 34,
   "metadata": {
    "colab": {
     "base_uri": "https://localhost:8080/",
     "height": 224
    },
    "id": "CiX2FI4gZtTt",
    "outputId": "ab283eed-bc7a-4388-c142-e549f3709cce"
   },
   "outputs": [
    {
     "name": "stdout",
     "output_type": "stream",
     "text": [
      "(398, 9)\n"
     ]
    },
    {
     "data": {
      "text/html": [
       "<div>\n",
       "<style scoped>\n",
       "    .dataframe tbody tr th:only-of-type {\n",
       "        vertical-align: middle;\n",
       "    }\n",
       "\n",
       "    .dataframe tbody tr th {\n",
       "        vertical-align: top;\n",
       "    }\n",
       "\n",
       "    .dataframe thead th {\n",
       "        text-align: right;\n",
       "    }\n",
       "</style>\n",
       "<table border=\"1\" class=\"dataframe\">\n",
       "  <thead>\n",
       "    <tr style=\"text-align: right;\">\n",
       "      <th></th>\n",
       "      <th>mpg</th>\n",
       "      <th>cylinders</th>\n",
       "      <th>displacement</th>\n",
       "      <th>horsepower</th>\n",
       "      <th>weight</th>\n",
       "      <th>acceleration</th>\n",
       "      <th>model_year</th>\n",
       "      <th>origin</th>\n",
       "      <th>car_name</th>\n",
       "    </tr>\n",
       "  </thead>\n",
       "  <tbody>\n",
       "    <tr>\n",
       "      <th>0</th>\n",
       "      <td>18.0</td>\n",
       "      <td>8</td>\n",
       "      <td>307.0</td>\n",
       "      <td>130.0</td>\n",
       "      <td>3504.0</td>\n",
       "      <td>12.0</td>\n",
       "      <td>70</td>\n",
       "      <td>1</td>\n",
       "      <td>chevrolet chevelle malibu</td>\n",
       "    </tr>\n",
       "    <tr>\n",
       "      <th>1</th>\n",
       "      <td>15.0</td>\n",
       "      <td>8</td>\n",
       "      <td>350.0</td>\n",
       "      <td>165.0</td>\n",
       "      <td>3693.0</td>\n",
       "      <td>11.5</td>\n",
       "      <td>70</td>\n",
       "      <td>1</td>\n",
       "      <td>buick skylark 320</td>\n",
       "    </tr>\n",
       "    <tr>\n",
       "      <th>2</th>\n",
       "      <td>18.0</td>\n",
       "      <td>8</td>\n",
       "      <td>318.0</td>\n",
       "      <td>150.0</td>\n",
       "      <td>3436.0</td>\n",
       "      <td>11.0</td>\n",
       "      <td>70</td>\n",
       "      <td>1</td>\n",
       "      <td>plymouth satellite</td>\n",
       "    </tr>\n",
       "    <tr>\n",
       "      <th>3</th>\n",
       "      <td>16.0</td>\n",
       "      <td>8</td>\n",
       "      <td>304.0</td>\n",
       "      <td>150.0</td>\n",
       "      <td>3433.0</td>\n",
       "      <td>12.0</td>\n",
       "      <td>70</td>\n",
       "      <td>1</td>\n",
       "      <td>amc rebel sst</td>\n",
       "    </tr>\n",
       "    <tr>\n",
       "      <th>4</th>\n",
       "      <td>17.0</td>\n",
       "      <td>8</td>\n",
       "      <td>302.0</td>\n",
       "      <td>140.0</td>\n",
       "      <td>3449.0</td>\n",
       "      <td>10.5</td>\n",
       "      <td>70</td>\n",
       "      <td>1</td>\n",
       "      <td>ford torino</td>\n",
       "    </tr>\n",
       "  </tbody>\n",
       "</table>\n",
       "</div>"
      ],
      "text/plain": [
       "    mpg  cylinders  displacement  horsepower  weight  acceleration  \\\n",
       "0  18.0          8         307.0       130.0  3504.0          12.0   \n",
       "1  15.0          8         350.0       165.0  3693.0          11.5   \n",
       "2  18.0          8         318.0       150.0  3436.0          11.0   \n",
       "3  16.0          8         304.0       150.0  3433.0          12.0   \n",
       "4  17.0          8         302.0       140.0  3449.0          10.5   \n",
       "\n",
       "   model_year  origin                   car_name  \n",
       "0          70       1  chevrolet chevelle malibu  \n",
       "1          70       1          buick skylark 320  \n",
       "2          70       1         plymouth satellite  \n",
       "3          70       1              amc rebel sst  \n",
       "4          70       1                ford torino  "
      ]
     },
     "execution_count": 34,
     "metadata": {},
     "output_type": "execute_result"
    }
   ],
   "source": [
    "from os import readlink\n",
    "# put your answer here\n",
    "names = ['mpg','cylinders','displacement','horsepower','weight','acceleration','model_year','origin','car_name']\n",
    "url = 'http://archive.ics.uci.edu/ml/machine-learning-databases/auto-mpg/auto-mpg.data'\n",
    "mpg = pd.read_csv(url, sep='\\s+', names= names, header=None, na_values=['?'])\n",
    "print(mpg.shape)\n",
    "mpg.head(5)"
   ]
  },
  {
   "cell_type": "markdown",
   "metadata": {
    "id": "QcrozGjAqYAy"
   },
   "source": [
    "2.\tDelete the “car_name” column using .drop() and drop the rows containing NULL value using .dropna(). Print out the shape of the DataFrame. **(5pt)**"
   ]
  },
  {
   "cell_type": "code",
   "execution_count": 35,
   "metadata": {
    "colab": {
     "base_uri": "https://localhost:8080/",
     "height": 0
    },
    "id": "JEJHhN65a2VV",
    "outputId": "88e0df15-9b53-4c3d-8d09-9205b333c6cc"
   },
   "outputs": [
    {
     "data": {
      "text/plain": [
       "(398, 8)"
      ]
     },
     "execution_count": 35,
     "metadata": {},
     "output_type": "execute_result"
    }
   ],
   "source": [
    "# put your answer here\n",
    "mpg.drop(columns = ['car_name'], inplace = True)\n",
    "mpg.dropna()\n",
    "mpg.shape"
   ]
  },
  {
   "cell_type": "code",
   "execution_count": 36,
   "metadata": {
    "colab": {
     "base_uri": "https://localhost:8080/",
     "height": 0
    },
    "id": "BcFAc8hbl7au",
    "outputId": "3565bfee-1f2a-4451-83ab-54092883c6a2"
   },
   "outputs": [
    {
     "data": {
      "text/plain": [
       "mpg             False\n",
       "cylinders       False\n",
       "displacement    False\n",
       "horsepower      False\n",
       "weight          False\n",
       "acceleration    False\n",
       "model_year      False\n",
       "origin          False\n",
       "dtype: bool"
      ]
     },
     "execution_count": 36,
     "metadata": {},
     "output_type": "execute_result"
    }
   ],
   "source": [
    "mpg.fillna(mpg.mean(),inplace = True)\n",
    "mpg.isnull().any()"
   ]
  },
  {
   "cell_type": "markdown",
   "metadata": {
    "id": "-yoyL_Epqhhg"
   },
   "source": [
    "3.\tFor the ‘origin’ column with categorical attribute, replace it with the columns with numerical attributes using one-hot encoding. Print out the shape and first 5 rows of the new DataFrame. **(5pt)**"
   ]
  },
  {
   "cell_type": "code",
   "execution_count": 37,
   "metadata": {
    "colab": {
     "base_uri": "https://localhost:8080/",
     "height": 206
    },
    "id": "ulXz4J7PAUzk",
    "outputId": "a104dc56-5779-4049-a0ff-336de549ffa7"
   },
   "outputs": [
    {
     "data": {
      "text/html": [
       "<div>\n",
       "<style scoped>\n",
       "    .dataframe tbody tr th:only-of-type {\n",
       "        vertical-align: middle;\n",
       "    }\n",
       "\n",
       "    .dataframe tbody tr th {\n",
       "        vertical-align: top;\n",
       "    }\n",
       "\n",
       "    .dataframe thead th {\n",
       "        text-align: right;\n",
       "    }\n",
       "</style>\n",
       "<table border=\"1\" class=\"dataframe\">\n",
       "  <thead>\n",
       "    <tr style=\"text-align: right;\">\n",
       "      <th></th>\n",
       "      <th>mpg</th>\n",
       "      <th>cylinders</th>\n",
       "      <th>displacement</th>\n",
       "      <th>horsepower</th>\n",
       "      <th>weight</th>\n",
       "      <th>acceleration</th>\n",
       "      <th>model_year</th>\n",
       "      <th>origin_1</th>\n",
       "      <th>origin_2</th>\n",
       "      <th>origin_3</th>\n",
       "    </tr>\n",
       "  </thead>\n",
       "  <tbody>\n",
       "    <tr>\n",
       "      <th>0</th>\n",
       "      <td>18.0</td>\n",
       "      <td>8</td>\n",
       "      <td>307.0</td>\n",
       "      <td>130.0</td>\n",
       "      <td>3504.0</td>\n",
       "      <td>12.0</td>\n",
       "      <td>70</td>\n",
       "      <td>1</td>\n",
       "      <td>0</td>\n",
       "      <td>0</td>\n",
       "    </tr>\n",
       "    <tr>\n",
       "      <th>1</th>\n",
       "      <td>15.0</td>\n",
       "      <td>8</td>\n",
       "      <td>350.0</td>\n",
       "      <td>165.0</td>\n",
       "      <td>3693.0</td>\n",
       "      <td>11.5</td>\n",
       "      <td>70</td>\n",
       "      <td>1</td>\n",
       "      <td>0</td>\n",
       "      <td>0</td>\n",
       "    </tr>\n",
       "    <tr>\n",
       "      <th>2</th>\n",
       "      <td>18.0</td>\n",
       "      <td>8</td>\n",
       "      <td>318.0</td>\n",
       "      <td>150.0</td>\n",
       "      <td>3436.0</td>\n",
       "      <td>11.0</td>\n",
       "      <td>70</td>\n",
       "      <td>1</td>\n",
       "      <td>0</td>\n",
       "      <td>0</td>\n",
       "    </tr>\n",
       "    <tr>\n",
       "      <th>3</th>\n",
       "      <td>16.0</td>\n",
       "      <td>8</td>\n",
       "      <td>304.0</td>\n",
       "      <td>150.0</td>\n",
       "      <td>3433.0</td>\n",
       "      <td>12.0</td>\n",
       "      <td>70</td>\n",
       "      <td>1</td>\n",
       "      <td>0</td>\n",
       "      <td>0</td>\n",
       "    </tr>\n",
       "    <tr>\n",
       "      <th>4</th>\n",
       "      <td>17.0</td>\n",
       "      <td>8</td>\n",
       "      <td>302.0</td>\n",
       "      <td>140.0</td>\n",
       "      <td>3449.0</td>\n",
       "      <td>10.5</td>\n",
       "      <td>70</td>\n",
       "      <td>1</td>\n",
       "      <td>0</td>\n",
       "      <td>0</td>\n",
       "    </tr>\n",
       "  </tbody>\n",
       "</table>\n",
       "</div>"
      ],
      "text/plain": [
       "    mpg  cylinders  displacement  horsepower  weight  acceleration  \\\n",
       "0  18.0          8         307.0       130.0  3504.0          12.0   \n",
       "1  15.0          8         350.0       165.0  3693.0          11.5   \n",
       "2  18.0          8         318.0       150.0  3436.0          11.0   \n",
       "3  16.0          8         304.0       150.0  3433.0          12.0   \n",
       "4  17.0          8         302.0       140.0  3449.0          10.5   \n",
       "\n",
       "   model_year  origin_1  origin_2  origin_3  \n",
       "0          70         1         0         0  \n",
       "1          70         1         0         0  \n",
       "2          70         1         0         0  \n",
       "3          70         1         0         0  \n",
       "4          70         1         0         0  "
      ]
     },
     "execution_count": 37,
     "metadata": {},
     "output_type": "execute_result"
    }
   ],
   "source": [
    "# put your answer here\n",
    "mpg_new = pd.get_dummies(mpg, columns=[\"origin\"])\n",
    "mpg_new.head(5)"
   ]
  },
  {
   "cell_type": "markdown",
   "metadata": {
    "id": "_VqBe47Pquj8"
   },
   "source": [
    "4.\tSeparate the “mpg” column from other columns and view it as the label vector and others as the feature matrix. Split the data into a training set (80%) and testing set (20%) using train_test_split and print out their shapes. Print out the statistics of your training feature matrix using .describe().  **(5pt)**"
   ]
  },
  {
   "cell_type": "code",
   "execution_count": 38,
   "metadata": {
    "colab": {
     "base_uri": "https://localhost:8080/",
     "height": 318
    },
    "id": "qn-IGhUE7_1H",
    "outputId": "b2257e6c-9bf7-4c69-8508-1a814ebbd8b1"
   },
   "outputs": [
    {
     "name": "stdout",
     "output_type": "stream",
     "text": [
      "(318, 9) (80, 9) (318,) (80,)\n"
     ]
    },
    {
     "data": {
      "text/html": [
       "<div>\n",
       "<style scoped>\n",
       "    .dataframe tbody tr th:only-of-type {\n",
       "        vertical-align: middle;\n",
       "    }\n",
       "\n",
       "    .dataframe tbody tr th {\n",
       "        vertical-align: top;\n",
       "    }\n",
       "\n",
       "    .dataframe thead th {\n",
       "        text-align: right;\n",
       "    }\n",
       "</style>\n",
       "<table border=\"1\" class=\"dataframe\">\n",
       "  <thead>\n",
       "    <tr style=\"text-align: right;\">\n",
       "      <th></th>\n",
       "      <th>cylinders</th>\n",
       "      <th>displacement</th>\n",
       "      <th>horsepower</th>\n",
       "      <th>weight</th>\n",
       "      <th>acceleration</th>\n",
       "      <th>model_year</th>\n",
       "      <th>origin_1</th>\n",
       "      <th>origin_2</th>\n",
       "      <th>origin_3</th>\n",
       "    </tr>\n",
       "  </thead>\n",
       "  <tbody>\n",
       "    <tr>\n",
       "      <th>count</th>\n",
       "      <td>318.000000</td>\n",
       "      <td>318.000000</td>\n",
       "      <td>318.000000</td>\n",
       "      <td>318.000000</td>\n",
       "      <td>318.000000</td>\n",
       "      <td>318.000000</td>\n",
       "      <td>318.000000</td>\n",
       "      <td>318.000000</td>\n",
       "      <td>318.000000</td>\n",
       "    </tr>\n",
       "    <tr>\n",
       "      <th>mean</th>\n",
       "      <td>5.430818</td>\n",
       "      <td>191.397799</td>\n",
       "      <td>104.035682</td>\n",
       "      <td>2949.808176</td>\n",
       "      <td>15.449057</td>\n",
       "      <td>76.012579</td>\n",
       "      <td>0.613208</td>\n",
       "      <td>0.198113</td>\n",
       "      <td>0.188679</td>\n",
       "    </tr>\n",
       "    <tr>\n",
       "      <th>std</th>\n",
       "      <td>1.707266</td>\n",
       "      <td>104.068891</td>\n",
       "      <td>38.220830</td>\n",
       "      <td>850.651135</td>\n",
       "      <td>2.703984</td>\n",
       "      <td>3.719651</td>\n",
       "      <td>0.487783</td>\n",
       "      <td>0.399206</td>\n",
       "      <td>0.391870</td>\n",
       "    </tr>\n",
       "    <tr>\n",
       "      <th>min</th>\n",
       "      <td>3.000000</td>\n",
       "      <td>68.000000</td>\n",
       "      <td>46.000000</td>\n",
       "      <td>1649.000000</td>\n",
       "      <td>8.000000</td>\n",
       "      <td>70.000000</td>\n",
       "      <td>0.000000</td>\n",
       "      <td>0.000000</td>\n",
       "      <td>0.000000</td>\n",
       "    </tr>\n",
       "    <tr>\n",
       "      <th>25%</th>\n",
       "      <td>4.000000</td>\n",
       "      <td>98.500000</td>\n",
       "      <td>76.000000</td>\n",
       "      <td>2216.000000</td>\n",
       "      <td>13.700000</td>\n",
       "      <td>73.000000</td>\n",
       "      <td>0.000000</td>\n",
       "      <td>0.000000</td>\n",
       "      <td>0.000000</td>\n",
       "    </tr>\n",
       "    <tr>\n",
       "      <th>50%</th>\n",
       "      <td>4.000000</td>\n",
       "      <td>141.000000</td>\n",
       "      <td>95.000000</td>\n",
       "      <td>2764.500000</td>\n",
       "      <td>15.350000</td>\n",
       "      <td>76.000000</td>\n",
       "      <td>1.000000</td>\n",
       "      <td>0.000000</td>\n",
       "      <td>0.000000</td>\n",
       "    </tr>\n",
       "    <tr>\n",
       "      <th>75%</th>\n",
       "      <td>8.000000</td>\n",
       "      <td>262.000000</td>\n",
       "      <td>124.250000</td>\n",
       "      <td>3533.750000</td>\n",
       "      <td>17.000000</td>\n",
       "      <td>79.000000</td>\n",
       "      <td>1.000000</td>\n",
       "      <td>0.000000</td>\n",
       "      <td>0.000000</td>\n",
       "    </tr>\n",
       "    <tr>\n",
       "      <th>max</th>\n",
       "      <td>8.000000</td>\n",
       "      <td>455.000000</td>\n",
       "      <td>230.000000</td>\n",
       "      <td>5140.000000</td>\n",
       "      <td>24.800000</td>\n",
       "      <td>82.000000</td>\n",
       "      <td>1.000000</td>\n",
       "      <td>1.000000</td>\n",
       "      <td>1.000000</td>\n",
       "    </tr>\n",
       "  </tbody>\n",
       "</table>\n",
       "</div>"
      ],
      "text/plain": [
       "        cylinders  displacement  horsepower       weight  acceleration  \\\n",
       "count  318.000000    318.000000  318.000000   318.000000    318.000000   \n",
       "mean     5.430818    191.397799  104.035682  2949.808176     15.449057   \n",
       "std      1.707266    104.068891   38.220830   850.651135      2.703984   \n",
       "min      3.000000     68.000000   46.000000  1649.000000      8.000000   \n",
       "25%      4.000000     98.500000   76.000000  2216.000000     13.700000   \n",
       "50%      4.000000    141.000000   95.000000  2764.500000     15.350000   \n",
       "75%      8.000000    262.000000  124.250000  3533.750000     17.000000   \n",
       "max      8.000000    455.000000  230.000000  5140.000000     24.800000   \n",
       "\n",
       "       model_year    origin_1    origin_2    origin_3  \n",
       "count  318.000000  318.000000  318.000000  318.000000  \n",
       "mean    76.012579    0.613208    0.198113    0.188679  \n",
       "std      3.719651    0.487783    0.399206    0.391870  \n",
       "min     70.000000    0.000000    0.000000    0.000000  \n",
       "25%     73.000000    0.000000    0.000000    0.000000  \n",
       "50%     76.000000    1.000000    0.000000    0.000000  \n",
       "75%     79.000000    1.000000    0.000000    0.000000  \n",
       "max     82.000000    1.000000    1.000000    1.000000  "
      ]
     },
     "execution_count": 38,
     "metadata": {},
     "output_type": "execute_result"
    }
   ],
   "source": [
    "from sklearn.model_selection import train_test_split\n",
    "\n",
    "# put your answer here\n",
    "X_col = mpg_new.columns.drop('mpg')\n",
    "X = mpg_new[X_col]\n",
    "y = mpg_new['mpg']\n",
    "X_train, X_test, y_train, y_test = train_test_split(X, y, test_size=0.2)\n",
    "print(X_train.shape, X_test.shape, y_train.shape, y_test.shape)\n",
    "X_train.describe()\n"
   ]
  },
  {
   "cell_type": "markdown",
   "metadata": {
    "id": "E0zYGXx5q_hB"
   },
   "source": [
    "5.\tNormalize the feature columns in both training and testing datasets so that their means equal to zero and variances equal to one. Note that the testing set can only be scaled by the mean and standard deviation values obtained from the training set. Describe the statistics of your normalized feature matrix of training dataset using .describe() in Pandas. **(5pt)**\n",
    "\n",
    "\n",
    "*   Option 1: You can follow the normalization steps in the code example of “Predicting house prices: a regression example” in Lecture 6.  \n",
    "\n",
    "*   Option 2: You can use StandardScaler() in Scikit-Learn as in Homework 2 but you may need to transform a NumPy array back to Pandas DataFrame using pd.DataFrame() before calling .describe(). \n",
    "\n",
    "\n"
   ]
  },
  {
   "cell_type": "code",
   "execution_count": 39,
   "metadata": {
    "colab": {
     "base_uri": "https://localhost:8080/",
     "height": 300
    },
    "id": "JlC5ooJrgjQF",
    "outputId": "6bc23a44-3906-4c18-8c2c-c41a8c145aa4"
   },
   "outputs": [
    {
     "data": {
      "text/html": [
       "<div>\n",
       "<style scoped>\n",
       "    .dataframe tbody tr th:only-of-type {\n",
       "        vertical-align: middle;\n",
       "    }\n",
       "\n",
       "    .dataframe tbody tr th {\n",
       "        vertical-align: top;\n",
       "    }\n",
       "\n",
       "    .dataframe thead th {\n",
       "        text-align: right;\n",
       "    }\n",
       "</style>\n",
       "<table border=\"1\" class=\"dataframe\">\n",
       "  <thead>\n",
       "    <tr style=\"text-align: right;\">\n",
       "      <th></th>\n",
       "      <th>cylinders</th>\n",
       "      <th>displacement</th>\n",
       "      <th>horsepower</th>\n",
       "      <th>weight</th>\n",
       "      <th>acceleration</th>\n",
       "      <th>model_year</th>\n",
       "      <th>origin_1</th>\n",
       "      <th>origin_2</th>\n",
       "      <th>origin_3</th>\n",
       "    </tr>\n",
       "  </thead>\n",
       "  <tbody>\n",
       "    <tr>\n",
       "      <th>count</th>\n",
       "      <td>3.180000e+02</td>\n",
       "      <td>3.180000e+02</td>\n",
       "      <td>3.180000e+02</td>\n",
       "      <td>3.180000e+02</td>\n",
       "      <td>3.180000e+02</td>\n",
       "      <td>3.180000e+02</td>\n",
       "      <td>3.180000e+02</td>\n",
       "      <td>3.180000e+02</td>\n",
       "      <td>3.180000e+02</td>\n",
       "    </tr>\n",
       "    <tr>\n",
       "      <th>mean</th>\n",
       "      <td>1.515210e-16</td>\n",
       "      <td>-8.937644e-17</td>\n",
       "      <td>-4.259346e-16</td>\n",
       "      <td>1.878302e-16</td>\n",
       "      <td>4.038698e-15</td>\n",
       "      <td>1.012468e-16</td>\n",
       "      <td>8.518692e-17</td>\n",
       "      <td>2.269324e-17</td>\n",
       "      <td>1.169575e-16</td>\n",
       "    </tr>\n",
       "    <tr>\n",
       "      <th>std</th>\n",
       "      <td>1.000000e+00</td>\n",
       "      <td>1.000000e+00</td>\n",
       "      <td>1.000000e+00</td>\n",
       "      <td>1.000000e+00</td>\n",
       "      <td>1.000000e+00</td>\n",
       "      <td>1.000000e+00</td>\n",
       "      <td>1.000000e+00</td>\n",
       "      <td>1.000000e+00</td>\n",
       "      <td>1.000000e+00</td>\n",
       "    </tr>\n",
       "    <tr>\n",
       "      <th>min</th>\n",
       "      <td>-1.423807e+00</td>\n",
       "      <td>-1.185732e+00</td>\n",
       "      <td>-1.518431e+00</td>\n",
       "      <td>-1.529191e+00</td>\n",
       "      <td>-2.754845e+00</td>\n",
       "      <td>-1.616436e+00</td>\n",
       "      <td>-1.257132e+00</td>\n",
       "      <td>-4.962680e-01</td>\n",
       "      <td>-4.814840e-01</td>\n",
       "    </tr>\n",
       "    <tr>\n",
       "      <th>25%</th>\n",
       "      <td>-8.380754e-01</td>\n",
       "      <td>-8.926568e-01</td>\n",
       "      <td>-7.335184e-01</td>\n",
       "      <td>-8.626429e-01</td>\n",
       "      <td>-6.468443e-01</td>\n",
       "      <td>-8.099089e-01</td>\n",
       "      <td>-1.257132e+00</td>\n",
       "      <td>-4.962680e-01</td>\n",
       "      <td>-4.814840e-01</td>\n",
       "    </tr>\n",
       "    <tr>\n",
       "      <th>50%</th>\n",
       "      <td>-8.380754e-01</td>\n",
       "      <td>-4.842734e-01</td>\n",
       "      <td>-2.364073e-01</td>\n",
       "      <td>-2.178427e-01</td>\n",
       "      <td>-3.663358e-02</td>\n",
       "      <td>-3.381666e-03</td>\n",
       "      <td>7.929601e-01</td>\n",
       "      <td>-4.962680e-01</td>\n",
       "      <td>-4.814840e-01</td>\n",
       "    </tr>\n",
       "    <tr>\n",
       "      <th>75%</th>\n",
       "      <td>1.504852e+00</td>\n",
       "      <td>6.784179e-01</td>\n",
       "      <td>5.288822e-01</td>\n",
       "      <td>6.864645e-01</td>\n",
       "      <td>5.735772e-01</td>\n",
       "      <td>8.031456e-01</td>\n",
       "      <td>7.929601e-01</td>\n",
       "      <td>-4.962680e-01</td>\n",
       "      <td>-4.814840e-01</td>\n",
       "    </tr>\n",
       "    <tr>\n",
       "      <th>max</th>\n",
       "      <td>1.504852e+00</td>\n",
       "      <td>2.532959e+00</td>\n",
       "      <td>3.295698e+00</td>\n",
       "      <td>2.574724e+00</td>\n",
       "      <td>3.458210e+00</td>\n",
       "      <td>1.609673e+00</td>\n",
       "      <td>7.929601e-01</td>\n",
       "      <td>2.008704e+00</td>\n",
       "      <td>2.070381e+00</td>\n",
       "    </tr>\n",
       "  </tbody>\n",
       "</table>\n",
       "</div>"
      ],
      "text/plain": [
       "          cylinders  displacement    horsepower        weight  acceleration  \\\n",
       "count  3.180000e+02  3.180000e+02  3.180000e+02  3.180000e+02  3.180000e+02   \n",
       "mean   1.515210e-16 -8.937644e-17 -4.259346e-16  1.878302e-16  4.038698e-15   \n",
       "std    1.000000e+00  1.000000e+00  1.000000e+00  1.000000e+00  1.000000e+00   \n",
       "min   -1.423807e+00 -1.185732e+00 -1.518431e+00 -1.529191e+00 -2.754845e+00   \n",
       "25%   -8.380754e-01 -8.926568e-01 -7.335184e-01 -8.626429e-01 -6.468443e-01   \n",
       "50%   -8.380754e-01 -4.842734e-01 -2.364073e-01 -2.178427e-01 -3.663358e-02   \n",
       "75%    1.504852e+00  6.784179e-01  5.288822e-01  6.864645e-01  5.735772e-01   \n",
       "max    1.504852e+00  2.532959e+00  3.295698e+00  2.574724e+00  3.458210e+00   \n",
       "\n",
       "         model_year      origin_1      origin_2      origin_3  \n",
       "count  3.180000e+02  3.180000e+02  3.180000e+02  3.180000e+02  \n",
       "mean   1.012468e-16  8.518692e-17  2.269324e-17  1.169575e-16  \n",
       "std    1.000000e+00  1.000000e+00  1.000000e+00  1.000000e+00  \n",
       "min   -1.616436e+00 -1.257132e+00 -4.962680e-01 -4.814840e-01  \n",
       "25%   -8.099089e-01 -1.257132e+00 -4.962680e-01 -4.814840e-01  \n",
       "50%   -3.381666e-03  7.929601e-01 -4.962680e-01 -4.814840e-01  \n",
       "75%    8.031456e-01  7.929601e-01 -4.962680e-01 -4.814840e-01  \n",
       "max    1.609673e+00  7.929601e-01  2.008704e+00  2.070381e+00  "
      ]
     },
     "execution_count": 39,
     "metadata": {},
     "output_type": "execute_result"
    }
   ],
   "source": [
    "# put your answer here\n",
    "mean = X_train.mean(axis=0)\n",
    "X_train -= mean\n",
    "std = X_train.std(axis=0)\n",
    "X_train /= std\n",
    "\n",
    "X_test -= mean\n",
    "X_test /= std\n",
    "\n",
    "X_train.describe()"
   ]
  },
  {
   "cell_type": "markdown",
   "metadata": {
    "id": "aqDPrWx_rDOA"
   },
   "source": [
    "6.\tBuild a sequential neural network model in Keras with two densely connected hidden layers (32 neurons and ReLU activation function for each hidden layer), and an output layer that returns a single, continuous value. Print out the model summary using .summary(). **(10pt)**\n",
    "\n",
    "*   Hint: You can follow the “Classifying movie reviews” example in Lecture 6, but need to change input_shape and last layer activation function correctly in the model definition."
   ]
  },
  {
   "cell_type": "code",
   "execution_count": 40,
   "metadata": {
    "colab": {
     "base_uri": "https://localhost:8080/",
     "height": 0
    },
    "id": "c26juK7ZG8j-",
    "outputId": "9fc8c628-8ea5-479b-b5a9-b4ea51252063"
   },
   "outputs": [
    {
     "name": "stdout",
     "output_type": "stream",
     "text": [
      "Model: \"sequential_4\"\n",
      "_________________________________________________________________\n",
      " Layer (type)                Output Shape              Param #   \n",
      "=================================================================\n",
      " dense_12 (Dense)            (None, 32)                320       \n",
      "                                                                 \n",
      " dense_13 (Dense)            (None, 32)                1056      \n",
      "                                                                 \n",
      " dense_14 (Dense)            (None, 1)                 33        \n",
      "                                                                 \n",
      "=================================================================\n",
      "Total params: 1,409\n",
      "Trainable params: 1,409\n",
      "Non-trainable params: 0\n",
      "_________________________________________________________________\n"
     ]
    }
   ],
   "source": [
    "# put your answer here\n",
    "from tensorflow.keras import models\n",
    "from tensorflow.keras import layers\n",
    "\n",
    "model = models.Sequential()\n",
    "model.add(layers.Dense(32, activation='relu',input_shape=(X_train.shape[1],)))\n",
    "model.add(layers.Dense(32, activation='relu'))\n",
    "model.add(layers.Dense(1))\n",
    "model.summary()\n"
   ]
  },
  {
   "cell_type": "markdown",
   "metadata": {
    "id": "Y6P-H0ferHfJ"
   },
   "source": [
    "7.\tDefine the appropriate loss function, optimizer, and metrics for this specific problem and compile the NN model. **(10pt)**"
   ]
  },
  {
   "cell_type": "code",
   "execution_count": 42,
   "metadata": {
    "id": "UFK1JrlwPUIS"
   },
   "outputs": [],
   "source": [
    "# put your answer here\n",
    "model.compile(optimizer='rmsprop', loss='mse', metrics=['mae'])\n",
    "#model.compile(loss = 'mse', optimizer = tf.keras.optimizers.RMSprop(0.001), metrics = ['mae','mse'])"
   ]
  },
  {
   "cell_type": "markdown",
   "metadata": {
    "id": "9RWXSuCOrKpq"
   },
   "source": [
    "8.\tPut aside 20% of the normalized training data as the validation dataset by setting validation_split = 0.2 and set verbose = 0 to compress the model training status in Keras .fit(). Train the NN model for 100 epochs and batch size of 32 and plot the training and validation loss progress with respect to the epoch number. **(10pt)**\n",
    "\n",
    "* Remember to use GPU for training in Colab. Otherwise, you may find out of memory error or slow execution.   \n",
    "\n",
    "* There is no need to do K-fold cross-validation for this step. "
   ]
  },
  {
   "cell_type": "code",
   "execution_count": 19,
   "metadata": {
    "id": "3RYJw1bKP1R2"
   },
   "outputs": [],
   "source": [
    "# put your answer here\n",
    "num_val_samples = round(len(X_train)*.2)\n",
    "\n",
    "X_val = X_train[:num_val_samples]\n",
    "partial_X_train = X_train[num_val_samples:]\n",
    "\n",
    "y_val = y_train[:num_val_samples]\n",
    "partial_y_train = y_train[num_val_samples:]\n",
    "\n",
    "dataset = mod1.fit(X_train, y_train, validation_split = 0.2, epochs = 100, batch_size = 32, verbose = 0, validation_data=(X_test, y_test))"
   ]
  },
  {
   "cell_type": "code",
   "execution_count": 43,
   "metadata": {},
   "outputs": [],
   "source": [
    "dataset = model.fit(X_train, y_train, validation_split = 0.2, epochs = 100, batch_size = 32, verbose = 0, validation_data=(X_test, y_test))"
   ]
  },
  {
   "cell_type": "code",
   "execution_count": 44,
   "metadata": {},
   "outputs": [
    {
     "data": {
      "text/plain": [
       "dict_keys(['loss', 'mae', 'val_loss', 'val_mae'])"
      ]
     },
     "execution_count": 44,
     "metadata": {},
     "output_type": "execute_result"
    }
   ],
   "source": [
    "dataset_dict = dataset.history\n",
    "dataset_dict.keys()"
   ]
  },
  {
   "cell_type": "code",
   "execution_count": 45,
   "metadata": {},
   "outputs": [
    {
     "data": {
      "image/png": "[encoded data removed]",
      "text/plain": [
       "<Figure size 432x288 with 1 Axes>"
      ]
     },
     "metadata": {
      "needs_background": "light"
     },
     "output_type": "display_data"
    }
   ],
   "source": [
    "import matplotlib.pyplot as plt\n",
    "\n",
    "mae = dataset.history['mae']\n",
    "mae_val = dataset.history['val_mae']\n",
    "loss = dataset.history['loss']\n",
    "loss_val = dataset.history['val_loss']\n",
    "\n",
    "epochs = range(1, len(mae) + 1)\n",
    "\n",
    "plt.plot(epochs, loss, 'bo', label='Training loss')\n",
    "\n",
    "plt.plot(epochs, loss_val, 'b', label='Validation loss')\n",
    "\n",
    "plt.title('Training and validation loss')\n",
    "plt.xlabel('Epochs')\n",
    "plt.ylabel('Loss')\n",
    "plt.legend()\n",
    "\n",
    "plt.show()"
   ]
  },
  {
   "cell_type": "markdown",
   "metadata": {
    "id": "5xLHwWMWrV1x"
   },
   "source": [
    "9.\tUse the trained NN model to make predictions on the normalized testing dataset and observe the prediction error. **(5pt)** "
   ]
  },
  {
   "cell_type": "code",
   "execution_count": 20,
   "metadata": {
    "colab": {
     "base_uri": "https://localhost:8080/",
     "height": 0
    },
    "id": "J4QCWC-QdfVC",
    "outputId": "00ce7dd0-a1dc-41ae-d2db-62353fdcd19b"
   },
   "outputs": [
    {
     "data": {
      "text/plain": [
       "(12.776471138000488, 2.544049024581909)"
      ]
     },
     "execution_count": 20,
     "metadata": {},
     "output_type": "execute_result"
    }
   ],
   "source": [
    "# put your answer here\n",
    "model.fit(partial_X_train, partial_y_train,epochs=4, batch_size=1, verbose=0)\n",
    "val_mse, val_mae = model.evaluate(X_val, y_val, verbose=0)\n",
    "val_mse, val_mae"
   ]
  },
  {
   "cell_type": "code",
   "execution_count": null,
   "metadata": {},
   "outputs": [],
   "source": []
  }
 ],
 "metadata": {
  "accelerator": "GPU",
  "colab": {
   "collapsed_sections": [],
   "name": "Copy of IS6733-HW3.ipynb",
   "provenance": []
  },
  "kernelspec": {
   "display_name": "Python 3",
   "language": "python",
   "name": "python3"
  },
  "language_info": {
   "codemirror_mode": {
    "name": "ipython",
    "version": 3
   },
   "file_extension": ".py",
   "mimetype": "text/x-python",
   "name": "python",
   "nbconvert_exporter": "python",
   "pygments_lexer": "ipython3",
   "version": "3.8.8"
  }
 },
 "nbformat": 4,
 "nbformat_minor": 1
}
