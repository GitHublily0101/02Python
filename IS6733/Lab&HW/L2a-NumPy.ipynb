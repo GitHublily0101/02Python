{
 "cells": [
  {
   "cell_type": "markdown",
   "metadata": {
    "id": "YILii0RCfw2r"
   },
   "source": [
    "*This statement will allow us to access NumPy objects using np.X instead of numpy.X.*"
   ]
  },
  {
   "cell_type": "code",
   "execution_count": 268,
   "metadata": {
    "executionInfo": {
     "elapsed": 1058,
     "status": "ok",
     "timestamp": 1603311981112,
     "user": {
      "displayName": "Y G",
      "photoUrl": "",
      "userId": "07878066729659457808"
     },
     "user_tz": 300
    },
    "id": "n319beVvezTK"
   },
   "outputs": [],
   "source": [
    "import numpy as np"
   ]
  },
  {
   "cell_type": "markdown",
   "metadata": {
    "id": "MD6iCjHS2ex4"
   },
   "source": [
    "# ***Array Basics***"
   ]
  },
  {
   "cell_type": "markdown",
   "metadata": {
    "id": "AXZS22rDgCUx"
   },
   "source": [
    "**An array can be created from a list**"
   ]
  },
  {
   "cell_type": "code",
   "execution_count": 269,
   "metadata": {
    "colab": {
     "base_uri": "https://localhost:8080/",
     "height": 34
    },
    "executionInfo": {
     "elapsed": 1480,
     "status": "ok",
     "timestamp": 1603311981540,
     "user": {
      "displayName": "Y G",
      "photoUrl": "",
      "userId": "07878066729659457808"
     },
     "user_tz": 300
    },
    "id": "NgTWT43tgDGO",
    "outputId": "db4a776d-a7b1-4c55-85cd-da1b3de5a748"
   },
   "outputs": [
    {
     "data": {
      "text/plain": [
       "array([1., 4., 5., 8.])"
      ]
     },
     "execution_count": 269,
     "metadata": {
      "tags": []
     },
     "output_type": "execute_result"
    }
   ],
   "source": [
    "a = np.array([1, 4, 5, 8], float)\n",
    "a"
   ]
  },
  {
   "cell_type": "code",
   "execution_count": 270,
   "metadata": {
    "colab": {
     "base_uri": "https://localhost:8080/",
     "height": 34
    },
    "executionInfo": {
     "elapsed": 1473,
     "status": "ok",
     "timestamp": 1603311981540,
     "user": {
      "displayName": "Y G",
      "photoUrl": "",
      "userId": "07878066729659457808"
     },
     "user_tz": 300
    },
    "id": "p2gk4zHGikNX",
    "outputId": "c3aa8f6c-200b-4dba-8c73-40881abe56fd"
   },
   "outputs": [
    {
     "data": {
      "text/plain": [
       "numpy.ndarray"
      ]
     },
     "execution_count": 270,
     "metadata": {
      "tags": []
     },
     "output_type": "execute_result"
    }
   ],
   "source": [
    "type(a)"
   ]
  },
  {
   "cell_type": "markdown",
   "metadata": {
    "id": "8xf0PJzwi9QU"
   },
   "source": [
    "**Array elements are accessed, sliced, and manipulated just like lists:**"
   ]
  },
  {
   "cell_type": "code",
   "execution_count": 271,
   "metadata": {
    "colab": {
     "base_uri": "https://localhost:8080/",
     "height": 34
    },
    "executionInfo": {
     "elapsed": 1466,
     "status": "ok",
     "timestamp": 1603311981541,
     "user": {
      "displayName": "Y G",
      "photoUrl": "",
      "userId": "07878066729659457808"
     },
     "user_tz": 300
    },
    "id": "55S9mwgnjAaE",
    "outputId": "163fffc9-5560-41d4-e484-de62dc5005fc"
   },
   "outputs": [
    {
     "data": {
      "text/plain": [
       "array([1., 4.])"
      ]
     },
     "execution_count": 271,
     "metadata": {
      "tags": []
     },
     "output_type": "execute_result"
    }
   ],
   "source": [
    "a[:2]"
   ]
  },
  {
   "cell_type": "code",
   "execution_count": 272,
   "metadata": {
    "colab": {
     "base_uri": "https://localhost:8080/",
     "height": 34
    },
    "executionInfo": {
     "elapsed": 1458,
     "status": "ok",
     "timestamp": 1603311981541,
     "user": {
      "displayName": "Y G",
      "photoUrl": "",
      "userId": "07878066729659457808"
     },
     "user_tz": 300
    },
    "id": "6I_hEJ_Ujh3E",
    "outputId": "34f88cc2-dc7b-4eb2-eddc-236d338f951e"
   },
   "outputs": [
    {
     "data": {
      "text/plain": [
       "8.0"
      ]
     },
     "execution_count": 272,
     "metadata": {
      "tags": []
     },
     "output_type": "execute_result"
    }
   ],
   "source": [
    "a[3]"
   ]
  },
  {
   "cell_type": "code",
   "execution_count": 273,
   "metadata": {
    "executionInfo": {
     "elapsed": 1452,
     "status": "ok",
     "timestamp": 1603311981542,
     "user": {
      "displayName": "Y G",
      "photoUrl": "",
      "userId": "07878066729659457808"
     },
     "user_tz": 300
    },
    "id": "eT2XfnMBjmk8"
   },
   "outputs": [],
   "source": [
    "a[0] = 5"
   ]
  },
  {
   "cell_type": "code",
   "execution_count": 274,
   "metadata": {
    "colab": {
     "base_uri": "https://localhost:8080/",
     "height": 34
    },
    "executionInfo": {
     "elapsed": 1448,
     "status": "ok",
     "timestamp": 1603311981542,
     "user": {
      "displayName": "Y G",
      "photoUrl": "",
      "userId": "07878066729659457808"
     },
     "user_tz": 300
    },
    "id": "NPq5B30kjtwW",
    "outputId": "a33cb45e-5e19-43e6-a5b8-ce5f399e8c8b"
   },
   "outputs": [
    {
     "data": {
      "text/plain": [
       "array([5., 4., 5., 8.])"
      ]
     },
     "execution_count": 274,
     "metadata": {
      "tags": []
     },
     "output_type": "execute_result"
    }
   ],
   "source": [
    "a"
   ]
  },
  {
   "cell_type": "markdown",
   "metadata": {
    "id": "Eumskz0ij4Iv"
   },
   "source": [
    "**Arrays can be multidimensional. Unlike lists, different axes are accessed using commas inside bracket notation**"
   ]
  },
  {
   "cell_type": "code",
   "execution_count": 275,
   "metadata": {
    "colab": {
     "base_uri": "https://localhost:8080/",
     "height": 51
    },
    "executionInfo": {
     "elapsed": 1442,
     "status": "ok",
     "timestamp": 1603311981543,
     "user": {
      "displayName": "Y G",
      "photoUrl": "",
      "userId": "07878066729659457808"
     },
     "user_tz": 300
    },
    "id": "XdKubc07j6mf",
    "outputId": "e8fa6253-92d3-4bd2-fcbf-db18bca52c74"
   },
   "outputs": [
    {
     "data": {
      "text/plain": [
       "array([[1., 2., 3.],\n",
       "       [4., 5., 6.]])"
      ]
     },
     "execution_count": 275,
     "metadata": {
      "tags": []
     },
     "output_type": "execute_result"
    }
   ],
   "source": [
    "a = np.array([[1, 2, 3], [4, 5, 6]], float)\n",
    "a"
   ]
  },
  {
   "cell_type": "code",
   "execution_count": 276,
   "metadata": {
    "colab": {
     "base_uri": "https://localhost:8080/",
     "height": 34
    },
    "executionInfo": {
     "elapsed": 1437,
     "status": "ok",
     "timestamp": 1603311981544,
     "user": {
      "displayName": "Y G",
      "photoUrl": "",
      "userId": "07878066729659457808"
     },
     "user_tz": 300
    },
    "id": "JLii1oNEkgfA",
    "outputId": "5fe2655c-1851-4fd0-e755-ed14a3d76ae4"
   },
   "outputs": [
    {
     "data": {
      "text/plain": [
       "1.0"
      ]
     },
     "execution_count": 276,
     "metadata": {
      "tags": []
     },
     "output_type": "execute_result"
    }
   ],
   "source": [
    "a[0,0]"
   ]
  },
  {
   "cell_type": "code",
   "execution_count": 277,
   "metadata": {
    "colab": {
     "base_uri": "https://localhost:8080/",
     "height": 34
    },
    "executionInfo": {
     "elapsed": 1430,
     "status": "ok",
     "timestamp": 1603311981544,
     "user": {
      "displayName": "Y G",
      "photoUrl": "",
      "userId": "07878066729659457808"
     },
     "user_tz": 300
    },
    "id": "EguRkBOypqMG",
    "outputId": "3573efc7-7de5-44c3-ab4a-8fdb0e79fda3"
   },
   "outputs": [
    {
     "data": {
      "text/plain": [
       "2.0"
      ]
     },
     "execution_count": 277,
     "metadata": {
      "tags": []
     },
     "output_type": "execute_result"
    }
   ],
   "source": [
    "a[0,1]"
   ]
  },
  {
   "cell_type": "markdown",
   "metadata": {
    "id": "1_27Odyep2mm"
   },
   "source": [
    "**Array Slicing works with multiple dimensions**"
   ]
  },
  {
   "cell_type": "code",
   "execution_count": 278,
   "metadata": {
    "colab": {
     "base_uri": "https://localhost:8080/",
     "height": 34
    },
    "executionInfo": {
     "elapsed": 1424,
     "status": "ok",
     "timestamp": 1603311981545,
     "user": {
      "displayName": "Y G",
      "photoUrl": "",
      "userId": "07878066729659457808"
     },
     "user_tz": 300
    },
    "id": "sA7aQvZgp6H6",
    "outputId": "b88de032-0137-487f-e312-2b75251f5468"
   },
   "outputs": [
    {
     "data": {
      "text/plain": [
       "array([4., 5., 6.])"
      ]
     },
     "execution_count": 278,
     "metadata": {
      "tags": []
     },
     "output_type": "execute_result"
    }
   ],
   "source": [
    "a = np.array([[1, 2, 3], [4, 5, 6]], float)\n",
    "a[1,:]"
   ]
  },
  {
   "cell_type": "code",
   "execution_count": 279,
   "metadata": {
    "colab": {
     "base_uri": "https://localhost:8080/",
     "height": 34
    },
    "executionInfo": {
     "elapsed": 1417,
     "status": "ok",
     "timestamp": 1603311981545,
     "user": {
      "displayName": "Y G",
      "photoUrl": "",
      "userId": "07878066729659457808"
     },
     "user_tz": 300
    },
    "id": "3ZbtlMrQtRDP",
    "outputId": "d6493061-16e8-49f0-aac4-9456dfa4e7a5"
   },
   "outputs": [
    {
     "data": {
      "text/plain": [
       "array([3., 6.])"
      ]
     },
     "execution_count": 279,
     "metadata": {
      "tags": []
     },
     "output_type": "execute_result"
    }
   ],
   "source": [
    "a[:,2]"
   ]
  },
  {
   "cell_type": "code",
   "execution_count": 280,
   "metadata": {
    "colab": {
     "base_uri": "https://localhost:8080/",
     "height": 34
    },
    "executionInfo": {
     "elapsed": 1409,
     "status": "ok",
     "timestamp": 1603311981546,
     "user": {
      "displayName": "Y G",
      "photoUrl": "",
      "userId": "07878066729659457808"
     },
     "user_tz": 300
    },
    "id": "kULZrgg5tUxJ",
    "outputId": "53c9b605-59a7-494d-9c6e-9e96866b41b1"
   },
   "outputs": [
    {
     "data": {
      "text/plain": [
       "array([[5., 6.]])"
      ]
     },
     "execution_count": 280,
     "metadata": {
      "tags": []
     },
     "output_type": "execute_result"
    }
   ],
   "source": [
    "a[-1:,-2:]"
   ]
  },
  {
   "cell_type": "markdown",
   "metadata": {
    "id": "HVUKwNwEtb5h"
   },
   "source": [
    "**The shape property of an array returns a tuple with the size of each array dimension, and the dtype property tells you what type of values are stored by the array**"
   ]
  },
  {
   "cell_type": "code",
   "execution_count": 281,
   "metadata": {
    "colab": {
     "base_uri": "https://localhost:8080/",
     "height": 34
    },
    "executionInfo": {
     "elapsed": 1750,
     "status": "ok",
     "timestamp": 1603311981893,
     "user": {
      "displayName": "Y G",
      "photoUrl": "",
      "userId": "07878066729659457808"
     },
     "user_tz": 300
    },
    "id": "a69ed32ktdx1",
    "outputId": "bab1b692-16fc-4145-cf59-59a7d8576b92"
   },
   "outputs": [
    {
     "data": {
      "text/plain": [
       "(2, 3)"
      ]
     },
     "execution_count": 281,
     "metadata": {
      "tags": []
     },
     "output_type": "execute_result"
    }
   ],
   "source": [
    "a.shape"
   ]
  },
  {
   "cell_type": "code",
   "execution_count": 282,
   "metadata": {
    "colab": {
     "base_uri": "https://localhost:8080/",
     "height": 34
    },
    "executionInfo": {
     "elapsed": 1744,
     "status": "ok",
     "timestamp": 1603311981894,
     "user": {
      "displayName": "Y G",
      "photoUrl": "",
      "userId": "07878066729659457808"
     },
     "user_tz": 300
    },
    "id": "wdp8kLlqthEH",
    "outputId": "ec7e7ab8-11cf-4468-ee20-3083b5da2f94"
   },
   "outputs": [
    {
     "data": {
      "text/plain": [
       "dtype('float64')"
      ]
     },
     "execution_count": 282,
     "metadata": {
      "tags": []
     },
     "output_type": "execute_result"
    }
   ],
   "source": [
    "a.dtype"
   ]
  },
  {
   "cell_type": "markdown",
   "metadata": {
    "id": "PvLUPuxWtmDU"
   },
   "source": [
    "**The len function returns the length of the first axis, and the in statement can be used to test if values are present in an array**"
   ]
  },
  {
   "cell_type": "code",
   "execution_count": 283,
   "metadata": {
    "colab": {
     "base_uri": "https://localhost:8080/",
     "height": 34
    },
    "executionInfo": {
     "elapsed": 1737,
     "status": "ok",
     "timestamp": 1603311981894,
     "user": {
      "displayName": "Y G",
      "photoUrl": "",
      "userId": "07878066729659457808"
     },
     "user_tz": 300
    },
    "id": "UBdvOJlptn7L",
    "outputId": "be6e03af-e1b7-4312-8086-5604fe0aac89"
   },
   "outputs": [
    {
     "data": {
      "text/plain": [
       "2"
      ]
     },
     "execution_count": 283,
     "metadata": {
      "tags": []
     },
     "output_type": "execute_result"
    }
   ],
   "source": [
    "a = np.array([[1, 2, 3], [4, 5, 6]], float)\n",
    "len(a)"
   ]
  },
  {
   "cell_type": "code",
   "execution_count": 284,
   "metadata": {
    "colab": {
     "base_uri": "https://localhost:8080/",
     "height": 34
    },
    "executionInfo": {
     "elapsed": 1731,
     "status": "ok",
     "timestamp": 1603311981895,
     "user": {
      "displayName": "Y G",
      "photoUrl": "",
      "userId": "07878066729659457808"
     },
     "user_tz": 300
    },
    "id": "2tZC-qQDtvJq",
    "outputId": "d95854ab-d630-4a03-86a8-1c38952feb5f"
   },
   "outputs": [
    {
     "data": {
      "text/plain": [
       "True"
      ]
     },
     "execution_count": 284,
     "metadata": {
      "tags": []
     },
     "output_type": "execute_result"
    }
   ],
   "source": [
    "2 in a"
   ]
  },
  {
   "cell_type": "code",
   "execution_count": 285,
   "metadata": {
    "colab": {
     "base_uri": "https://localhost:8080/",
     "height": 34
    },
    "executionInfo": {
     "elapsed": 1723,
     "status": "ok",
     "timestamp": 1603311981895,
     "user": {
      "displayName": "Y G",
      "photoUrl": "",
      "userId": "07878066729659457808"
     },
     "user_tz": 300
    },
    "id": "BCy-MZplt_fb",
    "outputId": "7d34b49c-f1d4-4f0e-adee-e8272dd959ee"
   },
   "outputs": [
    {
     "data": {
      "text/plain": [
       "False"
      ]
     },
     "execution_count": 285,
     "metadata": {
      "tags": []
     },
     "output_type": "execute_result"
    }
   ],
   "source": [
    "0 in a"
   ]
  },
  {
   "cell_type": "markdown",
   "metadata": {
    "id": "zukoecw7uF0l"
   },
   "source": [
    "**Arrays can be reshaped using tuples that specify new dimensions**"
   ]
  },
  {
   "cell_type": "code",
   "execution_count": 286,
   "metadata": {
    "colab": {
     "base_uri": "https://localhost:8080/",
     "height": 34
    },
    "executionInfo": {
     "elapsed": 1716,
     "status": "ok",
     "timestamp": 1603311981895,
     "user": {
      "displayName": "Y G",
      "photoUrl": "",
      "userId": "07878066729659457808"
     },
     "user_tz": 300
    },
    "id": "ce2UXUI7uHWK",
    "outputId": "980229af-bda3-4832-a46f-5dfab586b7be"
   },
   "outputs": [
    {
     "data": {
      "text/plain": [
       "array([0., 1., 2., 3., 4., 5., 6., 7., 8., 9.])"
      ]
     },
     "execution_count": 286,
     "metadata": {
      "tags": []
     },
     "output_type": "execute_result"
    }
   ],
   "source": [
    "a = np.array(range(10), float)\n",
    "a"
   ]
  },
  {
   "cell_type": "code",
   "execution_count": 287,
   "metadata": {
    "colab": {
     "base_uri": "https://localhost:8080/",
     "height": 102
    },
    "executionInfo": {
     "elapsed": 1710,
     "status": "ok",
     "timestamp": 1603311981896,
     "user": {
      "displayName": "Y G",
      "photoUrl": "",
      "userId": "07878066729659457808"
     },
     "user_tz": 300
    },
    "id": "6T3ABmUhuVH0",
    "outputId": "4ad81a7a-3425-40f3-8fe4-82a9981eaa53"
   },
   "outputs": [
    {
     "data": {
      "text/plain": [
       "array([[0., 1.],\n",
       "       [2., 3.],\n",
       "       [4., 5.],\n",
       "       [6., 7.],\n",
       "       [8., 9.]])"
      ]
     },
     "execution_count": 287,
     "metadata": {
      "tags": []
     },
     "output_type": "execute_result"
    }
   ],
   "source": [
    "a = a.reshape((5,2))\n",
    "a"
   ]
  },
  {
   "cell_type": "code",
   "execution_count": 288,
   "metadata": {
    "colab": {
     "base_uri": "https://localhost:8080/",
     "height": 34
    },
    "executionInfo": {
     "elapsed": 1703,
     "status": "ok",
     "timestamp": 1603311981896,
     "user": {
      "displayName": "Y G",
      "photoUrl": "",
      "userId": "07878066729659457808"
     },
     "user_tz": 300
    },
    "id": "IJn4t0-rujRe",
    "outputId": "63ca3d0c-8ae4-4789-c794-bc23821355b4"
   },
   "outputs": [
    {
     "data": {
      "text/plain": [
       "(5, 2)"
      ]
     },
     "execution_count": 288,
     "metadata": {
      "tags": []
     },
     "output_type": "execute_result"
    }
   ],
   "source": [
    "a.shape"
   ]
  },
  {
   "cell_type": "markdown",
   "metadata": {
    "id": "eTtuePJbutzl"
   },
   "source": [
    "*Notice that the reshape function creates a new array and does not itself modify the original array.*"
   ]
  },
  {
   "cell_type": "markdown",
   "metadata": {
    "id": "ksLNEmGcu3J8"
   },
   "source": [
    "**Keep in mind that Python's name-binding approach still applies to arrays. The copy function can be used to create a new, separate copy of an array in memory if needed:**"
   ]
  },
  {
   "cell_type": "code",
   "execution_count": 289,
   "metadata": {
    "executionInfo": {
     "elapsed": 1697,
     "status": "ok",
     "timestamp": 1603311981897,
     "user": {
      "displayName": "Y G",
      "photoUrl": "",
      "userId": "07878066729659457808"
     },
     "user_tz": 300
    },
    "id": "7iQT3mpOuv_B"
   },
   "outputs": [],
   "source": [
    "a = np.array([1, 2, 3], float)\n",
    "b = a\n",
    "c = a.copy()\n",
    "a[0] = 0"
   ]
  },
  {
   "cell_type": "markdown",
   "metadata": {
    "id": "77JJRRVczAPH"
   },
   "source": []
  },
  {
   "cell_type": "code",
   "execution_count": 290,
   "metadata": {
    "colab": {
     "base_uri": "https://localhost:8080/",
     "height": 34
    },
    "executionInfo": {
     "elapsed": 1693,
     "status": "ok",
     "timestamp": 1603311981897,
     "user": {
      "displayName": "Y G",
      "photoUrl": "",
      "userId": "07878066729659457808"
     },
     "user_tz": 300
    },
    "id": "tDmTImwIuwBT",
    "outputId": "59d4bd6f-746c-4caa-fce6-4ad58f47e4b7"
   },
   "outputs": [
    {
     "data": {
      "text/plain": [
       "array([0., 2., 3.])"
      ]
     },
     "execution_count": 290,
     "metadata": {
      "tags": []
     },
     "output_type": "execute_result"
    }
   ],
   "source": [
    "a"
   ]
  },
  {
   "cell_type": "code",
   "execution_count": 291,
   "metadata": {
    "colab": {
     "base_uri": "https://localhost:8080/",
     "height": 34
    },
    "executionInfo": {
     "elapsed": 1688,
     "status": "ok",
     "timestamp": 1603311981898,
     "user": {
      "displayName": "Y G",
      "photoUrl": "",
      "userId": "07878066729659457808"
     },
     "user_tz": 300
    },
    "id": "NaSu59Rfvpzf",
    "outputId": "7750c9c0-8633-48cf-c9ad-e27a7fe9367c"
   },
   "outputs": [
    {
     "data": {
      "text/plain": [
       "array([0., 2., 3.])"
      ]
     },
     "execution_count": 291,
     "metadata": {
      "tags": []
     },
     "output_type": "execute_result"
    }
   ],
   "source": [
    "b"
   ]
  },
  {
   "cell_type": "code",
   "execution_count": 292,
   "metadata": {
    "colab": {
     "base_uri": "https://localhost:8080/",
     "height": 34
    },
    "executionInfo": {
     "elapsed": 1681,
     "status": "ok",
     "timestamp": 1603311981898,
     "user": {
      "displayName": "Y G",
      "photoUrl": "",
      "userId": "07878066729659457808"
     },
     "user_tz": 300
    },
    "id": "_89FTkEMvsxF",
    "outputId": "0b407001-9b64-408a-c7da-eed9d5d8e361"
   },
   "outputs": [
    {
     "data": {
      "text/plain": [
       "array([1., 2., 3.])"
      ]
     },
     "execution_count": 292,
     "metadata": {
      "tags": []
     },
     "output_type": "execute_result"
    }
   ],
   "source": [
    "c"
   ]
  },
  {
   "cell_type": "markdown",
   "metadata": {
    "id": "ySuX_2Kev_yK"
   },
   "source": [
    "**One can fill an array with a single value**"
   ]
  },
  {
   "cell_type": "code",
   "execution_count": 293,
   "metadata": {
    "colab": {
     "base_uri": "https://localhost:8080/",
     "height": 34
    },
    "executionInfo": {
     "elapsed": 1676,
     "status": "ok",
     "timestamp": 1603311981899,
     "user": {
      "displayName": "Y G",
      "photoUrl": "",
      "userId": "07878066729659457808"
     },
     "user_tz": 300
    },
    "id": "kUFWxhUIwC0J",
    "outputId": "ec53acd7-347b-4e32-a329-b505449302eb"
   },
   "outputs": [
    {
     "data": {
      "text/plain": [
       "array([1., 2., 3.])"
      ]
     },
     "execution_count": 293,
     "metadata": {
      "tags": []
     },
     "output_type": "execute_result"
    }
   ],
   "source": [
    "a = np.array([1, 2, 3], float)\n",
    "a"
   ]
  },
  {
   "cell_type": "code",
   "execution_count": 294,
   "metadata": {
    "colab": {
     "base_uri": "https://localhost:8080/",
     "height": 34
    },
    "executionInfo": {
     "elapsed": 1668,
     "status": "ok",
     "timestamp": 1603311981899,
     "user": {
      "displayName": "Y G",
      "photoUrl": "",
      "userId": "07878066729659457808"
     },
     "user_tz": 300
    },
    "id": "Eet2y699wNaP",
    "outputId": "d727030f-5b28-4f58-ddea-883bd1b4ce02"
   },
   "outputs": [
    {
     "data": {
      "text/plain": [
       "array([0., 0., 0.])"
      ]
     },
     "execution_count": 294,
     "metadata": {
      "tags": []
     },
     "output_type": "execute_result"
    }
   ],
   "source": [
    "a.fill(0)\n",
    "a"
   ]
  },
  {
   "cell_type": "markdown",
   "metadata": {
    "id": "pEKdYgHPwX1E"
   },
   "source": [
    "**Two or more arrays can be concatenated together using the concatenate function with a tuple of the arrays to be joined.**"
   ]
  },
  {
   "cell_type": "code",
   "execution_count": 295,
   "metadata": {
    "colab": {
     "base_uri": "https://localhost:8080/",
     "height": 34
    },
    "executionInfo": {
     "elapsed": 1662,
     "status": "ok",
     "timestamp": 1603311981900,
     "user": {
      "displayName": "Y G",
      "photoUrl": "",
      "userId": "07878066729659457808"
     },
     "user_tz": 300
    },
    "id": "aREDsZDxwbgE",
    "outputId": "1214b2c9-b1c4-4965-c692-5f392e36c071"
   },
   "outputs": [
    {
     "data": {
      "text/plain": [
       "array([1., 2., 7., 8., 9., 1., 2., 3.])"
      ]
     },
     "execution_count": 295,
     "metadata": {
      "tags": []
     },
     "output_type": "execute_result"
    }
   ],
   "source": [
    "a = np.array([1,2], float)\n",
    "b = np.array([3, 4, 5, 6], float)\n",
    "b = np.array([7, 8, 9], float)\n",
    "np.concatenate((a, b, c))"
   ]
  },
  {
   "cell_type": "code",
   "execution_count": 296,
   "metadata": {
    "colab": {
     "base_uri": "https://localhost:8080/",
     "height": 85
    },
    "executionInfo": {
     "elapsed": 1655,
     "status": "ok",
     "timestamp": 1603311981900,
     "user": {
      "displayName": "Y G",
      "photoUrl": "",
      "userId": "07878066729659457808"
     },
     "user_tz": 300
    },
    "id": "o9NGXpu0w-EC",
    "outputId": "c994328c-328f-4860-9374-3b0f77365482"
   },
   "outputs": [
    {
     "data": {
      "text/plain": [
       "array([[1., 2.],\n",
       "       [3., 4.],\n",
       "       [5., 6.],\n",
       "       [7., 8.]])"
      ]
     },
     "execution_count": 296,
     "metadata": {
      "tags": []
     },
     "output_type": "execute_result"
    }
   ],
   "source": [
    "a = np.array([[1, 2], [3, 4]], float)\n",
    "b = np.array([[5, 6], [7, 8]], float)\n",
    "np.concatenate ((a, b))"
   ]
  },
  {
   "cell_type": "code",
   "execution_count": 297,
   "metadata": {
    "colab": {
     "base_uri": "https://localhost:8080/",
     "height": 85
    },
    "executionInfo": {
     "elapsed": 1651,
     "status": "ok",
     "timestamp": 1603311981901,
     "user": {
      "displayName": "Y G",
      "photoUrl": "",
      "userId": "07878066729659457808"
     },
     "user_tz": 300
    },
    "id": "wLt6Zcpax5sz",
    "outputId": "5e8b2ce4-3b78-4264-f3a8-c28ecc443ca0"
   },
   "outputs": [
    {
     "data": {
      "text/plain": [
       "array([[1., 2.],\n",
       "       [3., 4.],\n",
       "       [5., 6.],\n",
       "       [7., 8.]])"
      ]
     },
     "execution_count": 297,
     "metadata": {
      "tags": []
     },
     "output_type": "execute_result"
    }
   ],
   "source": [
    "np.concatenate((a,b), axis=0)"
   ]
  },
  {
   "cell_type": "code",
   "execution_count": 298,
   "metadata": {
    "colab": {
     "base_uri": "https://localhost:8080/",
     "height": 51
    },
    "executionInfo": {
     "elapsed": 1645,
     "status": "ok",
     "timestamp": 1603311981901,
     "user": {
      "displayName": "Y G",
      "photoUrl": "",
      "userId": "07878066729659457808"
     },
     "user_tz": 300
    },
    "id": "ijLHFleayD4U",
    "outputId": "c12dccdb-12c8-4798-ae48-e2c40cb409b5"
   },
   "outputs": [
    {
     "data": {
      "text/plain": [
       "array([[1., 2., 5., 6.],\n",
       "       [3., 4., 7., 8.]])"
      ]
     },
     "execution_count": 298,
     "metadata": {
      "tags": []
     },
     "output_type": "execute_result"
    }
   ],
   "source": [
    "np.concatenate((a,b), axis=1)"
   ]
  },
  {
   "cell_type": "markdown",
   "metadata": {
    "id": "MGACEmK3zVQp"
   },
   "source": [
    "**The dimensionality of an array can be increased using the newaxis constant in bracket notation:**"
   ]
  },
  {
   "cell_type": "code",
   "execution_count": 299,
   "metadata": {
    "colab": {
     "base_uri": "https://localhost:8080/",
     "height": 34
    },
    "executionInfo": {
     "elapsed": 1639,
     "status": "ok",
     "timestamp": 1603311981902,
     "user": {
      "displayName": "Y G",
      "photoUrl": "",
      "userId": "07878066729659457808"
     },
     "user_tz": 300
    },
    "id": "mFTjxO2szbU8",
    "outputId": "461bf3a3-5046-4d61-910b-6e06878f0091"
   },
   "outputs": [
    {
     "data": {
      "text/plain": [
       "array([1., 2., 3.])"
      ]
     },
     "execution_count": 299,
     "metadata": {
      "tags": []
     },
     "output_type": "execute_result"
    }
   ],
   "source": [
    "a = np.array([1, 2, 3], float)\n",
    "a"
   ]
  },
  {
   "cell_type": "code",
   "execution_count": 300,
   "metadata": {
    "colab": {
     "base_uri": "https://localhost:8080/",
     "height": 68
    },
    "executionInfo": {
     "elapsed": 1751,
     "status": "ok",
     "timestamp": 1603311982020,
     "user": {
      "displayName": "Y G",
      "photoUrl": "",
      "userId": "07878066729659457808"
     },
     "user_tz": 300
    },
    "id": "mFOHOo9kzybr",
    "outputId": "e5d099fd-de7f-47dc-fe19-4aac87be23a1"
   },
   "outputs": [
    {
     "data": {
      "text/plain": [
       "array([[1.],\n",
       "       [2.],\n",
       "       [3.]])"
      ]
     },
     "execution_count": 300,
     "metadata": {
      "tags": []
     },
     "output_type": "execute_result"
    }
   ],
   "source": [
    "a[:,np.newaxis]"
   ]
  },
  {
   "cell_type": "code",
   "execution_count": 301,
   "metadata": {
    "colab": {
     "base_uri": "https://localhost:8080/",
     "height": 34
    },
    "executionInfo": {
     "elapsed": 1744,
     "status": "ok",
     "timestamp": 1603311982020,
     "user": {
      "displayName": "Y G",
      "photoUrl": "",
      "userId": "07878066729659457808"
     },
     "user_tz": 300
    },
    "id": "NYG6h3HBz65j",
    "outputId": "10dbe187-7fcd-4fc5-adf6-a23d93da8d46"
   },
   "outputs": [
    {
     "data": {
      "text/plain": [
       "(3, 1)"
      ]
     },
     "execution_count": 301,
     "metadata": {
      "tags": []
     },
     "output_type": "execute_result"
    }
   ],
   "source": [
    "a[:,np.newaxis].shape"
   ]
  },
  {
   "cell_type": "code",
   "execution_count": 302,
   "metadata": {
    "colab": {
     "base_uri": "https://localhost:8080/",
     "height": 51
    },
    "executionInfo": {
     "elapsed": 1739,
     "status": "ok",
     "timestamp": 1603311982021,
     "user": {
      "displayName": "Y G",
      "photoUrl": "",
      "userId": "07878066729659457808"
     },
     "user_tz": 300
    },
    "id": "auvw3E1k0EYp",
    "outputId": "84be5524-e9ba-4e09-c854-025a7ba446e9"
   },
   "outputs": [
    {
     "data": {
      "text/plain": [
       "array([[[5., 6.],\n",
       "        [7., 8.]]])"
      ]
     },
     "execution_count": 302,
     "metadata": {
      "tags": []
     },
     "output_type": "execute_result"
    }
   ],
   "source": [
    "b[np.newaxis,:]"
   ]
  },
  {
   "cell_type": "code",
   "execution_count": 303,
   "metadata": {
    "colab": {
     "base_uri": "https://localhost:8080/",
     "height": 34
    },
    "executionInfo": {
     "elapsed": 1733,
     "status": "ok",
     "timestamp": 1603311982021,
     "user": {
      "displayName": "Y G",
      "photoUrl": "",
      "userId": "07878066729659457808"
     },
     "user_tz": 300
    },
    "id": "pyjHE3gv1XZw",
    "outputId": "59b56ab8-d0c7-4adc-ac30-72a798dafc85"
   },
   "outputs": [
    {
     "data": {
      "text/plain": [
       "(1, 2, 2)"
      ]
     },
     "execution_count": 303,
     "metadata": {
      "tags": []
     },
     "output_type": "execute_result"
    }
   ],
   "source": [
    "b[np.newaxis,:].shape"
   ]
  },
  {
   "cell_type": "markdown",
   "metadata": {
    "id": "m9qQ3mVP2SZ-"
   },
   "source": [
    "*The newaxis approach is convenient for generating the proper dimensioned arrays for vector and matrix mathematics.*"
   ]
  },
  {
   "cell_type": "markdown",
   "metadata": {
    "id": "uMgw98zx3C6c"
   },
   "source": [
    "# ***Array Mathematics***"
   ]
  },
  {
   "cell_type": "markdown",
   "metadata": {
    "id": "C15YUfUk3SjW"
   },
   "source": [
    "**For two-dimensional arrays, multiplication remains elementwise and does not correspond to matrix multiplication.**"
   ]
  },
  {
   "cell_type": "code",
   "execution_count": 304,
   "metadata": {
    "colab": {
     "base_uri": "https://localhost:8080/",
     "height": 51
    },
    "executionInfo": {
     "elapsed": 1727,
     "status": "ok",
     "timestamp": 1603311982022,
     "user": {
      "displayName": "Y G",
      "photoUrl": "",
      "userId": "07878066729659457808"
     },
     "user_tz": 300
    },
    "id": "hb6PgD9U2VF5",
    "outputId": "8b6bb3ab-a1eb-4303-c40a-f9f4a058d1bc"
   },
   "outputs": [
    {
     "data": {
      "text/plain": [
       "array([[ 2.,  0.],\n",
       "       [ 3., 12.]])"
      ]
     },
     "execution_count": 304,
     "metadata": {
      "tags": []
     },
     "output_type": "execute_result"
    }
   ],
   "source": [
    "a = np.array([[1,2], [3,4]], float)\n",
    "b = np.array([[2,0], [1,3]], float)\n",
    "a * b"
   ]
  },
  {
   "cell_type": "markdown",
   "metadata": {
    "id": "XlUDOvaX36Uh"
   },
   "source": [
    "**For arrays that do not match in the number of dimensions, Python will broadcast them to perform mathematical operations.**"
   ]
  },
  {
   "cell_type": "code",
   "execution_count": 305,
   "metadata": {
    "colab": {
     "base_uri": "https://localhost:8080/",
     "height": 68
    },
    "executionInfo": {
     "elapsed": 1721,
     "status": "ok",
     "timestamp": 1603311982022,
     "user": {
      "displayName": "Y G",
      "photoUrl": "",
      "userId": "07878066729659457808"
     },
     "user_tz": 300
    },
    "id": "Vsd9j-RC3As2",
    "outputId": "282afb11-ebde-4ff8-adcf-efa55cb9ecdf"
   },
   "outputs": [
    {
     "data": {
      "text/plain": [
       "array([[1., 2.],\n",
       "       [3., 4.],\n",
       "       [5., 6.]])"
      ]
     },
     "execution_count": 305,
     "metadata": {
      "tags": []
     },
     "output_type": "execute_result"
    }
   ],
   "source": [
    "a = np.array([[1,2], [3,4], [5,6]], float)\n",
    "b = np.array([-1,3], float)\n",
    "a"
   ]
  },
  {
   "cell_type": "code",
   "execution_count": 306,
   "metadata": {
    "colab": {
     "base_uri": "https://localhost:8080/",
     "height": 34
    },
    "executionInfo": {
     "elapsed": 1715,
     "status": "ok",
     "timestamp": 1603311982023,
     "user": {
      "displayName": "Y G",
      "photoUrl": "",
      "userId": "07878066729659457808"
     },
     "user_tz": 300
    },
    "id": "NyGtP7gh4QHg",
    "outputId": "1437a3ca-e26b-4d00-bce1-22d6975afd35"
   },
   "outputs": [
    {
     "data": {
      "text/plain": [
       "array([-1.,  3.])"
      ]
     },
     "execution_count": 306,
     "metadata": {
      "tags": []
     },
     "output_type": "execute_result"
    }
   ],
   "source": [
    "b"
   ]
  },
  {
   "cell_type": "code",
   "execution_count": 307,
   "metadata": {
    "colab": {
     "base_uri": "https://localhost:8080/",
     "height": 68
    },
    "executionInfo": {
     "elapsed": 1708,
     "status": "ok",
     "timestamp": 1603311982023,
     "user": {
      "displayName": "Y G",
      "photoUrl": "",
      "userId": "07878066729659457808"
     },
     "user_tz": 300
    },
    "id": "VADVW9a14R8_",
    "outputId": "64ec9f46-4610-4977-b194-6d6fa983ceb6"
   },
   "outputs": [
    {
     "data": {
      "text/plain": [
       "array([[0., 5.],\n",
       "       [2., 7.],\n",
       "       [4., 9.]])"
      ]
     },
     "execution_count": 307,
     "metadata": {
      "tags": []
     },
     "output_type": "execute_result"
    }
   ],
   "source": [
    "a + b"
   ]
  },
  {
   "cell_type": "markdown",
   "metadata": {
    "id": "hXgDmkhR4yci"
   },
   "source": [
    "**In addition to the standard operators, NumPy offers a large library of common mathematical functions that can be applied elementwise to arrays**"
   ]
  },
  {
   "cell_type": "markdown",
   "metadata": {
    "id": "y1gjh9bY40sI"
   },
   "source": [
    "*abs, sign, sqrt, log, log10, exp, sin, cos, tan, arcsin, arccos, arctan, sinh, cosh, tanh, arcsinh, arccosh, arctanh, floor, ceil, rint, pi, e*"
   ]
  },
  {
   "cell_type": "markdown",
   "metadata": {
    "id": "9wyRYyy-49oA"
   },
   "source": [
    "**Iterate over arrays**"
   ]
  },
  {
   "cell_type": "code",
   "execution_count": 308,
   "metadata": {
    "colab": {
     "base_uri": "https://localhost:8080/",
     "height": 68
    },
    "executionInfo": {
     "elapsed": 1702,
     "status": "ok",
     "timestamp": 1603311982024,
     "user": {
      "displayName": "Y G",
      "photoUrl": "",
      "userId": "07878066729659457808"
     },
     "user_tz": 300
    },
    "id": "4l8AGQ_v489Q",
    "outputId": "596f6310-41b6-42d4-97da-3db6341b8e69"
   },
   "outputs": [
    {
     "name": "stdout",
     "output_type": "stream",
     "text": [
      "1\n",
      "4\n",
      "5\n"
     ]
    }
   ],
   "source": [
    "a = np.array([1, 4, 5], int)\n",
    "for x in a:\n",
    "  print (x)"
   ]
  },
  {
   "cell_type": "code",
   "execution_count": 309,
   "metadata": {
    "colab": {
     "base_uri": "https://localhost:8080/",
     "height": 68
    },
    "executionInfo": {
     "elapsed": 1696,
     "status": "ok",
     "timestamp": 1603311982024,
     "user": {
      "displayName": "Y G",
      "photoUrl": "",
      "userId": "07878066729659457808"
     },
     "user_tz": 300
    },
    "id": "A_7uTmee5vJZ",
    "outputId": "eac480e1-6069-4639-c96c-ec10919dacf3"
   },
   "outputs": [
    {
     "name": "stdout",
     "output_type": "stream",
     "text": [
      "[1. 2.]\n",
      "[3. 4.]\n",
      "[5. 6.]\n"
     ]
    }
   ],
   "source": [
    "a = np.array([[1, 2], [3, 4], [5, 6]], float)\n",
    "for x in a:\n",
    "  print(x)"
   ]
  },
  {
   "cell_type": "code",
   "execution_count": 310,
   "metadata": {
    "colab": {
     "base_uri": "https://localhost:8080/",
     "height": 68
    },
    "executionInfo": {
     "elapsed": 1690,
     "status": "ok",
     "timestamp": 1603311982025,
     "user": {
      "displayName": "Y G",
      "photoUrl": "",
      "userId": "07878066729659457808"
     },
     "user_tz": 300
    },
    "id": "01G1mpH86VsQ",
    "outputId": "02482fd9-94fb-4c5f-d9cf-db27b37db9cc"
   },
   "outputs": [
    {
     "name": "stdout",
     "output_type": "stream",
     "text": [
      "2.0\n",
      "12.0\n",
      "30.0\n"
     ]
    }
   ],
   "source": [
    "a = np.array([[1, 2], [3, 4], [5, 6]], float)\n",
    "for (x, y) in a:\n",
    "  print (x * y)"
   ]
  },
  {
   "cell_type": "markdown",
   "metadata": {
    "id": "-pULbdGh62G0"
   },
   "source": [
    "# ***Basic Array Operations***"
   ]
  },
  {
   "cell_type": "markdown",
   "metadata": {
    "id": "fkTA-toA8mg2"
   },
   "source": [
    "**Many functions exist for extracting whole-array properties**\n",
    "*   Member functions of the arrays such as *.sum()* or *.prod()*\n",
    "*   Standalone functions in the NumPy module such as *np.sum()* or *np.prod()*\n",
    "\n",
    "\n",
    "**A number of routines enable computation of statistical quantities in array datasets**\n",
    "\n",
    "*.mean(), .var(), .std(), .min(), .max(), .argmin(), .argmax()*\n"
   ]
  },
  {
   "cell_type": "markdown",
   "metadata": {
    "id": "wkSdLu299b2_"
   },
   "source": [
    "***For multidimensional arrays, each of the functions thus far described can take an optional argument axis that will perform an operation along only the specified axis***"
   ]
  },
  {
   "cell_type": "code",
   "execution_count": 311,
   "metadata": {
    "colab": {
     "base_uri": "https://localhost:8080/",
     "height": 34
    },
    "executionInfo": {
     "elapsed": 1684,
     "status": "ok",
     "timestamp": 1603311982026,
     "user": {
      "displayName": "Y G",
      "photoUrl": "",
      "userId": "07878066729659457808"
     },
     "user_tz": 300
    },
    "id": "QPzr17dp69Q6",
    "outputId": "bfbc4765-ce61-4f79-a951-5e151a134407"
   },
   "outputs": [
    {
     "data": {
      "text/plain": [
       "array([2., 2.])"
      ]
     },
     "execution_count": 311,
     "metadata": {
      "tags": []
     },
     "output_type": "execute_result"
    }
   ],
   "source": [
    "a = np.array ([[0, 2], [3, -1], [3, 5]], float)\n",
    "a.mean(axis=0)"
   ]
  },
  {
   "cell_type": "code",
   "execution_count": 312,
   "metadata": {
    "colab": {
     "base_uri": "https://localhost:8080/",
     "height": 34
    },
    "executionInfo": {
     "elapsed": 1679,
     "status": "ok",
     "timestamp": 1603311982027,
     "user": {
      "displayName": "Y G",
      "photoUrl": "",
      "userId": "07878066729659457808"
     },
     "user_tz": 300
    },
    "id": "OffSarMj9ysq",
    "outputId": "4fa37c7b-9c85-45f0-e5e7-452065f17452"
   },
   "outputs": [
    {
     "data": {
      "text/plain": [
       "array([1., 1., 4.])"
      ]
     },
     "execution_count": 312,
     "metadata": {
      "tags": []
     },
     "output_type": "execute_result"
    }
   ],
   "source": [
    "a.mean(axis=1)"
   ]
  },
  {
   "cell_type": "code",
   "execution_count": 313,
   "metadata": {
    "colab": {
     "base_uri": "https://localhost:8080/",
     "height": 34
    },
    "executionInfo": {
     "elapsed": 1672,
     "status": "ok",
     "timestamp": 1603311982027,
     "user": {
      "displayName": "Y G",
      "photoUrl": "",
      "userId": "07878066729659457808"
     },
     "user_tz": 300
    },
    "id": "SojMWjIY94yK",
    "outputId": "458a19ca-315e-4113-d5d1-878b6024532a"
   },
   "outputs": [
    {
     "data": {
      "text/plain": [
       "array([3., 5.])"
      ]
     },
     "execution_count": 313,
     "metadata": {
      "tags": []
     },
     "output_type": "execute_result"
    }
   ],
   "source": [
    "a.max(axis=0)"
   ]
  },
  {
   "cell_type": "markdown",
   "metadata": {
    "id": "MefWq3OW9_N3"
   },
   "source": [
    "**Like lists, arrays can be sorted and clipped**"
   ]
  },
  {
   "cell_type": "code",
   "execution_count": 314,
   "metadata": {
    "colab": {
     "base_uri": "https://localhost:8080/",
     "height": 34
    },
    "executionInfo": {
     "elapsed": 1667,
     "status": "ok",
     "timestamp": 1603311982028,
     "user": {
      "displayName": "Y G",
      "photoUrl": "",
      "userId": "07878066729659457808"
     },
     "user_tz": 300
    },
    "id": "9C3B5sXM-CDd",
    "outputId": "990161c7-36b9-4f62-b60f-a9e524ac92e8"
   },
   "outputs": [
    {
     "data": {
      "text/plain": [
       "[-1.0, 0.0, 2.0, 5.0, 6.0]"
      ]
     },
     "execution_count": 314,
     "metadata": {
      "tags": []
     },
     "output_type": "execute_result"
    }
   ],
   "source": [
    "a = np.array([6, 2, 5, -1, 0], float)\n",
    "sorted(a)"
   ]
  },
  {
   "cell_type": "code",
   "execution_count": 315,
   "metadata": {
    "colab": {
     "base_uri": "https://localhost:8080/",
     "height": 34
    },
    "executionInfo": {
     "elapsed": 1660,
     "status": "ok",
     "timestamp": 1603311982028,
     "user": {
      "displayName": "Y G",
      "photoUrl": "",
      "userId": "07878066729659457808"
     },
     "user_tz": 300
    },
    "id": "1rMJQuYs-R8L",
    "outputId": "c43f3779-30c1-4d0d-e5b8-28949ee21b12"
   },
   "outputs": [
    {
     "data": {
      "text/plain": [
       "array([-1.,  0.,  2.,  5.,  6.])"
      ]
     },
     "execution_count": 315,
     "metadata": {
      "tags": []
     },
     "output_type": "execute_result"
    }
   ],
   "source": [
    "a.sort()\n",
    "a"
   ]
  },
  {
   "cell_type": "code",
   "execution_count": 316,
   "metadata": {
    "colab": {
     "base_uri": "https://localhost:8080/",
     "height": 34
    },
    "executionInfo": {
     "elapsed": 1653,
     "status": "ok",
     "timestamp": 1603311982028,
     "user": {
      "displayName": "Y G",
      "photoUrl": "",
      "userId": "07878066729659457808"
     },
     "user_tz": 300
    },
    "id": "61QOmWI1-Yw2",
    "outputId": "c69b1dc7-bfc1-4163-83ea-acdd00526468"
   },
   "outputs": [
    {
     "data": {
      "text/plain": [
       "array([5., 2., 5., 0., 0.])"
      ]
     },
     "execution_count": 316,
     "metadata": {
      "tags": []
     },
     "output_type": "execute_result"
    }
   ],
   "source": [
    "a = np.array([6, 2, 5, -1, 0], float)\n",
    "a.clip(0, 5)"
   ]
  },
  {
   "cell_type": "markdown",
   "metadata": {
    "id": "46IFBoHD-jP4"
   },
   "source": [
    "**Unique elements can be extracted from an array**"
   ]
  },
  {
   "cell_type": "code",
   "execution_count": 317,
   "metadata": {
    "colab": {
     "base_uri": "https://localhost:8080/",
     "height": 34
    },
    "executionInfo": {
     "elapsed": 1843,
     "status": "ok",
     "timestamp": 1603311982224,
     "user": {
      "displayName": "Y G",
      "photoUrl": "",
      "userId": "07878066729659457808"
     },
     "user_tz": 300
    },
    "id": "myQOKTmb-lwQ",
    "outputId": "93b2a3d2-ffc0-41e7-cf6e-ef7281c61977"
   },
   "outputs": [
    {
     "data": {
      "text/plain": [
       "array([1., 4., 5., 7.])"
      ]
     },
     "execution_count": 317,
     "metadata": {
      "tags": []
     },
     "output_type": "execute_result"
    }
   ],
   "source": [
    "a = np.array([1, 1, 4, 5, 5, 5, 7], float)\n",
    "np.unique(a)"
   ]
  },
  {
   "cell_type": "markdown",
   "metadata": {
    "id": "nDFuilXf-9_h"
   },
   "source": [
    "**For two dimensional arrays, the diagonal can be extracted**"
   ]
  },
  {
   "cell_type": "code",
   "execution_count": 318,
   "metadata": {
    "colab": {
     "base_uri": "https://localhost:8080/",
     "height": 34
    },
    "executionInfo": {
     "elapsed": 1838,
     "status": "ok",
     "timestamp": 1603311982225,
     "user": {
      "displayName": "Y G",
      "photoUrl": "",
      "userId": "07878066729659457808"
     },
     "user_tz": 300
    },
    "id": "iiYVy1T__AmQ",
    "outputId": "e0802e94-837d-4098-c8a7-b5bd5bed349f"
   },
   "outputs": [
    {
     "data": {
      "text/plain": [
       "array([1., 4.])"
      ]
     },
     "execution_count": 318,
     "metadata": {
      "tags": []
     },
     "output_type": "execute_result"
    }
   ],
   "source": [
    "a = np.array([[1, 2], [3, 4]], float)\n",
    "a.diagonal()"
   ]
  },
  {
   "cell_type": "markdown",
   "metadata": {
    "id": "oq_9Xw3o_Vi-"
   },
   "source": [
    "**Comparison Operators and Value Testing**"
   ]
  },
  {
   "cell_type": "code",
   "execution_count": 319,
   "metadata": {
    "colab": {
     "base_uri": "https://localhost:8080/",
     "height": 34
    },
    "executionInfo": {
     "elapsed": 1832,
     "status": "ok",
     "timestamp": 1603311982226,
     "user": {
      "displayName": "Y G",
      "photoUrl": "",
      "userId": "07878066729659457808"
     },
     "user_tz": 300
    },
    "id": "A0ClB7Qg_XR1",
    "outputId": "4da1d083-550b-481f-ce0c-ab538c9697d5"
   },
   "outputs": [
    {
     "data": {
      "text/plain": [
       "array([ True, False, False])"
      ]
     },
     "execution_count": 319,
     "metadata": {
      "tags": []
     },
     "output_type": "execute_result"
    }
   ],
   "source": [
    "a = np.array([1, 3, 0], float)\n",
    "b = np.array([0, 3, 2], float)\n",
    "a > b"
   ]
  },
  {
   "cell_type": "code",
   "execution_count": 320,
   "metadata": {
    "colab": {
     "base_uri": "https://localhost:8080/",
     "height": 34
    },
    "executionInfo": {
     "elapsed": 1826,
     "status": "ok",
     "timestamp": 1603311982226,
     "user": {
      "displayName": "Y G",
      "photoUrl": "",
      "userId": "07878066729659457808"
     },
     "user_tz": 300
    },
    "id": "uQj_tLoMB3-x",
    "outputId": "9ec72764-01d2-4b20-9440-5a73335bffb7"
   },
   "outputs": [
    {
     "data": {
      "text/plain": [
       "array([ True, False, False])"
      ]
     },
     "execution_count": 320,
     "metadata": {
      "tags": []
     },
     "output_type": "execute_result"
    }
   ],
   "source": [
    "c = a > b\n",
    "c"
   ]
  },
  {
   "cell_type": "code",
   "execution_count": 321,
   "metadata": {
    "colab": {
     "base_uri": "https://localhost:8080/",
     "height": 34
    },
    "executionInfo": {
     "elapsed": 1819,
     "status": "ok",
     "timestamp": 1603311982227,
     "user": {
      "displayName": "Y G",
      "photoUrl": "",
      "userId": "07878066729659457808"
     },
     "user_tz": 300
    },
    "id": "NLMVBYIsB-_X",
    "outputId": "e978e5d2-1c56-48e2-81cd-bf603186f3d3"
   },
   "outputs": [
    {
     "data": {
      "text/plain": [
       "array([False,  True, False])"
      ]
     },
     "execution_count": 321,
     "metadata": {
      "tags": []
     },
     "output_type": "execute_result"
    }
   ],
   "source": [
    "a = np.array ([1, 3, 0], float)\n",
    "a > 2"
   ]
  },
  {
   "cell_type": "code",
   "execution_count": 322,
   "metadata": {
    "colab": {
     "base_uri": "https://localhost:8080/",
     "height": 34
    },
    "executionInfo": {
     "elapsed": 1812,
     "status": "ok",
     "timestamp": 1603311982227,
     "user": {
      "displayName": "Y G",
      "photoUrl": "",
      "userId": "07878066729659457808"
     },
     "user_tz": 300
    },
    "id": "UkaFKFdMClO8",
    "outputId": "9e79a5b8-8b7f-42c1-e745-9ff324ea5475"
   },
   "outputs": [
    {
     "data": {
      "text/plain": [
       "True"
      ]
     },
     "execution_count": 322,
     "metadata": {
      "tags": []
     },
     "output_type": "execute_result"
    }
   ],
   "source": [
    "c = np.array([True, False, False], bool)\n",
    "any(c)"
   ]
  },
  {
   "cell_type": "code",
   "execution_count": 323,
   "metadata": {
    "colab": {
     "base_uri": "https://localhost:8080/",
     "height": 34
    },
    "executionInfo": {
     "elapsed": 1806,
     "status": "ok",
     "timestamp": 1603311982227,
     "user": {
      "displayName": "Y G",
      "photoUrl": "",
      "userId": "07878066729659457808"
     },
     "user_tz": 300
    },
    "id": "5587MO44C1MG",
    "outputId": "33de010d-9e4e-45ff-f129-2c105a86b354"
   },
   "outputs": [
    {
     "data": {
      "text/plain": [
       "False"
      ]
     },
     "execution_count": 323,
     "metadata": {
      "tags": []
     },
     "output_type": "execute_result"
    }
   ],
   "source": [
    "all(c)"
   ]
  },
  {
   "cell_type": "code",
   "execution_count": 324,
   "metadata": {
    "colab": {
     "base_uri": "https://localhost:8080/",
     "height": 34
    },
    "executionInfo": {
     "elapsed": 1799,
     "status": "ok",
     "timestamp": 1603311982228,
     "user": {
      "displayName": "Y G",
      "photoUrl": "",
      "userId": "07878066729659457808"
     },
     "user_tz": 300
    },
    "id": "zx7kOUH-C40J",
    "outputId": "44133079-adb6-4a50-90a3-0f843ee1d648"
   },
   "outputs": [
    {
     "data": {
      "text/plain": [
       "array([ True, False, False])"
      ]
     },
     "execution_count": 324,
     "metadata": {
      "tags": []
     },
     "output_type": "execute_result"
    }
   ],
   "source": [
    "a = np.array([1, 3, 0], float)\n",
    "np.logical_and(a > 0, a < 3)"
   ]
  },
  {
   "cell_type": "code",
   "execution_count": 325,
   "metadata": {
    "colab": {
     "base_uri": "https://localhost:8080/",
     "height": 34
    },
    "executionInfo": {
     "elapsed": 1792,
     "status": "ok",
     "timestamp": 1603311982228,
     "user": {
      "displayName": "Y G",
      "photoUrl": "",
      "userId": "07878066729659457808"
     },
     "user_tz": 300
    },
    "id": "9NfHFe9kDPPZ",
    "outputId": "44d16ab6-aedf-4282-8750-f5263af5b0f0"
   },
   "outputs": [
    {
     "data": {
      "text/plain": [
       "array([False,  True, False])"
      ]
     },
     "execution_count": 325,
     "metadata": {
      "tags": []
     },
     "output_type": "execute_result"
    }
   ],
   "source": [
    "b = np.array([True, False, True], bool)\n",
    "np.logical_not(b)"
   ]
  },
  {
   "cell_type": "code",
   "execution_count": 326,
   "metadata": {
    "colab": {
     "base_uri": "https://localhost:8080/",
     "height": 34
    },
    "executionInfo": {
     "elapsed": 1786,
     "status": "ok",
     "timestamp": 1603311982229,
     "user": {
      "displayName": "Y G",
      "photoUrl": "",
      "userId": "07878066729659457808"
     },
     "user_tz": 300
    },
    "id": "K3YuwzmXDp87",
    "outputId": "47d8f094-a2b2-4d67-c9b2-a2b73610db87"
   },
   "outputs": [
    {
     "data": {
      "text/plain": [
       "array([ True,  True,  True])"
      ]
     },
     "execution_count": 326,
     "metadata": {
      "tags": []
     },
     "output_type": "execute_result"
    }
   ],
   "source": [
    "c = np.array([False, True, False], bool)\n",
    "np.logical_or(b, c)"
   ]
  },
  {
   "cell_type": "code",
   "execution_count": 327,
   "metadata": {
    "colab": {
     "base_uri": "https://localhost:8080/",
     "height": 34
    },
    "executionInfo": {
     "elapsed": 1779,
     "status": "ok",
     "timestamp": 1603311982229,
     "user": {
      "displayName": "Y G",
      "photoUrl": "",
      "userId": "07878066729659457808"
     },
     "user_tz": 300
    },
    "id": "tXFKmweKEF1J",
    "outputId": "50856330-da49-47f0-ef78-0397ec589400"
   },
   "outputs": [
    {
     "data": {
      "text/plain": [
       "(array([0, 1]), array([1, 0]))"
      ]
     },
     "execution_count": 327,
     "metadata": {
      "tags": []
     },
     "output_type": "execute_result"
    }
   ],
   "source": [
    "a = np.array([[0, 1], [3,0]], float)\n",
    "a.nonzero()"
   ]
  },
  {
   "cell_type": "code",
   "execution_count": 328,
   "metadata": {
    "colab": {
     "base_uri": "https://localhost:8080/",
     "height": 34
    },
    "executionInfo": {
     "elapsed": 1773,
     "status": "ok",
     "timestamp": 1603311982230,
     "user": {
      "displayName": "Y G",
      "photoUrl": "",
      "userId": "07878066729659457808"
     },
     "user_tz": 300
    },
    "id": "Pg0U7MugESKo",
    "outputId": "0346ad4e-fca5-4b14-f0ad-4427376ad663"
   },
   "outputs": [
    {
     "data": {
      "text/plain": [
       "array([ 1., nan, inf])"
      ]
     },
     "execution_count": 328,
     "metadata": {
      "tags": []
     },
     "output_type": "execute_result"
    }
   ],
   "source": [
    "a = np.array([1, np.NaN, np.Inf], float)\n",
    "a"
   ]
  },
  {
   "cell_type": "code",
   "execution_count": 329,
   "metadata": {
    "colab": {
     "base_uri": "https://localhost:8080/",
     "height": 34
    },
    "executionInfo": {
     "elapsed": 1891,
     "status": "ok",
     "timestamp": 1603311982354,
     "user": {
      "displayName": "Y G",
      "photoUrl": "",
      "userId": "07878066729659457808"
     },
     "user_tz": 300
    },
    "id": "ot7rv7SdEqw1",
    "outputId": "b061d421-50c0-41b9-b6ab-c06ffd386a13"
   },
   "outputs": [
    {
     "data": {
      "text/plain": [
       "array([False,  True, False])"
      ]
     },
     "execution_count": 329,
     "metadata": {
      "tags": []
     },
     "output_type": "execute_result"
    }
   ],
   "source": [
    "np.isnan(a)"
   ]
  },
  {
   "cell_type": "code",
   "execution_count": 330,
   "metadata": {
    "colab": {
     "base_uri": "https://localhost:8080/",
     "height": 34
    },
    "executionInfo": {
     "elapsed": 1885,
     "status": "ok",
     "timestamp": 1603311982355,
     "user": {
      "displayName": "Y G",
      "photoUrl": "",
      "userId": "07878066729659457808"
     },
     "user_tz": 300
    },
    "id": "AsTneViwE4VX",
    "outputId": "c6791f86-ff65-4318-ae11-cd17720e3845"
   },
   "outputs": [
    {
     "data": {
      "text/plain": [
       "array([ True, False, False])"
      ]
     },
     "execution_count": 330,
     "metadata": {
      "tags": []
     },
     "output_type": "execute_result"
    }
   ],
   "source": [
    "np.isfinite(a)"
   ]
  },
  {
   "cell_type": "markdown",
   "metadata": {
    "id": "D5zS2C7-FXSp"
   },
   "source": [
    "**Array Item Selection and Manipulation**"
   ]
  },
  {
   "cell_type": "markdown",
   "metadata": {
    "id": "qkJRZPomFcys"
   },
   "source": [
    "*Boolean arrays can be used as array selectors*"
   ]
  },
  {
   "cell_type": "code",
   "execution_count": 331,
   "metadata": {
    "colab": {
     "base_uri": "https://localhost:8080/",
     "height": 51
    },
    "executionInfo": {
     "elapsed": 1880,
     "status": "ok",
     "timestamp": 1603311982356,
     "user": {
      "displayName": "Y G",
      "photoUrl": "",
      "userId": "07878066729659457808"
     },
     "user_tz": 300
    },
    "id": "V8dTnvDPFxVs",
    "outputId": "a2976395-0b79-419e-cdae-e84fee786cf0"
   },
   "outputs": [
    {
     "data": {
      "text/plain": [
       "array([[ True, False],\n",
       "       [False,  True]])"
      ]
     },
     "execution_count": 331,
     "metadata": {
      "tags": []
     },
     "output_type": "execute_result"
    }
   ],
   "source": [
    "a = np.array([[6, 4], [5, 9 ]], float)\n",
    "a >= 6"
   ]
  },
  {
   "cell_type": "code",
   "execution_count": 332,
   "metadata": {
    "colab": {
     "base_uri": "https://localhost:8080/",
     "height": 34
    },
    "executionInfo": {
     "elapsed": 1873,
     "status": "ok",
     "timestamp": 1603311982356,
     "user": {
      "displayName": "Y G",
      "photoUrl": "",
      "userId": "07878066729659457808"
     },
     "user_tz": 300
    },
    "id": "4MFNZbunGMxq",
    "outputId": "593cd7e4-8c8f-4294-9c31-f1f7339b36f7"
   },
   "outputs": [
    {
     "data": {
      "text/plain": [
       "array([6., 9.])"
      ]
     },
     "execution_count": 332,
     "metadata": {
      "tags": []
     },
     "output_type": "execute_result"
    }
   ],
   "source": [
    "a[a >= 6]"
   ]
  },
  {
   "cell_type": "markdown",
   "metadata": {
    "id": "f-GjLycpGa4B"
   },
   "source": [
    "*Inaddition to Boolean selection, it is possible to select using integer arrays*"
   ]
  },
  {
   "cell_type": "code",
   "execution_count": 333,
   "metadata": {
    "colab": {
     "base_uri": "https://localhost:8080/",
     "height": 34
    },
    "executionInfo": {
     "elapsed": 1868,
     "status": "ok",
     "timestamp": 1603311982357,
     "user": {
      "displayName": "Y G",
      "photoUrl": "",
      "userId": "07878066729659457808"
     },
     "user_tz": 300
    },
    "id": "M3yvRIrGGmxa",
    "outputId": "1cc7cef9-32be-4628-b74d-2ebfbd9fe594"
   },
   "outputs": [
    {
     "data": {
      "text/plain": [
       "array([2., 2., 4., 8., 6., 4.])"
      ]
     },
     "execution_count": 333,
     "metadata": {
      "tags": []
     },
     "output_type": "execute_result"
    }
   ],
   "source": [
    "a = np.array([2, 4, 6, 8], float)\n",
    "b = np.array([0, 0, 1, 3, 2, 1], int)\n",
    "a[b]"
   ]
  },
  {
   "cell_type": "markdown",
   "metadata": {
    "id": "IK4pNyNvHWjG"
   },
   "source": [
    "*Lists can also be used as selection arrays*"
   ]
  },
  {
   "cell_type": "code",
   "execution_count": 334,
   "metadata": {
    "colab": {
     "base_uri": "https://localhost:8080/",
     "height": 34
    },
    "executionInfo": {
     "elapsed": 1861,
     "status": "ok",
     "timestamp": 1603311982358,
     "user": {
      "displayName": "Y G",
      "photoUrl": "",
      "userId": "07878066729659457808"
     },
     "user_tz": 300
    },
    "id": "bOWYQRWmGnkU",
    "outputId": "3229bb50-a98d-4e09-af64-34409ce2e09c"
   },
   "outputs": [
    {
     "data": {
      "text/plain": [
       "array([2., 2., 4., 8., 6., 4.])"
      ]
     },
     "execution_count": 334,
     "metadata": {
      "tags": []
     },
     "output_type": "execute_result"
    }
   ],
   "source": [
    "a = np.array([2, 4, 6, 8], float)\n",
    "a [[0, 0, 1, 3, 2, 1]]"
   ]
  },
  {
   "cell_type": "markdown",
   "metadata": {
    "id": "tZKiLiXJH-XF"
   },
   "source": [
    "**Vector and matrix Mathematics**"
   ]
  },
  {
   "cell_type": "code",
   "execution_count": 335,
   "metadata": {
    "colab": {
     "base_uri": "https://localhost:8080/",
     "height": 51
    },
    "executionInfo": {
     "elapsed": 1854,
     "status": "ok",
     "timestamp": 1603311982358,
     "user": {
      "displayName": "Y G",
      "photoUrl": "",
      "userId": "07878066729659457808"
     },
     "user_tz": 300
    },
    "id": "2eyo6qdqHyyw",
    "outputId": "696fb863-14cc-44ef-8622-924f1d1af77c"
   },
   "outputs": [
    {
     "data": {
      "text/plain": [
       "array([[0., 1.],\n",
       "       [2., 3.]])"
      ]
     },
     "execution_count": 335,
     "metadata": {
      "tags": []
     },
     "output_type": "execute_result"
    }
   ],
   "source": [
    "a = np.array([[0, 1], [2, 3]], float)\n",
    "b = np.array([2, 3], float)\n",
    "c = np.array([[1, 1], [4, 0]], float)\n",
    "a"
   ]
  },
  {
   "cell_type": "code",
   "execution_count": 336,
   "metadata": {
    "colab": {
     "base_uri": "https://localhost:8080/",
     "height": 34
    },
    "executionInfo": {
     "elapsed": 1849,
     "status": "ok",
     "timestamp": 1603311982359,
     "user": {
      "displayName": "Y G",
      "photoUrl": "",
      "userId": "07878066729659457808"
     },
     "user_tz": 300
    },
    "id": "2x0v_IqowyO1",
    "outputId": "2e267f08-f9c0-42c1-a26d-bfa51ddbd65b"
   },
   "outputs": [
    {
     "data": {
      "text/plain": [
       "array([ 6., 11.])"
      ]
     },
     "execution_count": 336,
     "metadata": {
      "tags": []
     },
     "output_type": "execute_result"
    }
   ],
   "source": [
    "np.dot(b, a)"
   ]
  },
  {
   "cell_type": "code",
   "execution_count": 337,
   "metadata": {
    "colab": {
     "base_uri": "https://localhost:8080/",
     "height": 34
    },
    "executionInfo": {
     "elapsed": 1843,
     "status": "ok",
     "timestamp": 1603311982360,
     "user": {
      "displayName": "Y G",
      "photoUrl": "",
      "userId": "07878066729659457808"
     },
     "user_tz": 300
    },
    "id": "x-N-nvWKw3ZD",
    "outputId": "ceb48b4f-a276-47e5-cf36-dcdb93d2e170"
   },
   "outputs": [
    {
     "data": {
      "text/plain": [
       "array([ 3., 13.])"
      ]
     },
     "execution_count": 337,
     "metadata": {
      "tags": []
     },
     "output_type": "execute_result"
    }
   ],
   "source": [
    "np.dot(a, b)"
   ]
  },
  {
   "cell_type": "code",
   "execution_count": 338,
   "metadata": {
    "colab": {
     "base_uri": "https://localhost:8080/",
     "height": 51
    },
    "executionInfo": {
     "elapsed": 2062,
     "status": "ok",
     "timestamp": 1603311982585,
     "user": {
      "displayName": "Y G",
      "photoUrl": "",
      "userId": "07878066729659457808"
     },
     "user_tz": 300
    },
    "id": "p7vFh37qw8JI",
    "outputId": "b7f7d376-2714-44c7-ea37-2e4ebb7b4403"
   },
   "outputs": [
    {
     "data": {
      "text/plain": [
       "array([[ 4.,  0.],\n",
       "       [14.,  2.]])"
      ]
     },
     "execution_count": 338,
     "metadata": {
      "tags": []
     },
     "output_type": "execute_result"
    }
   ],
   "source": [
    "np.dot(a, c)"
   ]
  },
  {
   "cell_type": "code",
   "execution_count": 339,
   "metadata": {
    "colab": {
     "base_uri": "https://localhost:8080/",
     "height": 51
    },
    "executionInfo": {
     "elapsed": 2055,
     "status": "ok",
     "timestamp": 1603311982585,
     "user": {
      "displayName": "Y G",
      "photoUrl": "",
      "userId": "07878066729659457808"
     },
     "user_tz": 300
    },
    "id": "ctczTlGkxCvo",
    "outputId": "87a4b3ba-5346-46a6-f622-7a2f24285a3a"
   },
   "outputs": [
    {
     "data": {
      "text/plain": [
       "array([[2., 4.],\n",
       "       [0., 4.]])"
      ]
     },
     "execution_count": 339,
     "metadata": {
      "tags": []
     },
     "output_type": "execute_result"
    }
   ],
   "source": [
    "np.dot(c, a)"
   ]
  },
  {
   "cell_type": "code",
   "execution_count": 340,
   "metadata": {
    "colab": {
     "base_uri": "https://localhost:8080/",
     "height": 68
    },
    "executionInfo": {
     "elapsed": 2049,
     "status": "ok",
     "timestamp": 1603311982586,
     "user": {
      "displayName": "Y G",
      "photoUrl": "",
      "userId": "07878066729659457808"
     },
     "user_tz": 300
    },
    "id": "5E3eDgJoxcF0",
    "outputId": "92a682c0-fa89-4931-dee7-b60103840993"
   },
   "outputs": [
    {
     "data": {
      "text/plain": [
       "array([[4., 2., 0.],\n",
       "       [9., 3., 7.],\n",
       "       [1., 2., 1.]])"
      ]
     },
     "execution_count": 340,
     "metadata": {
      "tags": []
     },
     "output_type": "execute_result"
    }
   ],
   "source": [
    "a = np.array([[4, 2, 0], [9, 3, 7], [1, 2, 1]], float)\n",
    "a"
   ]
  },
  {
   "cell_type": "code",
   "execution_count": 341,
   "metadata": {
    "colab": {
     "base_uri": "https://localhost:8080/",
     "height": 34
    },
    "executionInfo": {
     "elapsed": 2043,
     "status": "ok",
     "timestamp": 1603311982586,
     "user": {
      "displayName": "Y G",
      "photoUrl": "",
      "userId": "07878066729659457808"
     },
     "user_tz": 300
    },
    "id": "o9C1lHcjxzyH",
    "outputId": "c1d30523-99f9-49e4-f31d-fd75aae176f0"
   },
   "outputs": [
    {
     "data": {
      "text/plain": [
       "-48.00000000000003"
      ]
     },
     "execution_count": 341,
     "metadata": {
      "tags": []
     },
     "output_type": "execute_result"
    }
   ],
   "source": [
    "np.linalg.det(a)"
   ]
  },
  {
   "cell_type": "markdown",
   "metadata": {
    "id": "09nde6KryVBO"
   },
   "source": [
    "***One can find the eigenvalues and eigenvectors of a matrix***"
   ]
  },
  {
   "cell_type": "code",
   "execution_count": 342,
   "metadata": {
    "colab": {
     "base_uri": "https://localhost:8080/",
     "height": 34
    },
    "executionInfo": {
     "elapsed": 2037,
     "status": "ok",
     "timestamp": 1603311982587,
     "user": {
      "displayName": "Y G",
      "photoUrl": "",
      "userId": "07878066729659457808"
     },
     "user_tz": 300
    },
    "id": "sqkLsp7aybof",
    "outputId": "a8a72bcc-d87b-4bdd-f5a0-67596420129d"
   },
   "outputs": [
    {
     "data": {
      "text/plain": [
       "array([ 8.85591316,  1.9391628 , -2.79507597])"
      ]
     },
     "execution_count": 342,
     "metadata": {
      "tags": []
     },
     "output_type": "execute_result"
    }
   ],
   "source": [
    "vals, vecs = np.linalg.eig(a)\n",
    "vals"
   ]
  },
  {
   "cell_type": "code",
   "execution_count": 343,
   "metadata": {
    "colab": {
     "base_uri": "https://localhost:8080/",
     "height": 68
    },
    "executionInfo": {
     "elapsed": 2706,
     "status": "ok",
     "timestamp": 1603311983263,
     "user": {
      "displayName": "Y G",
      "photoUrl": "",
      "userId": "07878066729659457808"
     },
     "user_tz": 300
    },
    "id": "elu9Q4CJyolB",
    "outputId": "8b7cf523-2627-4f80-f31a-7ffe305eaa3a"
   },
   "outputs": [
    {
     "data": {
      "text/plain": [
       "array([[-0.3663565 , -0.54736745,  0.25928158],\n",
       "       [-0.88949768,  0.5640176 , -0.88091903],\n",
       "       [-0.27308752,  0.61828231,  0.39592263]])"
      ]
     },
     "execution_count": 343,
     "metadata": {
      "tags": []
     },
     "output_type": "execute_result"
    }
   ],
   "source": [
    "vecs"
   ]
  },
  {
   "cell_type": "markdown",
   "metadata": {
    "id": "bGqtBCkTy2WL"
   },
   "source": [
    "***The inverse of a matrix can be found***"
   ]
  },
  {
   "cell_type": "code",
   "execution_count": 344,
   "metadata": {
    "colab": {
     "base_uri": "https://localhost:8080/",
     "height": 68
    },
    "executionInfo": {
     "elapsed": 2700,
     "status": "ok",
     "timestamp": 1603311983264,
     "user": {
      "displayName": "Y G",
      "photoUrl": "",
      "userId": "07878066729659457808"
     },
     "user_tz": 300
    },
    "id": "xH18K7T-zBzZ",
    "outputId": "3bf6f91e-ca7e-4526-f589-6035fb7c3219"
   },
   "outputs": [
    {
     "data": {
      "text/plain": [
       "array([[ 0.22916667,  0.04166667, -0.29166667],\n",
       "       [ 0.04166667, -0.08333333,  0.58333333],\n",
       "       [-0.3125    ,  0.125     ,  0.125     ]])"
      ]
     },
     "execution_count": 344,
     "metadata": {
      "tags": []
     },
     "output_type": "execute_result"
    }
   ],
   "source": [
    "b = np.linalg.inv(a)\n",
    "b"
   ]
  },
  {
   "cell_type": "code",
   "execution_count": 345,
   "metadata": {
    "colab": {
     "base_uri": "https://localhost:8080/",
     "height": 68
    },
    "executionInfo": {
     "elapsed": 2693,
     "status": "ok",
     "timestamp": 1603311983264,
     "user": {
      "displayName": "Y G",
      "photoUrl": "",
      "userId": "07878066729659457808"
     },
     "user_tz": 300
    },
    "id": "INYf6BWCzKSM",
    "outputId": "c5e7c74d-d6d7-4773-9ed7-842e58714c24"
   },
   "outputs": [
    {
     "data": {
      "text/plain": [
       "array([[1.00000000e+00, 5.55111512e-17, 0.00000000e+00],\n",
       "       [0.00000000e+00, 1.00000000e+00, 2.22044605e-16],\n",
       "       [0.00000000e+00, 1.38777878e-17, 1.00000000e+00]])"
      ]
     },
     "execution_count": 345,
     "metadata": {
      "tags": []
     },
     "output_type": "execute_result"
    }
   ],
   "source": [
    "np.dot(a, b)"
   ]
  },
  {
   "cell_type": "markdown",
   "metadata": {
    "id": "d5XEwolUzwMm"
   },
   "source": [
    "***It is also possible to generate the inner, outer and cross products of matrices and vectors.***\n",
    "\n",
    "For vectors note that the inner product is equivalent to the dot product:"
   ]
  },
  {
   "cell_type": "code",
   "execution_count": 346,
   "metadata": {
    "colab": {
     "base_uri": "https://localhost:8080/",
     "height": 68
    },
    "executionInfo": {
     "elapsed": 2687,
     "status": "ok",
     "timestamp": 1603311983265,
     "user": {
      "displayName": "Y G",
      "photoUrl": "",
      "userId": "07878066729659457808"
     },
     "user_tz": 300
    },
    "id": "-mmmBA_d0Lae",
    "outputId": "97e255df-901f-4205-c459-f73da16de25f"
   },
   "outputs": [
    {
     "data": {
      "text/plain": [
       "array([[2., 2., 1.],\n",
       "       [8., 8., 4.],\n",
       "       [0., 0., 0.]])"
      ]
     },
     "execution_count": 346,
     "metadata": {
      "tags": []
     },
     "output_type": "execute_result"
    }
   ],
   "source": [
    "a = np.array([1, 4, 0], float)\n",
    "b = np.array([2, 2, 1], float)\n",
    "np.outer(a, b)"
   ]
  },
  {
   "cell_type": "code",
   "execution_count": 347,
   "metadata": {
    "colab": {
     "base_uri": "https://localhost:8080/",
     "height": 34
    },
    "executionInfo": {
     "elapsed": 2681,
     "status": "ok",
     "timestamp": 1603311983265,
     "user": {
      "displayName": "Y G",
      "photoUrl": "",
      "userId": "07878066729659457808"
     },
     "user_tz": 300
    },
    "id": "yM7-Qbs30cUM",
    "outputId": "da897f66-f42e-4c37-d774-db23295d585f"
   },
   "outputs": [
    {
     "data": {
      "text/plain": [
       "10.0"
      ]
     },
     "execution_count": 347,
     "metadata": {
      "tags": []
     },
     "output_type": "execute_result"
    }
   ],
   "source": [
    "np.inner(a, b)"
   ]
  },
  {
   "cell_type": "code",
   "execution_count": 348,
   "metadata": {
    "colab": {
     "base_uri": "https://localhost:8080/",
     "height": 34
    },
    "executionInfo": {
     "elapsed": 2675,
     "status": "ok",
     "timestamp": 1603311983266,
     "user": {
      "displayName": "Y G",
      "photoUrl": "",
      "userId": "07878066729659457808"
     },
     "user_tz": 300
    },
    "id": "asH5sIuh0gCZ",
    "outputId": "84acbc72-14b0-4ef3-e738-1b457f0d662e"
   },
   "outputs": [
    {
     "data": {
      "text/plain": [
       "array([ 4., -1., -6.])"
      ]
     },
     "execution_count": 348,
     "metadata": {
      "tags": []
     },
     "output_type": "execute_result"
    }
   ],
   "source": [
    "np.cross(a, b)"
   ]
  },
  {
   "cell_type": "markdown",
   "metadata": {
    "id": "bzXIOloa0xts"
   },
   "source": [
    "***The median can be found:***"
   ]
  },
  {
   "cell_type": "code",
   "execution_count": 349,
   "metadata": {
    "colab": {
     "base_uri": "https://localhost:8080/",
     "height": 34
    },
    "executionInfo": {
     "elapsed": 2668,
     "status": "ok",
     "timestamp": 1603311983266,
     "user": {
      "displayName": "Y G",
      "photoUrl": "",
      "userId": "07878066729659457808"
     },
     "user_tz": 300
    },
    "id": "dsHIdUZS01cu",
    "outputId": "e22bff26-756a-472d-812e-cfb86ab5746f"
   },
   "outputs": [
    {
     "data": {
      "text/plain": [
       "3.0"
      ]
     },
     "execution_count": 349,
     "metadata": {
      "tags": []
     },
     "output_type": "execute_result"
    }
   ],
   "source": [
    "a = np.array([1, 4, 3, 8, 9, 2, 3], float)\n",
    "np.median(a)"
   ]
  },
  {
   "cell_type": "markdown",
   "metadata": {
    "id": "J_ULSwdX1hwi"
   },
   "source": [
    "***Correlation coefficient and covariance for multiple variables observed at multiple instances can be found:***"
   ]
  },
  {
   "cell_type": "code",
   "execution_count": 350,
   "metadata": {
    "colab": {
     "base_uri": "https://localhost:8080/",
     "height": 51
    },
    "executionInfo": {
     "elapsed": 2663,
     "status": "ok",
     "timestamp": 1603311983267,
     "user": {
      "displayName": "Y G",
      "photoUrl": "",
      "userId": "07878066729659457808"
     },
     "user_tz": 300
    },
    "id": "rEqUBts_1Pxp",
    "outputId": "c43cbe85-5125-4a60-a7ea-0c43dc22a6ab"
   },
   "outputs": [
    {
     "data": {
      "text/plain": [
       "array([[1.        , 0.72870505],\n",
       "       [0.72870505, 1.        ]])"
      ]
     },
     "execution_count": 350,
     "metadata": {
      "tags": []
     },
     "output_type": "execute_result"
    }
   ],
   "source": [
    "a = np.array([[1, 2, 1, 3], [5, 3, 1, 8]], float)\n",
    "c = np.corrcoef(a)\n",
    "c"
   ]
  },
  {
   "cell_type": "code",
   "execution_count": 351,
   "metadata": {
    "colab": {
     "base_uri": "https://localhost:8080/",
     "height": 51
    },
    "executionInfo": {
     "elapsed": 2656,
     "status": "ok",
     "timestamp": 1603311983267,
     "user": {
      "displayName": "Y G",
      "photoUrl": "",
      "userId": "07878066729659457808"
     },
     "user_tz": 300
    },
    "id": "BfKasEyB18Vl",
    "outputId": "c333e131-b3b9-4a4a-e600-a2d440e83a9e"
   },
   "outputs": [
    {
     "data": {
      "text/plain": [
       "array([[0.91666667, 2.08333333],\n",
       "       [2.08333333, 8.91666667]])"
      ]
     },
     "execution_count": 351,
     "metadata": {
      "tags": []
     },
     "output_type": "execute_result"
    }
   ],
   "source": [
    "np.cov(a)"
   ]
  },
  {
   "cell_type": "markdown",
   "metadata": {
    "id": "GhpGwF6h21rJ"
   },
   "source": [
    "**Random Numbers: using the sub-module random**"
   ]
  },
  {
   "cell_type": "markdown",
   "metadata": {
    "id": "QX7NS9UH3DXk"
   },
   "source": [
    "***An array of random numbers in the half open interval [0.0, 1.0] can be generated***"
   ]
  },
  {
   "cell_type": "code",
   "execution_count": 352,
   "metadata": {
    "colab": {
     "base_uri": "https://localhost:8080/",
     "height": 34
    },
    "executionInfo": {
     "elapsed": 2651,
     "status": "ok",
     "timestamp": 1603311983268,
     "user": {
      "displayName": "Y G",
      "photoUrl": "",
      "userId": "07878066729659457808"
     },
     "user_tz": 300
    },
    "id": "7P_20Pu-25XA",
    "outputId": "513c90ea-628a-4f3a-9b0d-adc80157831d"
   },
   "outputs": [
    {
     "data": {
      "text/plain": [
       "array([0.05628964, 0.76388621, 0.040438  , 0.63322282, 0.56335605])"
      ]
     },
     "execution_count": 352,
     "metadata": {
      "tags": []
     },
     "output_type": "execute_result"
    }
   ],
   "source": [
    "np.random.rand(5)"
   ]
  },
  {
   "cell_type": "markdown",
   "metadata": {
    "id": "ulczGF4q3iPp"
   },
   "source": [
    "***The rand function can be used to generate two dimenesional random arrays, or the resize function could be employed here:***"
   ]
  },
  {
   "cell_type": "code",
   "execution_count": 353,
   "metadata": {
    "colab": {
     "base_uri": "https://localhost:8080/",
     "height": 51
    },
    "executionInfo": {
     "elapsed": 2644,
     "status": "ok",
     "timestamp": 1603311983268,
     "user": {
      "displayName": "Y G",
      "photoUrl": "",
      "userId": "07878066729659457808"
     },
     "user_tz": 300
    },
    "id": "WqS4exrH3cOZ",
    "outputId": "66182428-786a-4a4f-ebae-eb01756e44e2"
   },
   "outputs": [
    {
     "data": {
      "text/plain": [
       "array([[0.79088572, 0.78260548, 0.87265279],\n",
       "       [0.3033978 , 0.52480211, 0.84582619]])"
      ]
     },
     "execution_count": 353,
     "metadata": {
      "tags": []
     },
     "output_type": "execute_result"
    }
   ],
   "source": [
    "np.random.rand(2,3)"
   ]
  },
  {
   "cell_type": "code",
   "execution_count": 354,
   "metadata": {
    "colab": {
     "base_uri": "https://localhost:8080/",
     "height": 51
    },
    "executionInfo": {
     "elapsed": 2638,
     "status": "ok",
     "timestamp": 1603311983269,
     "user": {
      "displayName": "Y G",
      "photoUrl": "",
      "userId": "07878066729659457808"
     },
     "user_tz": 300
    },
    "id": "-Azmg1pr3yYu",
    "outputId": "1cbada94-7e94-4b78-b00b-f638b127a526"
   },
   "outputs": [
    {
     "data": {
      "text/plain": [
       "array([[0.23616659, 0.52532549, 0.54730126],\n",
       "       [0.77270141, 0.02613753, 0.43362064]])"
      ]
     },
     "execution_count": 354,
     "metadata": {
      "tags": []
     },
     "output_type": "execute_result"
    }
   ],
   "source": [
    "np.random.rand(6) .reshape((2,3))"
   ]
  },
  {
   "cell_type": "markdown",
   "metadata": {
    "id": "ELj0RAxa4Dss"
   },
   "source": [
    "***To generate a single random number in [0.0, 1.0]***"
   ]
  },
  {
   "cell_type": "code",
   "execution_count": 355,
   "metadata": {
    "colab": {
     "base_uri": "https://localhost:8080/",
     "height": 34
    },
    "executionInfo": {
     "elapsed": 2631,
     "status": "ok",
     "timestamp": 1603311983269,
     "user": {
      "displayName": "Y G",
      "photoUrl": "",
      "userId": "07878066729659457808"
     },
     "user_tz": 300
    },
    "id": "P_xfpf9a4jnJ",
    "outputId": "6a9361fb-e243-4080-9d88-855fcb1f8b3e"
   },
   "outputs": [
    {
     "data": {
      "text/plain": [
       "0.9123264392740805"
      ]
     },
     "execution_count": 355,
     "metadata": {
      "tags": []
     },
     "output_type": "execute_result"
    }
   ],
   "source": [
    "np.random.random()"
   ]
  },
  {
   "cell_type": "markdown",
   "metadata": {
    "id": "sW5xBUCQ4LaV"
   },
   "source": [
    "***To gnerate random integers in the range[min, max] use randint (min, max)***"
   ]
  },
  {
   "cell_type": "code",
   "execution_count": 356,
   "metadata": {
    "colab": {
     "base_uri": "https://localhost:8080/",
     "height": 34
    },
    "executionInfo": {
     "elapsed": 2625,
     "status": "ok",
     "timestamp": 1603311983269,
     "user": {
      "displayName": "Y G",
      "photoUrl": "",
      "userId": "07878066729659457808"
     },
     "user_tz": 300
    },
    "id": "91FNRFTc4sKH",
    "outputId": "dc40aa75-279c-48cb-9d5d-4539be110e17"
   },
   "outputs": [
    {
     "data": {
      "text/plain": [
       "8"
      ]
     },
     "execution_count": 356,
     "metadata": {
      "tags": []
     },
     "output_type": "execute_result"
    }
   ],
   "source": [
    "np.random.randint(5, 10)"
   ]
  }
 ],
 "metadata": {
  "colab": {
   "collapsed_sections": [],
   "name": "IS6733-L2a-NumPy.ipynb",
   "provenance": []
  },
  "kernelspec": {
   "display_name": "Python 3",
   "language": "python",
   "name": "python3"
  },
  "language_info": {
   "codemirror_mode": {
    "name": "ipython",
    "version": 3
   },
   "file_extension": ".py",
   "mimetype": "text/x-python",
   "name": "python",
   "nbconvert_exporter": "python",
   "pygments_lexer": "ipython3",
   "version": "3.8.8"
  }
 },
 "nbformat": 4,
 "nbformat_minor": 1
}
